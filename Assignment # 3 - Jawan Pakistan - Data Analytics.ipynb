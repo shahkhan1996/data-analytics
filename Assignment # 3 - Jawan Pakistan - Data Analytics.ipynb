{
 "cells": [
  {
   "cell_type": "markdown",
   "id": "d44468ee-0558-4629-ac65-8c50c04070ef",
   "metadata": {},
   "source": [
    "2. Write a Python program to get the Python version you are using \r\n"
   ]
  },
  {
   "cell_type": "code",
   "execution_count": 13,
   "id": "30a95446-4b8c-4555-a687-392ca84da551",
   "metadata": {},
   "outputs": [
    {
     "name": "stdout",
     "output_type": "stream",
     "text": [
      "python version is 3.12.4 | packaged by Anaconda, Inc. | (main, Jun 18 2024, 15:03:56) [MSC v.1929 64 bit (AMD64)]\n"
     ]
    }
   ],
   "source": [
    "a = sys.version\n",
    "print(\"python version is\" , a)"
   ]
  },
  {
   "cell_type": "markdown",
   "id": "6758b8b3-82b6-4503-96b5-8d7ee9402902",
   "metadata": {},
   "source": [
    "3. Write a Python program to display the current date and time. \r\n"
   ]
  },
  {
   "cell_type": "code",
   "execution_count": 30,
   "id": "87c8d425-10ba-4d6c-8e75-01c66537bc44",
   "metadata": {},
   "outputs": [
    {
     "name": "stdout",
     "output_type": "stream",
     "text": [
      "current date and time is: \n",
      "24-08-03 01:48:21\n"
     ]
    }
   ],
   "source": [
    "import datetime\n",
    "now = datetime.datetime.now()\n",
    "print(\"current date and time is: \")\n",
    "print(now.strftime(\"%y-%m-%d %H:%M:%S\"))"
   ]
  },
  {
   "cell_type": "markdown",
   "id": "ebc32ef3-f77c-4c3a-a4b9-138b92e90f57",
   "metadata": {},
   "source": [
    "4. Write a Python program which accepts the radius of a circle from the user and compute \r\n",
    "the area."
   ]
  },
  {
   "cell_type": "code",
   "execution_count": 32,
   "id": "d37a885b-dc82-4597-8e75-b1fcfa5da943",
   "metadata": {},
   "outputs": [
    {
     "name": "stdin",
     "output_type": "stream",
     "text": [
      "enter radius value:  22\n"
     ]
    },
    {
     "name": "stdout",
     "output_type": "stream",
     "text": [
      "area of circle is:  1520.728 sq units\n"
     ]
    }
   ],
   "source": [
    "radius = float(input(\"enter radius value: \"))\n",
    "pi = 3.142\n",
    "print(\"area of circle is: \", pi*radius**2, \"sq units\")\n",
    "\n",
    "               "
   ]
  },
  {
   "cell_type": "markdown",
   "id": "339bdf35-432b-458e-97f2-db06a7043dd7",
   "metadata": {},
   "source": [
    "5 .Write a Python program which accepts the user's first and last name and print them in \r\n",
    "reverse order with a space between them. "
   ]
  },
  {
   "cell_type": "code",
   "execution_count": 41,
   "id": "0996bf03-ada8-4894-b2ca-f5a452a4ad75",
   "metadata": {},
   "outputs": [
    {
     "name": "stdin",
     "output_type": "stream",
     "text": [
      "enter your first name:  Shahmir\n",
      "enter your last name:  Khan\n"
     ]
    },
    {
     "name": "stdout",
     "output_type": "stream",
     "text": [
      "Khan Shahmir\n"
     ]
    }
   ],
   "source": [
    "first_name = input(\"enter your first name: \")\n",
    "last_name = input(\"enter your last name: \")\n",
    "print(last_name,first_name)\n"
   ]
  },
  {
   "cell_type": "markdown",
   "id": "f1793c0f-018f-4304-81f1-494b10da02e9",
   "metadata": {},
   "source": [
    " \r\n",
    "6. Write a python program which takes two inputs from user and print them addition"
   ]
  },
  {
   "cell_type": "code",
   "execution_count": 42,
   "id": "e33c9b04-fa24-474f-9982-9c615d47106a",
   "metadata": {},
   "outputs": [
    {
     "name": "stdin",
     "output_type": "stream",
     "text": [
      "enter 1st num:  33\n",
      "enter 2nd num:  444\n"
     ]
    },
    {
     "name": "stdout",
     "output_type": "stream",
     "text": [
      "477\n"
     ]
    }
   ],
   "source": [
    "num1 = int(input(\"enter 1st num: \"))\n",
    "num2 = int(input(\"enter 2nd num: \"))\n",
    "sum = num1 + num2\n",
    "print(sum)\n"
   ]
  },
  {
   "cell_type": "markdown",
   "id": "5328833d-c87a-4546-9909-f55178424acc",
   "metadata": {},
   "source": [
    "7. Write a program which takes 5 inputs from user for different subject’s marks, total it \r\n",
    "and generate mark sheet using grades ? "
   ]
  },
  {
   "cell_type": "code",
   "execution_count": 108,
   "id": "30253d86-ed82-4a20-8e38-59df68ac9a25",
   "metadata": {},
   "outputs": [
    {
     "name": "stdin",
     "output_type": "stream",
     "text": [
      "enter maths marks:  33\n",
      "enter english marks:  33\n",
      "enter chemistry marks:  2\n",
      "enter physics marks:  22\n",
      "enter computer marks:  55\n"
     ]
    },
    {
     "name": "stdout",
     "output_type": "stream",
     "text": [
      "grade: A\n",
      "total marks:  145\n"
     ]
    }
   ],
   "source": [
    "maths = int(input(\"enter maths marks: \"))\n",
    "english = int(input(\"enter english marks: \"))\n",
    "chemistry = int(input(\"enter chemistry marks: \"))\n",
    "physics = int(input(\"enter physics marks: \"))\n",
    "computer = int(input(\"enter computer marks: \"))\n",
    "\n",
    "total = maths + english + chemistry + physics + computer\n",
    "if(total >= 90):\n",
    "    print(\"grade: A\")\n",
    "elif(total >= 80):\n",
    "    print(\"grade: B\")\n",
    "elif(total >= 70):\n",
    "    print(\"grade: C\")\n",
    "elif(total >= 60):\n",
    "    print(\"grade: D\")\n",
    "else:\n",
    "    print(\"failed\")\n",
    "print(\"total marks: \" , total)"
   ]
  },
  {
   "cell_type": "markdown",
   "id": "b69c3236-f783-4cfd-a296-4b7a48dd2930",
   "metadata": {},
   "source": [
    "8. Write a program which take input from user and identify that the given number is even \r\n",
    "or odd? "
   ]
  },
  {
   "cell_type": "code",
   "execution_count": 50,
   "id": "25421725-3ccc-4f19-944c-a53c810dcc56",
   "metadata": {},
   "outputs": [
    {
     "name": "stdin",
     "output_type": "stream",
     "text": [
      "enter number:  33\n"
     ]
    },
    {
     "name": "stdout",
     "output_type": "stream",
     "text": [
      "Number is odd\n"
     ]
    }
   ],
   "source": [
    "num = int(input(\"enter number: \"))\n",
    "reminder = num % 2\n",
    "\n",
    "if(reminder == 0):\n",
    "    print(\"Number is even\")\n",
    "else:\n",
    "    print(\"Number is odd\")\n"
   ]
  },
  {
   "cell_type": "markdown",
   "id": "dcc07741-f91a-4cdd-9a4e-f4f63b89a1f5",
   "metadata": {},
   "source": [
    "\r\n",
    "9. Write a program which print the length of the list?"
   ]
  },
  {
   "cell_type": "code",
   "execution_count": 53,
   "id": "d67b0b82-db54-4d55-a9f6-7e555dbe34fd",
   "metadata": {},
   "outputs": [
    {
     "name": "stdout",
     "output_type": "stream",
     "text": [
      "length is:  11\n"
     ]
    }
   ],
   "source": [
    "my_list = [2,3,4,5,6,7,\"apple\",\"ball\", True, 33.4]\n",
    "print(\"length is: \" , len(my_list))"
   ]
  },
  {
   "cell_type": "markdown",
   "id": "b631adce-d6c1-4b36-a59d-ed798066e7ce",
   "metadata": {},
   "source": [
    "10.Write a Python program to sum all the numeric items in a list? \r\n"
   ]
  },
  {
   "cell_type": "code",
   "execution_count": 88,
   "id": "ecc5f517-fbf3-4959-a590-02c591631cbf",
   "metadata": {},
   "outputs": [
    {
     "name": "stdout",
     "output_type": "stream",
     "text": [
      "Answer is:  19\n"
     ]
    }
   ],
   "source": [
    "a = [3,4,5,6,7]\n",
    "sum = a[0]+a[1]+a[2]+a[4]\n",
    "print(\"Answer is: \", sum)"
   ]
  },
  {
   "cell_type": "markdown",
   "id": "7f9a27d0-c64a-40c4-ad15-309bb145f028",
   "metadata": {},
   "source": [
    "11.Write a Python program to get the largest number from a numeric list. "
   ]
  },
  {
   "cell_type": "code",
   "execution_count": 93,
   "id": "f64f52a1-0d42-41a1-91af-85b7f8a821cb",
   "metadata": {},
   "outputs": [
    {
     "name": "stdout",
     "output_type": "stream",
     "text": [
      "largest number is:  88\n"
     ]
    }
   ],
   "source": [
    "a = [22,44,55,33,22,66,77,88,6]\n",
    "print(\"largest number is: \" , max(a))"
   ]
  },
  {
   "cell_type": "markdown",
   "id": "06078da4-f784-419f-aede-b26e5c51496e",
   "metadata": {},
   "source": [
    "12. Take a list, say for example this one: \n",
    " \n",
    "a = [1, 1, 2, 3, 5, 8, 13, 21, 34, 55, 89] \n",
    " Write a program that prints out all the elements of the list that are less than 5."
   ]
  },
  {
   "cell_type": "code",
   "execution_count": 111,
   "id": "8a736fa5-e9c6-458a-a2b2-4af2ccb0905c",
   "metadata": {},
   "outputs": [
    {
     "name": "stdout",
     "output_type": "stream",
     "text": [
      "[1, 1, 2, 3]\n"
     ]
    }
   ],
   "source": [
    "a = [1, 1, 2, 3, 5, 8, 13, 21, 34, 55, 89]\n",
    "print(a[0:4])"
   ]
  },
  {
   "cell_type": "code",
   "execution_count": null,
   "id": "cfd55ce8-1d1e-4141-834e-feb2d74a8075",
   "metadata": {},
   "outputs": [],
   "source": []
  }
 ],
 "metadata": {
  "kernelspec": {
   "display_name": "Python 3 (ipykernel)",
   "language": "python",
   "name": "python3"
  },
  "language_info": {
   "codemirror_mode": {
    "name": "ipython",
    "version": 3
   },
   "file_extension": ".py",
   "mimetype": "text/x-python",
   "name": "python",
   "nbconvert_exporter": "python",
   "pygments_lexer": "ipython3",
   "version": "3.12.4"
  }
 },
 "nbformat": 4,
 "nbformat_minor": 5
}
