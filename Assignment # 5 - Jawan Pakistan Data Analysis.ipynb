{
 "cells": [
  {
   "cell_type": "markdown",
   "id": "16bccfd0-47b8-4550-b320-588e45c51979",
   "metadata": {},
   "source": [
    "1. You need to store and manage employee records where each record includes an\n",
    "employee's ID, name, and department. (Use tuples to represent each employee record)."
   ]
  },
  {
   "cell_type": "code",
   "execution_count": 1,
   "id": "743f5b09-773f-45ff-80aa-62d93adb225b",
   "metadata": {},
   "outputs": [
    {
     "name": "stdout",
     "output_type": "stream",
     "text": [
      "('1101', 'Ali Khan', 'Finance Department')\n",
      "('1102', 'Hina Kareem', 'Marketing Department')\n",
      "('1103', 'Ahmed Khan', 'I.T Department')\n"
     ]
    }
   ],
   "source": [
    "# employee's ID, name, and department\n",
    "Emp1 = (\"1101\", \"Ali Khan\", \"Finance Department\")\n",
    "Emp2 = (\"1102\", \"Hina Kareem\", \"Marketing Department\")\n",
    "Emp3 = (\"1103\", \"Ahmed Khan\", \"I.T Department\")\n",
    "print(Emp1)\n",
    "print(Emp2)\n",
    "print(Emp3)\n"
   ]
  },
  {
   "cell_type": "markdown",
   "id": "cf40d9f4-d069-4355-a07c-8f35cfcaa323",
   "metadata": {},
   "source": [
    "2. You are managing an inventory system where each item has an item ID, description,\n",
    "and quantity available. (Use tuples to represent each inventory item)."
   ]
  },
  {
   "cell_type": "code",
   "execution_count": 2,
   "id": "69fe5f4c-1829-4898-8fdc-b5296bb670b8",
   "metadata": {},
   "outputs": [
    {
     "name": "stdout",
     "output_type": "stream",
     "text": [
      "('sr101', 'watches', '44 pics')\n",
      "('sr102', 'airbuds', '40 pics')\n",
      "('sr103', 'chargers', '101 pics')\n"
     ]
    }
   ],
   "source": [
    "# item ID, description, and quantity\n",
    "item1 = (\"sr101\", \"watches\", \"44 pics\")\n",
    "item2 = (\"sr102\", \"airbuds\", \"40 pics\")\n",
    "item3 = (\"sr103\", \"chargers\", \"101 pics\")\n",
    "print(item1)\n",
    "print(item2)\n",
    "print(item3)"
   ]
  },
  {
   "cell_type": "markdown",
   "id": "1792b106-b515-40f2-9561-17d0eef693d5",
   "metadata": {},
   "source": [
    "3. You need to store the dates and times of scheduled events, like meetings or\n",
    "appointments. (Use tuples to store date and time information)"
   ]
  },
  {
   "cell_type": "code",
   "execution_count": 5,
   "id": "42b80be7-ac1e-4688-b579-dad421bc4864",
   "metadata": {},
   "outputs": [
    {
     "name": "stdout",
     "output_type": "stream",
     "text": [
      "('2024-08-15', '09:00 AM', 'Meeting with CEO')\n",
      "('2024-08-16', '02:00 PM', \"Dentist's appointment\")\n",
      "('2024-08-17', '11:00 AM', 'Project deadline')\n"
     ]
    }
   ],
   "source": [
    "# store the dates and times of scheduled events, like meetings or appointments. (Use tuples)\n",
    "\n",
    "event1 = (\"2024-08-15\", \"09:00 AM\", \"Meeting with CEO\")\n",
    "event2 = (\"2024-08-16\", \"02:00 PM\", \"Dentist's appointment\")\n",
    "event3 = (\"2024-08-17\", \"11:00 AM\", \"Project deadline\")\n",
    "print(event1)\n",
    "print(event2)\n",
    "print(event3)\n",
    "\n"
   ]
  },
  {
   "cell_type": "markdown",
   "id": "b4d2c0dd-73bb-4ba5-b759-859de31be5e1",
   "metadata": {},
   "source": [
    "4. Store a company's employee details, organized by department. (Use dictionary in\n",
    "dictionary)."
   ]
  },
  {
   "cell_type": "code",
   "execution_count": 13,
   "id": "b0c6ad71-466e-44bc-88e5-e1d4fa96ced0",
   "metadata": {},
   "outputs": [
    {
     "name": "stdout",
     "output_type": "stream",
     "text": [
      "{'employee_name': 'Ali khan', 'age': 30, 'salary': '103.56K', 'education': 'Masters', 'department': 'finance'}\n",
      "{'employee_name': 'Ahmed khan', 'age': 29, 'salary': '106K', 'education': 'BS', 'department': 'marketing'}\n",
      "{'employee_name': 'Hina', 'age': 27, 'salary': '108K', 'education': 'BSC', 'department': 'sales'}\n"
     ]
    }
   ],
   "source": [
    "company1 = {\n",
    "    \"employee_name\" : \"Ali khan\",\n",
    "    \"age\" : 30,\n",
    "    \"salary\" : \"103.56K\",\n",
    "    \"education\" : \"Masters\",\n",
    "    \"department\" : \"finance\"\n",
    "}\n",
    "company2 = {\n",
    "    \"employee_name\" : \"Ahmed khan\",\n",
    "    \"age\" : 29,\n",
    "    \"salary\" : \"106K\",\n",
    "    \"education\" : \"BS\",\n",
    "    \"department\" : \"marketing\"\n",
    "}\n",
    "company3 = {\n",
    "    \"employee_name\" : \"Hina\",\n",
    "    \"age\" : 27,\n",
    "    \"salary\" : \"108K\",\n",
    "    \"education\" : \"BSC\",\n",
    "    \"department\" : \"sales\"\n",
    "}\n",
    "print(company1)\n",
    "print(company2)\n",
    "print(company3)"
   ]
  },
  {
   "cell_type": "markdown",
   "id": "f0bd6af2-f5b5-43bf-b887-9c7613ad0d86",
   "metadata": {},
   "source": [
    "5. Keep track of student scores in various subjects and retrieve a student's scores. (Use\n",
    "dictionary in List).`"
   ]
  },
  {
   "cell_type": "code",
   "execution_count": 39,
   "id": "d99d5856-9d8b-4931-99f8-a07b53d4352a",
   "metadata": {},
   "outputs": [
    {
     "name": "stdout",
     "output_type": "stream",
     "text": [
      "44 marks\n",
      "43 marks\n",
      "22 marks\n"
     ]
    }
   ],
   "source": [
    "#Student subject scores out of 50 marks\n",
    "student_scores = [{\n",
    "    \"ahmed khan\" : {\n",
    "    \"maths\" : 44,\n",
    "    \"english\" : 33,\n",
    "    \"urdu\" : 22,\n",
    "    \"computer\" : 45\n",
    "}\n",
    "    },{\"sameer khan\" :\n",
    "       {\n",
    "    \n",
    "    \"maths\" : 40,\n",
    "    \"english\" : 33,\n",
    "    \"urdu\" : 21,\n",
    "    \"computer\" : 43\n",
    "       }\n",
    "},{\"hina\" : {\n",
    "    \"maths\" : 49,\n",
    "    \"english\" : 39,\n",
    "    \"urdu\" : 22,\n",
    "    \"computer\" : 41\n",
    "}\n",
    "}]\n",
    "print(student_scores[0][\"ahmed khan\"][\"maths\"],\"marks\")\n",
    "print(student_scores[1][\"sameer khan\"][\"computer\"],\"marks\")\n",
    "print(student_scores[2][\"hina\"][\"urdu\"],\"marks\")\n",
    "\n"
   ]
  },
  {
   "cell_type": "markdown",
   "id": "6da45117-3306-48ed-bfe2-247cf5cb92c6",
   "metadata": {},
   "source": [
    "6. Track various projects and their associated tasks, and retrieve tasks for a specific\n",
    "project. (Use List in Dictionary)."
   ]
  },
  {
   "cell_type": "code",
   "execution_count": 46,
   "id": "63d59397-9f2a-4768-b663-2a27bf14b39f",
   "metadata": {},
   "outputs": [
    {
     "name": "stdout",
     "output_type": "stream",
     "text": [
      "create wireframe\n"
     ]
    }
   ],
   "source": [
    "projects = {\n",
    "    'web design' : [\"create wireframe\", \"homepage layout\", \"develop frontend\"],\n",
    "    'marketing campaign' : [\"plan social media strategy\", \"create ad copy\", \"setup email merketing\"],\n",
    "    'ecommerce' : [\"budget planning\", \"inventory management\", \"store setup\"]\n",
    "}\n",
    "print(projects[\"web design\"][0])"
   ]
  },
  {
   "cell_type": "markdown",
   "id": "fef367d4-5c92-41e8-9699-4dc2caf22438",
   "metadata": {},
   "source": [
    "7. Manage courses and their contents in a training program and retrieve details of a\n",
    "specific module. (dictionary in dictionary)"
   ]
  },
  {
   "cell_type": "code",
   "execution_count": 57,
   "id": "fdae1082-281b-4d3e-92b9-64bcef86fd09",
   "metadata": {},
   "outputs": [
    {
     "name": "stdout",
     "output_type": "stream",
     "text": [
      "basic to advance\n"
     ]
    }
   ],
   "source": [
    "courses = {\n",
    "    \"digital marketing\" : {\"seo\" : \"on pageand and off page seo\",\"social media marketing\" : \"meta ads, youtube ads, google ads\",\"email marketing\" : \"content and copywriting\"},\n",
    "    \"data analysis\" : {\"python\" : \"basic to advance\",\"SQL\" : \"basic to intermediate\",\"powerBI\" : \"dashboard designing\"},\n",
    "    \"graphics designing\" : {\"ui ux\" : \"figma\",\"social media posts\" : \"canva\", \"web design\" : \"dreamweaver\"}\n",
    "}\n",
    "print(courses[\"data analysis\"][\"python\"])"
   ]
  },
  {
   "cell_type": "markdown",
   "id": "7a54dbfc-8c5c-49c2-b1aa-19883dd32158",
   "metadata": {},
   "source": [
    "8.You have a list where each element is a tuple containing a product's name and its\n",
    "price. You need to find products that are below a certain price threshold. (Use unpacking\n",
    "lists of tuples)"
   ]
  },
  {
   "cell_type": "code",
   "execution_count": 95,
   "id": "1d9e9170-e457-45a9-a231-f57f3bc4882d",
   "metadata": {},
   "outputs": [
    {
     "name": "stdout",
     "output_type": "stream",
     "text": [
      "Products below $100.0:\n",
      "Product: Headphones, Price: $ 89.99\n",
      "Product: Keyboard, Price: $ 29.99\n",
      "Product: Mouse, Price: $ 19.99\n"
     ]
    }
   ],
   "source": [
    "products = [\n",
    "    (\"Laptop\", 999.99),\n",
    "    (\"Smartphone\", 499.99),\n",
    "    (\"Headphones\", 89.99),\n",
    "    (\"Keyboard\", 29.99),\n",
    "    (\"Mouse\", 19.99)\n",
    "]\n",
    "\n",
    "price_threshold = 100.00\n",
    "\n",
    "\n",
    "affordable_products = [(name, price) for (name, price) in products if price < price_threshold]\n",
    "\n",
    "print(f\"Products below ${price_threshold}:\")\n",
    "for name, price in affordable_products:\n",
    "    print(f\"Product: {name}, Price: ${price: }\")\n"
   ]
  },
  {
   "cell_type": "code",
   "execution_count": null,
   "id": "7b16e5c1-8f72-40a5-9e3b-8ce04c3413ce",
   "metadata": {},
   "outputs": [],
   "source": []
  },
  {
   "cell_type": "code",
   "execution_count": null,
   "id": "674d85ce-bb5e-4d10-8631-700c0093aad4",
   "metadata": {},
   "outputs": [],
   "source": []
  },
  {
   "cell_type": "code",
   "execution_count": null,
   "id": "45de11aa-e8b0-4ae8-9e81-e6254617e3e8",
   "metadata": {},
   "outputs": [],
   "source": []
  },
  {
   "cell_type": "code",
   "execution_count": null,
   "id": "2ce47274-3c1b-4d8b-be8a-48ef2ed47b39",
   "metadata": {},
   "outputs": [],
   "source": []
  }
 ],
 "metadata": {
  "kernelspec": {
   "display_name": "Python 3 (ipykernel)",
   "language": "python",
   "name": "python3"
  },
  "language_info": {
   "codemirror_mode": {
    "name": "ipython",
    "version": 3
   },
   "file_extension": ".py",
   "mimetype": "text/x-python",
   "name": "python",
   "nbconvert_exporter": "python",
   "pygments_lexer": "ipython3",
   "version": "3.12.4"
  }
 },
 "nbformat": 4,
 "nbformat_minor": 5
}
