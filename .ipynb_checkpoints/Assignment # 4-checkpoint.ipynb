{
 "cells": [
  {
   "cell_type": "markdown",
   "id": "a8e46f88-0570-4f57-8d34-4a3f5dfca28b",
   "metadata": {},
   "source": [
    "4-1. Guest List: If you could invite anyone, living or deceased, to dinner, who \n",
    "would you invite? Make a list that includes at least three people you’d like to \n",
    "invite to dinner. Then use your list to print a message to each person, inviting \n",
    "them to dinner."
   ]
  },
  {
   "cell_type": "code",
   "execution_count": 58,
   "id": "adde79fb-6c2e-4765-9c71-69ff6454e670",
   "metadata": {},
   "outputs": [
    {
     "name": "stdout",
     "output_type": "stream",
     "text": [
      "Dear Elon musk , I would be honored if you could join me for a dinner\n",
      "Dear Larry page , I would be honored if you could join me for a dinner\n",
      "Dear Allama Iqbal , I would be honored if you could join me for a dinner\n"
     ]
    }
   ],
   "source": [
    "guests = [\"Elon musk\", \"Larry page\", \"Allama Iqbal\"]\n",
    "b = \"Dear\"\n",
    "c = \"I would be honored if you could join me for a dinner\"\n",
    "for a in guests:\n",
    "    print(b,a,\",\",c)"
   ]
  },
  {
   "cell_type": "markdown",
   "id": "784a5b77-1241-4494-b8ff-ecdde6efeb9b",
   "metadata": {},
   "source": [
    "4-2. Changing Guest List: You just heard that one of your guests can’t make the \n",
    "dinner, so you need to send out a new set of invitations. You’ll have to think of \n",
    "someone else to invite"
   ]
  },
  {
   "cell_type": "code",
   "execution_count": 59,
   "id": "2dc0a06e-efb8-43aa-8a6f-a8bd151fb0db",
   "metadata": {},
   "outputs": [
    {
     "name": "stdout",
     "output_type": "stream",
     "text": [
      "['Elon musk', 'Allama Iqbal']\n"
     ]
    }
   ],
   "source": [
    "guests = [\"Elon musk\", \"Larry page\", \"Allama Iqbal\"]\n",
    "guests.pop(1)\n",
    "print(guests)"
   ]
  },
  {
   "cell_type": "markdown",
   "id": "66f33cf7-7bf6-42e0-b826-3b6467165a55",
   "metadata": {},
   "source": [
    "Start with your program from Exercise 4-1. Add a print statement at the \n",
    "end of your program stating the name of the guest who can’t make it. "
   ]
  },
  {
   "cell_type": "code",
   "execution_count": 62,
   "id": "427173aa-b725-4de7-b71c-f27331abb110",
   "metadata": {},
   "outputs": [
    {
     "ename": "IndentationError",
     "evalue": "expected an indented block after 'if' statement on line 5 (1454065781.py, line 6)",
     "output_type": "error",
     "traceback": [
      "\u001b[1;36m  Cell \u001b[1;32mIn[62], line 6\u001b[1;36m\u001b[0m\n\u001b[1;33m    print(\"Sorry!\" guests.[1], \"is unavailable for dinner\")\u001b[0m\n\u001b[1;37m    ^\u001b[0m\n\u001b[1;31mIndentationError\u001b[0m\u001b[1;31m:\u001b[0m expected an indented block after 'if' statement on line 5\n"
     ]
    }
   ],
   "source": [
    "guests = [\"Elon musk\", \"Larry page\", \"Allama Iqbal\"]\n",
    "b = \"Dear\"\n",
    "c = \"I would be honored if you could join me for a dinner\"\n",
    "for a in guests:\n",
    "    if(a == guests[1]):\n",
    "    print(\"Sorry!\" guests.[1], \"is unavailable for dinner\")\n",
    "print(b,a,\",\",c)"
   ]
  },
  {
   "cell_type": "markdown",
   "id": "5a61d516-9d0a-44c9-8ed0-cf1999a6d225",
   "metadata": {},
   "source": [
    "Modify your list, replacing the name of the guest who can’t make it with \n",
    "the name of the new person you are inviting. "
   ]
  },
  {
   "cell_type": "code",
   "execution_count": 51,
   "id": "30324964-ec03-4dab-adb0-15b3aa2a3e8d",
   "metadata": {},
   "outputs": [
    {
     "name": "stdout",
     "output_type": "stream",
     "text": [
      "new guest list ['Elon musk', 'atif aslam', 'Allama Iqbal']\n"
     ]
    }
   ],
   "source": [
    "guests = [\"Elon musk\", \"Larry page\", \"Allama Iqbal\"]\n",
    "guests.pop(1)\n",
    "guests.insert(1,\"atif aslam\")\n",
    "print(\"new guest list\",guests)"
   ]
  },
  {
   "cell_type": "markdown",
   "id": "fc32f50a-5287-449f-8062-6c01abae5c54",
   "metadata": {},
   "source": [
    "Print a second set of invitation messages, one for each person who is still \n",
    "in your list."
   ]
  },
  {
   "cell_type": "code",
   "execution_count": 56,
   "id": "857623d6-8387-4910-83b5-f9c483cf2dca",
   "metadata": {},
   "outputs": [
    {
     "name": "stdout",
     "output_type": "stream",
     "text": [
      "Dear Elon musk I would be honored if you could join me for a dinner\n",
      "Dear Larry page I would be honored if you could join me for a dinner\n",
      "Dear Allama Iqbal I would be honored if you could join me for a dinner\n"
     ]
    }
   ],
   "source": [
    "guests = [\"Elon musk\", \"Larry page\", \"Allama Iqbal\"]\n",
    "b = \"Dear\"\n",
    "c= \"I would be honored if you could join me for a dinner\"\n",
    "for a in guests:\n",
    "    print(b,a,c)"
   ]
  },
  {
   "cell_type": "code",
   "execution_count": null,
   "id": "900f6536-2abb-4f4e-8e0f-2599796201d5",
   "metadata": {},
   "outputs": [],
   "source": []
  }
 ],
 "metadata": {
  "kernelspec": {
   "display_name": "Python 3 (ipykernel)",
   "language": "python",
   "name": "python3"
  },
  "language_info": {
   "codemirror_mode": {
    "name": "ipython",
    "version": 3
   },
   "file_extension": ".py",
   "mimetype": "text/x-python",
   "name": "python",
   "nbconvert_exporter": "python",
   "pygments_lexer": "ipython3",
   "version": "3.12.4"
  }
 },
 "nbformat": 4,
 "nbformat_minor": 5
}
