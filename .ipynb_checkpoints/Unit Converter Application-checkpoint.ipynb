{
 "cells": [
  {
   "cell_type": "markdown",
   "id": "581eb409-a8e7-4ea7-89b0-ff33f46c6c63",
   "metadata": {},
   "source": [
    "# Measurement Unit Converter Application"
   ]
  },
  {
   "cell_type": "code",
   "execution_count": 3,
   "id": "51dcc220-bcba-458c-8f13-5c8df07c1553",
   "metadata": {},
   "outputs": [
    {
     "name": "stdout",
     "output_type": "stream",
     "text": [
      "\n",
      "Unit Converter\n",
      "1. Length\n",
      "2. Weight\n",
      "3. Temperautre\n",
      "4. Time\n",
      "5. Exit\n"
     ]
    },
    {
     "name": "stdin",
     "output_type": "stream",
     "text": [
      "Choose a category (1-5) 1\n"
     ]
    },
    {
     "name": "stdout",
     "output_type": "stream",
     "text": [
      "\n",
      "Length Conversion\n",
      "1. Meters to Kilometers\n",
      "2. Meters to Miles\n",
      "3. Meters to Centimeters\n",
      "4. Kilometers to Meters\n",
      "5. Kilometers to Miles\n",
      "6. Miles to Meters\n"
     ]
    },
    {
     "name": "stdin",
     "output_type": "stream",
     "text": [
      "Choose an option (1-7) 2\n",
      "Enter length in meters:  33\n"
     ]
    },
    {
     "name": "stdout",
     "output_type": "stream",
     "text": [
      "33.0 meters is 0.02 miles\n",
      "\n",
      "Unit Converter\n",
      "1. Length\n",
      "2. Weight\n",
      "3. Temperautre\n",
      "4. Time\n",
      "5. Exit\n"
     ]
    },
    {
     "name": "stdin",
     "output_type": "stream",
     "text": [
      "Choose a category (1-5) 3\n"
     ]
    },
    {
     "name": "stdout",
     "output_type": "stream",
     "text": [
      "\n",
      "Temperature Conversion\n",
      "1. Celsius to Fahrenheit\n",
      "2. Fahrenheit to Celsius\n"
     ]
    },
    {
     "name": "stdin",
     "output_type": "stream",
     "text": [
      "Choose an option (1-2) 2\n",
      "Enter temperature in fahrenheit:  44\n"
     ]
    },
    {
     "name": "stdout",
     "output_type": "stream",
     "text": [
      "44.0 fahrenheit is 26.22 Celsius\n",
      "\n",
      "Unit Converter\n",
      "1. Length\n",
      "2. Weight\n",
      "3. Temperautre\n",
      "4. Time\n",
      "5. Exit\n"
     ]
    },
    {
     "name": "stdin",
     "output_type": "stream",
     "text": [
      "Choose a category (1-5) 7\n"
     ]
    },
    {
     "name": "stdout",
     "output_type": "stream",
     "text": [
      "Invalid Selection. Please choose a number between (1-5)\n",
      "\n",
      "Unit Converter\n",
      "1. Length\n",
      "2. Weight\n",
      "3. Temperautre\n",
      "4. Time\n",
      "5. Exit\n"
     ]
    },
    {
     "name": "stdin",
     "output_type": "stream",
     "text": [
      "Choose a category (1-5) 4\n"
     ]
    },
    {
     "name": "stdout",
     "output_type": "stream",
     "text": [
      "\n",
      "Time Conversion\n",
      "1. Hours to Seconds\n",
      "2. Hours to Minutes\n",
      "3. Seconds to Hours\n",
      "4. Minustes to Seconds\n"
     ]
    },
    {
     "name": "stdin",
     "output_type": "stream",
     "text": [
      "Choose an option (1-4) 3\n",
      "Enter Time in seconds:  77\n"
     ]
    },
    {
     "name": "stdout",
     "output_type": "stream",
     "text": [
      "77.0 seconds is 0.02 hours\n",
      "\n",
      "Unit Converter\n",
      "1. Length\n",
      "2. Weight\n",
      "3. Temperautre\n",
      "4. Time\n",
      "5. Exit\n"
     ]
    },
    {
     "name": "stdin",
     "output_type": "stream",
     "text": [
      "Choose a category (1-5) 5\n"
     ]
    },
    {
     "name": "stdout",
     "output_type": "stream",
     "text": [
      "Exiting the application\n",
      "Thank You!\n",
      "None\n"
     ]
    }
   ],
   "source": [
    "def length_converter():\n",
    "    print(\"\\nLength Conversion\")\n",
    "    print(\"1. Meters to Kilometers\")\n",
    "    print(\"2. Meters to Miles\")\n",
    "    print(\"3. Meters to Centimeters\")\n",
    "    print(\"4. Kilometers to Meters\")\n",
    "    print(\"5. Kilometers to Miles\")\n",
    "    print(\"6. Miles to Meters\")\n",
    "\n",
    "    try:\n",
    "        select = int(input(\"Choose an option (1-7)\"))\n",
    "\n",
    "        if select == 1:\n",
    "            meters = float(input(\"Enter length in meters: \"))\n",
    "            print(f\"{meters} meters is {round(meters / 1000,2)} kilometers\")\n",
    "        elif select == 2:\n",
    "            meters = float(input(\"Enter length in meters: \"))\n",
    "            print(f\"{meters} meters is {round(meters * 0.00062137,2)} miles\")\n",
    "        elif select == 3:\n",
    "            meters = float(input(\"Enter length in meters: \"))\n",
    "            print(f\"{meters} meters is {round(meters * 100,2)} centimeters\")\n",
    "        elif select == 4:\n",
    "            kilometers = float(input(\"Enter length in kilometers: \"))\n",
    "            print(f\"{kilometers} kilometers is {round(kilometers * 1000,2)} meters\")\n",
    "        elif select == 5:\n",
    "            kilometers = float(input(\"Enter length in kilometers: \"))\n",
    "            print(f\"{kilometers} kilometers is {round(kilometers * 0.62137,2)} miles\")\n",
    "        elif select == 6:\n",
    "            miles = float(input(\"Enter length in miles: \"))\n",
    "            print(f\"{miles} miles is {round(miles * 1,609.344,2)} meters\")\n",
    "        else:\n",
    "            print(\"Invalid Selection.\")\n",
    "\n",
    "    except ValueError:\n",
    "        print(\"Invalid input, Please enter a number.\")\n",
    "\n",
    "def weight_converter():\n",
    "    print(\"\\nWeight Conversion\")\n",
    "    print(\"1. Kilograms to Pounds\")\n",
    "    print(\"2. Pounds to Kilograms\")\n",
    "    print(\"3. Grams to Kilograms\")\n",
    "\n",
    "    try:\n",
    "        select = int(input(\"Choose an option (1-3)\"))\n",
    "\n",
    "        if select == 1:\n",
    "            kilograms = float(input(\"Enter weight in kilograms: \"))\n",
    "            print(f\" {kilograms} kilograms is {round(kilograms * 2.205,4)} pounds\")\n",
    "        elif select == 2:\n",
    "            pounds = float(input(\"Enter weight in pounds: \"))\n",
    "            print(f\"{pounds} pounds is {round(pounds / 2.205,2)} kilograms\")\n",
    "        elif select == 3:\n",
    "            grams = float(input(\"Enter weight in grams: \"))\n",
    "            print(f\"{grams} grams is {round(grams / 1000,2)} kilograms\")\n",
    "        else:\n",
    "            print(\"Invalid Selection\")\n",
    "            \n",
    "    except ValueError:\n",
    "        print(\"Invalid input, Please enter a number.\")\n",
    "\n",
    "def temp_converter():\n",
    "    print(\"\\nTemperature Conversion\")\n",
    "    print(\"1. Celsius to Fahrenheit\")\n",
    "    print(\"2. Fahrenheit to Celsius\")\n",
    "\n",
    "    try:\n",
    "        select = int(input(\"Choose an option (1-2)\"))\n",
    "\n",
    "        if select == 1:\n",
    "            celsius = float(input(\"Enter temperature in celsius: \"))\n",
    "            print(f\"{celsius} celsius is {round(celsius * 9/5 + 32,2)} Fahrenheit\")\n",
    "        elif select == 2:\n",
    "            fahrenheit = float(input(\"Enter temperature in fahrenheit: \"))\n",
    "            print(f\"{fahrenheit} fahrenheit is {round(fahrenheit - 32 * 5/9,2)} Celsius\")\n",
    "        else:\n",
    "            print(\"Invalid Selection\")\n",
    "        \n",
    "    except ValueError:\n",
    "        print(\"Invalid input, Please enter a number.\")\n",
    "\n",
    "def time_converter():\n",
    "    print(\"\\nTime Conversion\")\n",
    "    print(\"1. Hours to Seconds\")\n",
    "    print(\"2. Hours to Minutes\")\n",
    "    print(\"3. Seconds to Hours\")\n",
    "    print(\"4. Minustes to Seconds\")\n",
    "\n",
    "    try:\n",
    "        select = int(input(\"Choose an option (1-4)\"))\n",
    "\n",
    "        if select == 1:\n",
    "            hours = float(input(\"Enter Time in hours: \"))\n",
    "            print(f\"{hours} hours is {hours * 3600} seconds\")\n",
    "        elif select == 2:\n",
    "            hours = float(input(\"Enter Time in hours: \"))\n",
    "            print(f\"{hours} hours is {hours * 60} minutes\")\n",
    "        elif select == 3:\n",
    "            seconds = float(input(\"Enter Time in seconds: \"))\n",
    "            print(f\"{seconds} seconds is {round(seconds / 3600,2)} hours\") \n",
    "        elif select == 4:\n",
    "            minutes = float(input(\"Enter Time in minutes: \"))\n",
    "            print(f\"{minutes} minutes is {round(minutes * 60,2)} seconds\")\n",
    "        else:\n",
    "            print(\"Invalid Selection\")\n",
    "    except ValueError:\n",
    "        print(\"Invalid input, Please enter a number.\")\n",
    "\n",
    "def converter():\n",
    "    while True:\n",
    "        print(\"\\nUnit Converter\")\n",
    "        print(\"1. Length\")\n",
    "        print(\"2. Weight\")\n",
    "        print(\"3. Temperautre\")\n",
    "        print(\"4. Time\")\n",
    "        print(\"5. Exit\")\n",
    "\n",
    "        try:\n",
    "            select = int(input(\"Choose a category (1-5)\"))\n",
    "\n",
    "            if select == 1:\n",
    "                    length_converter()\n",
    "            elif select == 2:\n",
    "                weight_converter()\n",
    "            elif select == 3:\n",
    "                temp_converter()\n",
    "            elif select == 4:\n",
    "                time_converter()\n",
    "            elif select == 5:\n",
    "                print(\"Exiting the application\\nThank You!\")\n",
    "                break\n",
    "            else:\n",
    "                print(\"Invalid Selection. Please choose a number between (1-5)\")\n",
    "                \n",
    "        except ValueError:\n",
    "                print(\"Invalid input. Please enter a number between 1 and 5.\")\n",
    "\n",
    "\n",
    "\n",
    "print(converter())"
   ]
  },
  {
   "cell_type": "markdown",
   "id": "94169396-8074-41ff-b3ff-346a90176909",
   "metadata": {
    "jp-MarkdownHeadingCollapsed": true
   },
   "source": []
  },
  {
   "cell_type": "code",
   "execution_count": null,
   "id": "dee22b93-3b6a-4035-91bf-9c62c5330a7f",
   "metadata": {},
   "outputs": [],
   "source": []
  },
  {
   "cell_type": "code",
   "execution_count": null,
   "id": "be7e9aca-99f5-4cd4-8ca5-47c33eca9242",
   "metadata": {},
   "outputs": [],
   "source": []
  }
 ],
 "metadata": {
  "kernelspec": {
   "display_name": "Python 3 (ipykernel)",
   "language": "python",
   "name": "python3"
  },
  "language_info": {
   "codemirror_mode": {
    "name": "ipython",
    "version": 3
   },
   "file_extension": ".py",
   "mimetype": "text/x-python",
   "name": "python",
   "nbconvert_exporter": "python",
   "pygments_lexer": "ipython3",
   "version": "3.12.4"
  }
 },
 "nbformat": 4,
 "nbformat_minor": 5
}
