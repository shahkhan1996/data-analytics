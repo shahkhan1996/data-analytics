{
 "cells": [
  {
   "cell_type": "markdown",
   "id": "3e4c4568-d607-48d9-bff2-daad1b0aa9ce",
   "metadata": {},
   "source": [
    "# for loop"
   ]
  },
  {
   "cell_type": "code",
   "execution_count": 15,
   "id": "59c9a50b-ed1e-44fb-ac77-494ea09ea4e7",
   "metadata": {},
   "outputs": [
    {
     "name": "stdout",
     "output_type": "stream",
     "text": [
      "karachi\n",
      "hyderabad\n",
      "islamabad\n",
      "quetta\n",
      "lahore\n"
     ]
    }
   ],
   "source": [
    "cities = ['karachi','hyderabad', 'islamabad', 'quetta','lahore']\n",
    "\n",
    "for city in cities:\n",
    "    print(city)"
   ]
  },
  {
   "cell_type": "code",
   "execution_count": 7,
   "id": "7f5bfe08-4936-4ce2-8436-67836ee6cd4c",
   "metadata": {},
   "outputs": [
    {
     "name": "stdout",
     "output_type": "stream",
     "text": [
      "karachi\n",
      "hyderabad\n",
      "quetta\n",
      "lahore\n",
      "islamabad\n"
     ]
    }
   ],
   "source": [
    "print(cities[0])\n",
    "print(cities[1])\n",
    "print(cities[2])\n",
    "print(cities[3])\n",
    "print(cities[4])"
   ]
  },
  {
   "cell_type": "code",
   "execution_count": 9,
   "id": "7c8feab8-3a14-4b35-a0a3-fba4a0eeb87a",
   "metadata": {},
   "outputs": [
    {
     "name": "stdout",
     "output_type": "stream",
     "text": [
      "that's my city\n"
     ]
    }
   ],
   "source": [
    "if cities[0] == 'islamabad':\n",
    "    print(\"that's my city\")\n",
    "elif cities[1] == 'islamabad':\n",
    "    print(\"that's my city\")\n",
    "elif cities[2] == 'islamabad':\n",
    "    print(\"that's my city\")\n",
    "elif cities[3] == 'islamabad':\n",
    "    print(\"that's my city\")\n",
    "elif cities[4] == 'islamabad':\n",
    "    print(\"that's my city\")\n",
    "else:\n",
    "    print(\"my city not in the list\")"
   ]
  },
  {
   "cell_type": "code",
   "execution_count": 23,
   "id": "4466bb2a-e40c-4199-a136-e8f756054570",
   "metadata": {},
   "outputs": [
    {
     "name": "stdout",
     "output_type": "stream",
     "text": [
      "5\n",
      "karachi: that is not my city\n",
      "hyderabad: that is not my city\n",
      "islamabad: that is my city\n"
     ]
    }
   ],
   "source": [
    "print(len(cities))\n",
    "\n",
    "for city in cities:\n",
    "    if city == 'islamabad':\n",
    "        print(city + ': that is my city')\n",
    "        break\n",
    "    else:\n",
    "        print(city + ': that is not my city')"
   ]
  },
  {
   "cell_type": "code",
   "execution_count": null,
   "id": "e386929a-7719-470b-a721-d981decc3527",
   "metadata": {},
   "outputs": [],
   "source": []
  },
  {
   "cell_type": "code",
   "execution_count": 25,
   "id": "8641d20b-e84f-460b-bcc2-9259b37dd57e",
   "metadata": {},
   "outputs": [
    {
     "name": "stdout",
     "output_type": "stream",
     "text": [
      "I'm Happy\n",
      "I'm Happy\n",
      "I'm Happy\n",
      "I'm Happy\n",
      "I'm Happy\n",
      "I'm Happy\n",
      "I'm Happy\n",
      "I'm Happy\n",
      "I'm Happy\n",
      "I'm Happy\n"
     ]
    }
   ],
   "source": [
    "for i in range(10):\n",
    "    print('''I'm Happy''')"
   ]
  },
  {
   "cell_type": "code",
   "execution_count": 29,
   "id": "f3ca5494-1c50-4053-ab4f-87840bfa3b8d",
   "metadata": {},
   "outputs": [
    {
     "name": "stdout",
     "output_type": "stream",
     "text": [
      "0: I'm Happy\n",
      "1: I'm Happy\n",
      "2: I'm Happy\n",
      "3: I'm Happy\n",
      "4: I'm Happy\n",
      "5: I'm Happy\n",
      "6: I'm Happy\n",
      "7: I'm Happy\n",
      "8: I'm Happy\n",
      "9: I'm Happy\n"
     ]
    }
   ],
   "source": [
    "for i in range(10):\n",
    "    print(str(i) + ''': I'm Happy''')"
   ]
  },
  {
   "cell_type": "code",
   "execution_count": 31,
   "id": "9ddd50e7-b026-4fdc-a376-7390b46eae69",
   "metadata": {},
   "outputs": [
    {
     "name": "stdout",
     "output_type": "stream",
     "text": [
      "51: I'm Happy\n",
      "52: I'm Happy\n",
      "53: I'm Happy\n",
      "54: I'm Happy\n",
      "55: I'm Happy\n",
      "56: I'm Happy\n",
      "57: I'm Happy\n",
      "58: I'm Happy\n",
      "59: I'm Happy\n",
      "60: I'm Happy\n",
      "61: I'm Happy\n",
      "62: I'm Happy\n",
      "63: I'm Happy\n",
      "64: I'm Happy\n",
      "65: I'm Happy\n",
      "66: I'm Happy\n",
      "67: I'm Happy\n",
      "68: I'm Happy\n",
      "69: I'm Happy\n",
      "70: I'm Happy\n"
     ]
    }
   ],
   "source": [
    "for i in range(51,71):\n",
    "    print(str(i) + ''': I'm Happy''')"
   ]
  },
  {
   "cell_type": "code",
   "execution_count": 35,
   "id": "56086fd1-6790-4785-8b46-b9adf31f23e3",
   "metadata": {},
   "outputs": [
    {
     "name": "stdout",
     "output_type": "stream",
     "text": [
      "51: I'm Happy\n",
      "54: I'm Happy\n",
      "57: I'm Happy\n",
      "60: I'm Happy\n",
      "63: I'm Happy\n",
      "66: I'm Happy\n",
      "69: I'm Happy\n"
     ]
    }
   ],
   "source": [
    "for i in range(51,71,3):\n",
    "    print(str(i) + ''': I'm Happy''')"
   ]
  },
  {
   "cell_type": "code",
   "execution_count": 39,
   "id": "e3d65dcb-ad0e-4d1c-8b88-bac1b54c5115",
   "metadata": {},
   "outputs": [
    {
     "name": "stdout",
     "output_type": "stream",
     "text": [
      "0 : karachi\n",
      "1 : hyderabad\n",
      "2 : islamabad\n",
      "3 : quetta\n",
      "4 : lahore\n"
     ]
    }
   ],
   "source": [
    "for ind, city in enumerate(cities):\n",
    "    print(f'{ind} : {city}')"
   ]
  },
  {
   "cell_type": "code",
   "execution_count": 41,
   "id": "08a75355-49d2-4726-9a75-f87d2b82c9be",
   "metadata": {},
   "outputs": [
    {
     "ename": "TypeError",
     "evalue": "unsupported operand type(s) for +: 'int' and 'str'",
     "output_type": "error",
     "traceback": [
      "\u001b[1;31m---------------------------------------------------------------------------\u001b[0m",
      "\u001b[1;31mTypeError\u001b[0m                                 Traceback (most recent call last)",
      "Cell \u001b[1;32mIn[41], line 2\u001b[0m\n\u001b[0;32m      1\u001b[0m \u001b[38;5;28;01mfor\u001b[39;00m ind, city \u001b[38;5;129;01min\u001b[39;00m \u001b[38;5;28menumerate\u001b[39m(cities):\n\u001b[1;32m----> 2\u001b[0m     \u001b[38;5;28mprint\u001b[39m(ind \u001b[38;5;241m+\u001b[39m \u001b[38;5;124m\"\u001b[39m\u001b[38;5;124m : \u001b[39m\u001b[38;5;124m\"\u001b[39m \u001b[38;5;241m+\u001b[39m city)\n",
      "\u001b[1;31mTypeError\u001b[0m: unsupported operand type(s) for +: 'int' and 'str'"
     ]
    }
   ],
   "source": [
    "for ind, city in enumerate(cities):\n",
    "    print(ind + \" : \" + city)"
   ]
  },
  {
   "cell_type": "code",
   "execution_count": 43,
   "id": "d2fb8289-7964-4dfa-a639-f5e246c0f4b6",
   "metadata": {},
   "outputs": [
    {
     "name": "stdout",
     "output_type": "stream",
     "text": [
      "0 : karachi\n",
      "1 : hyderabad\n",
      "2 : islamabad\n",
      "3 : quetta\n",
      "4 : lahore\n"
     ]
    }
   ],
   "source": [
    "for ind, city in enumerate(cities):\n",
    "    print(str(ind) + \" : \" + city)"
   ]
  },
  {
   "cell_type": "code",
   "execution_count": 53,
   "id": "8089c30e-40eb-433d-80b0-c7338477fd81",
   "metadata": {},
   "outputs": [
    {
     "name": "stdout",
     "output_type": "stream",
     "text": [
      "[40, 45, 50, 55, 60, 65, 70, 75, 80]\n"
     ]
    }
   ],
   "source": [
    "numbers = list(range(40,81,5))\n",
    "print(numbers)"
   ]
  },
  {
   "cell_type": "markdown",
   "id": "b56db5a2-96ba-4ee5-9dcb-1bc977fc1a8a",
   "metadata": {},
   "source": [
    "# Nested for loop"
   ]
  },
  {
   "cell_type": "code",
   "execution_count": 55,
   "id": "434f9161-525a-469b-b813-5611da97a8a4",
   "metadata": {},
   "outputs": [
    {
     "data": {
      "text/plain": [
       "['karachi', 'hyderabad', 'islamabad', 'quetta', 'lahore']"
      ]
     },
     "execution_count": 55,
     "metadata": {},
     "output_type": "execute_result"
    }
   ],
   "source": [
    "cities"
   ]
  },
  {
   "cell_type": "code",
   "execution_count": 63,
   "id": "74efacd7-ac5e-4bc4-80db-61050a984105",
   "metadata": {},
   "outputs": [
    {
     "data": {
      "text/plain": [
       "['islamabad', 'multan', 'faisalabad', 'quetta', 'peshawar']"
      ]
     },
     "execution_count": 63,
     "metadata": {},
     "output_type": "execute_result"
    }
   ],
   "source": [
    "visited_cities = ['islamabad', 'multan','faisalabad','quetta','peshawar']\n",
    "visited_cities"
   ]
  },
  {
   "cell_type": "code",
   "execution_count": 61,
   "id": "edc94cd8-b5ec-4550-a45c-2a51b274a99e",
   "metadata": {
    "scrolled": true
   },
   "outputs": [
    {
     "name": "stdout",
     "output_type": "stream",
     "text": [
      "karachi pindi bathian\n",
      "karachi multan\n",
      "karachi faisalabad\n",
      "karachi quetta\n",
      "karachi peshawar\n",
      "hyderabad pindi bathian\n",
      "hyderabad multan\n",
      "hyderabad faisalabad\n",
      "hyderabad quetta\n",
      "hyderabad peshawar\n",
      "islamabad pindi bathian\n",
      "islamabad multan\n",
      "islamabad faisalabad\n",
      "islamabad quetta\n",
      "islamabad peshawar\n",
      "quetta pindi bathian\n",
      "quetta multan\n",
      "quetta faisalabad\n",
      "quetta quetta\n",
      "quetta peshawar\n",
      "lahore pindi bathian\n",
      "lahore multan\n",
      "lahore faisalabad\n",
      "lahore quetta\n",
      "lahore peshawar\n"
     ]
    }
   ],
   "source": [
    "for city in cities:\n",
    "    for visited_city in visited_cities:\n",
    "        print(city, visited_city)"
   ]
  },
  {
   "cell_type": "code",
   "execution_count": 65,
   "id": "cc9f3b33-8421-417f-be34-14ec832a265e",
   "metadata": {},
   "outputs": [
    {
     "data": {
      "text/plain": [
       "['islamabad', 'multan', 'faisalabad', 'quetta', 'peshawar']"
      ]
     },
     "execution_count": 65,
     "metadata": {},
     "output_type": "execute_result"
    }
   ],
   "source": [
    "visited_cities"
   ]
  },
  {
   "cell_type": "code",
   "execution_count": 67,
   "id": "67076249-9857-4232-988b-f16cb030efec",
   "metadata": {},
   "outputs": [
    {
     "data": {
      "text/plain": [
       "['karachi', 'hyderabad', 'islamabad', 'quetta', 'lahore']"
      ]
     },
     "execution_count": 67,
     "metadata": {},
     "output_type": "execute_result"
    }
   ],
   "source": [
    "cities"
   ]
  },
  {
   "cell_type": "code",
   "execution_count": 79,
   "id": "0b9d91aa-3f42-4b3a-b7ac-e63640d4225e",
   "metadata": {},
   "outputs": [
    {
     "name": "stdout",
     "output_type": "stream",
     "text": [
      "['karachi']\n",
      "['karachi', 'hyderabad']\n",
      "already visited\n",
      "['karachi', 'hyderabad']\n",
      "already visited\n",
      "['karachi', 'hyderabad']\n",
      "['karachi', 'hyderabad', 'lahore']\n"
     ]
    }
   ],
   "source": [
    "remaining_cities_visit = []\n",
    "\n",
    "for city in cities:\n",
    "    if city in visited_cities:\n",
    "        print('already visited')\n",
    "    else:\n",
    "        remaining_cities_visit.append(city)\n",
    "    print(remaining_cities_visit)"
   ]
  },
  {
   "cell_type": "code",
   "execution_count": 75,
   "id": "bc13fab4-abbc-420b-b0b7-f3411bcfff4b",
   "metadata": {},
   "outputs": [
    {
     "name": "stdout",
     "output_type": "stream",
     "text": [
      "not ok\n"
     ]
    }
   ],
   "source": [
    "if 'rachi' in cities:\n",
    "    print(\"ok\")\n",
    "else:\n",
    "    print(\"not ok\")"
   ]
  },
  {
   "cell_type": "code",
   "execution_count": 87,
   "id": "64eb56e4-e0b5-41c2-87a8-de637a108c62",
   "metadata": {},
   "outputs": [
    {
     "name": "stdout",
     "output_type": "stream",
     "text": [
      "name nouroz\n",
      "age 27\n",
      "education master\n",
      "name\n",
      "age\n",
      "education\n",
      "nouroz\n",
      "27\n",
      "master\n"
     ]
    }
   ],
   "source": [
    "employee = {\n",
    "    'name' : 'nouroz',\n",
    "    'age' : 27,\n",
    "    'education' : 'master'\n",
    "}\n",
    "\n",
    "for key, value in employee.items():\n",
    "    print(key,value)\n",
    "    \n",
    "for key in employee.keys():\n",
    "    print(key)\n",
    "\n",
    "for value in employee.values():\n",
    "    print(value)"
   ]
  },
  {
   "cell_type": "markdown",
   "id": "7d3d2e47-94a6-4e4a-8ebb-2980322bc669",
   "metadata": {},
   "source": [
    "# Input from user"
   ]
  },
  {
   "cell_type": "code",
   "execution_count": 89,
   "id": "f20a0bbd-fd1c-4eb2-9609-0279daa84230",
   "metadata": {},
   "outputs": [
    {
     "name": "stdin",
     "output_type": "stream",
     "text": [
      "enter your message never stop\n"
     ]
    },
    {
     "name": "stdout",
     "output_type": "stream",
     "text": [
      "your message is:  never stop\n"
     ]
    }
   ],
   "source": [
    "user_input = input(\"enter your message\")\n",
    "print(\"your message is: \", user_input)\n"
   ]
  },
  {
   "cell_type": "code",
   "execution_count": 107,
   "id": "cac2d75f-0628-4fde-89e1-d369b959368a",
   "metadata": {},
   "outputs": [
    {
     "name": "stdin",
     "output_type": "stream",
     "text": [
      "enter your age 25\n"
     ]
    },
    {
     "name": "stdout",
     "output_type": "stream",
     "text": [
      "your age is: 30\n"
     ]
    }
   ],
   "source": [
    "age = int(input(\"enter your age\"))\n",
    "age = age + 5\n",
    "print(\"your age is: \" + str(age))"
   ]
  },
  {
   "cell_type": "code",
   "execution_count": 99,
   "id": "869510d9-91cd-4c77-87e1-36b46f65c4fc",
   "metadata": {},
   "outputs": [
    {
     "ename": "TypeError",
     "evalue": "can only concatenate str (not \"int\") to str",
     "output_type": "error",
     "traceback": [
      "\u001b[1;31m---------------------------------------------------------------------------\u001b[0m",
      "\u001b[1;31mTypeError\u001b[0m                                 Traceback (most recent call last)",
      "Cell \u001b[1;32mIn[99], line 1\u001b[0m\n\u001b[1;32m----> 1\u001b[0m \u001b[38;5;28mprint\u001b[39m(\u001b[38;5;124m\"\u001b[39m\u001b[38;5;124myour age is: \u001b[39m\u001b[38;5;124m\"\u001b[39m \u001b[38;5;241m+\u001b[39m \u001b[38;5;241m25\u001b[39m)\n",
      "\u001b[1;31mTypeError\u001b[0m: can only concatenate str (not \"int\") to str"
     ]
    }
   ],
   "source": [
    "print(\"your age is: \" + 25)"
   ]
  },
  {
   "cell_type": "markdown",
   "id": "7d8f890c-59f6-4294-b2db-c65a1d84cbe1",
   "metadata": {},
   "source": [
    "# while loop"
   ]
  },
  {
   "cell_type": "code",
   "execution_count": null,
   "id": "7d2b30cf-4a0b-47af-b78c-fd415a2c9534",
   "metadata": {},
   "outputs": [],
   "source": [
    "num = 0\n",
    "while num < 5:\n",
    "    print(\"loop is running : \", num)\n",
    "    "
   ]
  },
  {
   "cell_type": "code",
   "execution_count": 115,
   "id": "91f40f99-5827-4cb5-82c9-ecefef5105b4",
   "metadata": {},
   "outputs": [
    {
     "name": "stdout",
     "output_type": "stream",
     "text": [
      "loop is running :  1\n",
      "loop is running :  2\n",
      "loop is running :  3\n",
      "loop is running :  4\n",
      "loop is running :  5\n",
      "---> 6\n"
     ]
    }
   ],
   "source": [
    "num = 1\n",
    "while num <= 5:\n",
    "    print(\"loop is running : \", num)\n",
    "    num += 1\n",
    "print('--->', num)\n"
   ]
  },
  {
   "cell_type": "code",
   "execution_count": 117,
   "id": "38f8e30d-0629-4b8c-80f8-f0ae4b5ee833",
   "metadata": {},
   "outputs": [
    {
     "name": "stdin",
     "output_type": "stream",
     "text": [
      "Enter city to visit: berlin\n",
      "Enter city to visit: tokoyo\n",
      "Enter city to visit: london\n",
      "Enter city to visit: paris\n",
      "Enter city to visit: sydney\n",
      "Enter city to visit: quit\n"
     ]
    },
    {
     "name": "stdout",
     "output_type": "stream",
     "text": [
      "['berlin', 'tokoyo', 'london', 'paris', 'sydney']\n"
     ]
    }
   ],
   "source": [
    "cities_to_visit = []\n",
    "user_input = ''\n",
    "\n",
    "while user_input != 'quit':\n",
    "    city = input('Enter city to visit:')\n",
    "    if city == 'quit':\n",
    "        user_input = 'quit'\n",
    "    else:\n",
    "        cities_to_visit.append(city)\n",
    "    \n",
    "print(cities_to_visit)"
   ]
  },
  {
   "cell_type": "code",
   "execution_count": null,
   "id": "f86c17cc-b68c-47cd-8d18-e560a449c65f",
   "metadata": {},
   "outputs": [],
   "source": []
  }
 ],
 "metadata": {
  "kernelspec": {
   "display_name": "Python 3 (ipykernel)",
   "language": "python",
   "name": "python3"
  },
  "language_info": {
   "codemirror_mode": {
    "name": "ipython",
    "version": 3
   },
   "file_extension": ".py",
   "mimetype": "text/x-python",
   "name": "python",
   "nbconvert_exporter": "python",
   "pygments_lexer": "ipython3",
   "version": "3.12.4"
  }
 },
 "nbformat": 4,
 "nbformat_minor": 5
}
