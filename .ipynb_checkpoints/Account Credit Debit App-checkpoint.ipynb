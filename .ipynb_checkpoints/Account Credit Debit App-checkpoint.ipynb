{
 "cells": [
  {
   "cell_type": "code",
   "execution_count": 2,
   "id": "ccd45c25-5150-4630-ac84-3f7ff8907ec7",
   "metadata": {},
   "outputs": [
    {
     "name": "stdin",
     "output_type": "stream",
     "text": [
      "Enter 4-digit PIN:  1234\n"
     ]
    },
    {
     "name": "stdout",
     "output_type": "stream",
     "text": [
      "\n",
      "Select Option\n",
      "1. Debit\n",
      "2. Credit\n",
      "3. Balance Enquiry\n",
      "4. Exit\n"
     ]
    },
    {
     "name": "stdin",
     "output_type": "stream",
     "text": [
      "Choose option (1-4):  4\n"
     ]
    },
    {
     "name": "stdout",
     "output_type": "stream",
     "text": [
      "Exiting the application\n",
      "Thank You!\n"
     ]
    }
   ],
   "source": [
    "# Create a simple debit and credit account system to take input from user allowing PIN to enter\n",
    "\n",
    "class Account:\n",
    "    def __init__(self, balance, acc_num):\n",
    "        self.balance = balance\n",
    "        self.acc_num = acc_num\n",
    "\n",
    "    def debit(self, amount):\n",
    "        self.balance -= amount\n",
    "        print(f\"Rs. {amount} is debited\")\n",
    "        print(f\"Available balance is: {self.final_balance()}\")\n",
    "\n",
    "    def credit(self, amount):\n",
    "        self.balance += amount\n",
    "        print(f\"Rs. {amount} is credited\")\n",
    "        print(f\"Available balance is: {self.final_balance()}\")\n",
    "\n",
    "    def final_balance(self):\n",
    "        return self.balance\n",
    "\n",
    "acc1 = Account(100000, 56021002837271)\n",
    "\n",
    "while True:\n",
    "    try:\n",
    "        enter = int(input(\"Enter 4-digit PIN: \"))\n",
    "       \n",
    "        if enter == 1234:\n",
    "            while True:\n",
    "                print(\"\\nSelect Option\")\n",
    "                print(\"1. Debit\")\n",
    "                print(\"2. Credit\")\n",
    "                print(\"3. Balance Enquiry\")\n",
    "                print(\"4. Exit\")\n",
    "               \n",
    "                try:\n",
    "                    select = int(input(\"Choose option (1-4): \"))\n",
    "                   \n",
    "                    if select == 1:\n",
    "                        amount = int(input(\"Enter amount to debit: \"))\n",
    "                        acc1.debit(amount)\n",
    "                    elif select == 2:\n",
    "                        amount = int(input(\"Enter amount to credit: \"))\n",
    "                        acc1.credit(amount)\n",
    "                    elif select == 3:\n",
    "                        print(f\"Avalale account balance is: {acc1.final_balance()}\")\n",
    "                    elif select == 4:\n",
    "                        print(\"Exiting the application\\nThank You!\")\n",
    "                        break\n",
    "                    else:\n",
    "                        print(\"Invalid Selection. Please choose a number between 1 and 4.\")\n",
    "                except ValueError:\n",
    "                    print(\"Invalid input. Please enter a number between 1 and 4.\")\n",
    "            break  # Break out of the outer while loop after successful PIN entry and operation\n",
    "        else:\n",
    "            print(\"Sorry, wrong PIN. Try again.\")\n",
    "            break  # Exit the loop if the PIN is incorrect\n",
    "    except ValueError:\n",
    "        print(\"Invalid PIN. Please enter a 4-digit number.\")"
   ]
  },
  {
   "cell_type": "code",
   "execution_count": 1,
   "id": "24076c0e-a45d-4b23-91ca-5ff340868327",
   "metadata": {},
   "outputs": [
    {
     "name": "stdin",
     "output_type": "stream",
     "text": [
      "Enter 4-digit PIN:  1234\n"
     ]
    },
    {
     "name": "stdout",
     "output_type": "stream",
     "text": [
      "\n",
      "Select Option\n",
      "1. Debit\n",
      "2. Credit\n",
      "3. Balance Enquiry\n",
      "4. Exit\n"
     ]
    },
    {
     "name": "stdin",
     "output_type": "stream",
     "text": [
      "Choose option (1-4):  3\n"
     ]
    },
    {
     "name": "stdout",
     "output_type": "stream",
     "text": [
      "Available account balance is: 100000\n",
      "\n",
      "Select Option\n",
      "1. Debit\n",
      "2. Credit\n",
      "3. Balance Enquiry\n",
      "4. Exit\n"
     ]
    },
    {
     "name": "stdin",
     "output_type": "stream",
     "text": [
      "Choose option (1-4):  1\n",
      "Enter amount to debit:  999999999\n"
     ]
    },
    {
     "name": "stdout",
     "output_type": "stream",
     "text": [
      "Error: Your account balance is insufficient. Please try a lower amount.\n",
      "\n",
      "Select Option\n",
      "1. Debit\n",
      "2. Credit\n",
      "3. Balance Enquiry\n",
      "4. Exit\n"
     ]
    },
    {
     "name": "stdin",
     "output_type": "stream",
     "text": [
      "Choose option (1-4):  2\n",
      "Enter amount to credit:  99999999\n"
     ]
    },
    {
     "name": "stdout",
     "output_type": "stream",
     "text": [
      "Rs. 99999999 is credited\n",
      "Available balance is: 100099999\n",
      "\n",
      "Select Option\n",
      "1. Debit\n",
      "2. Credit\n",
      "3. Balance Enquiry\n",
      "4. Exit\n"
     ]
    },
    {
     "name": "stdin",
     "output_type": "stream",
     "text": [
      "Choose option (1-4):  3\n"
     ]
    },
    {
     "name": "stdout",
     "output_type": "stream",
     "text": [
      "Available account balance is: 100099999\n",
      "\n",
      "Select Option\n",
      "1. Debit\n",
      "2. Credit\n",
      "3. Balance Enquiry\n",
      "4. Exit\n"
     ]
    },
    {
     "name": "stdin",
     "output_type": "stream",
     "text": [
      "Choose option (1-4):  1\n",
      "Enter amount to debit:  999999\n"
     ]
    },
    {
     "name": "stdout",
     "output_type": "stream",
     "text": [
      "Rs. 999999 is debited\n",
      "Available balance is: 99100000\n",
      "\n",
      "Select Option\n",
      "1. Debit\n",
      "2. Credit\n",
      "3. Balance Enquiry\n",
      "4. Exit\n"
     ]
    },
    {
     "name": "stdin",
     "output_type": "stream",
     "text": [
      "Choose option (1-4):  1\n",
      "Enter amount to debit:  9999999\n"
     ]
    },
    {
     "name": "stdout",
     "output_type": "stream",
     "text": [
      "Rs. 9999999 is debited\n",
      "Available balance is: 89100001\n",
      "\n",
      "Select Option\n",
      "1. Debit\n",
      "2. Credit\n",
      "3. Balance Enquiry\n",
      "4. Exit\n"
     ]
    },
    {
     "name": "stdin",
     "output_type": "stream",
     "text": [
      "Choose option (1-4):  1\n",
      "Enter amount to debit:  99999999\n"
     ]
    },
    {
     "name": "stdout",
     "output_type": "stream",
     "text": [
      "Error: Your account balance is insufficient. Please try a lower amount.\n",
      "\n",
      "Select Option\n",
      "1. Debit\n",
      "2. Credit\n",
      "3. Balance Enquiry\n",
      "4. Exit\n"
     ]
    },
    {
     "name": "stdin",
     "output_type": "stream",
     "text": [
      "Choose option (1-4):  999999\n"
     ]
    },
    {
     "name": "stdout",
     "output_type": "stream",
     "text": [
      "Invalid Selection. Please choose a number between 1 and 4.\n",
      "\n",
      "Select Option\n",
      "1. Debit\n",
      "2. Credit\n",
      "3. Balance Enquiry\n",
      "4. Exit\n"
     ]
    },
    {
     "name": "stdin",
     "output_type": "stream",
     "text": [
      "Choose option (1-4):  1\n",
      "Enter amount to debit:  9999999\n"
     ]
    },
    {
     "name": "stdout",
     "output_type": "stream",
     "text": [
      "Rs. 9999999 is debited\n",
      "Available balance is: 79100002\n",
      "\n",
      "Select Option\n",
      "1. Debit\n",
      "2. Credit\n",
      "3. Balance Enquiry\n",
      "4. Exit\n"
     ]
    },
    {
     "name": "stdin",
     "output_type": "stream",
     "text": [
      "Choose option (1-4):  1\n",
      "Enter amount to debit:  9999999\n"
     ]
    },
    {
     "name": "stdout",
     "output_type": "stream",
     "text": [
      "Rs. 9999999 is debited\n",
      "Available balance is: 69100003\n",
      "\n",
      "Select Option\n",
      "1. Debit\n",
      "2. Credit\n",
      "3. Balance Enquiry\n",
      "4. Exit\n"
     ]
    },
    {
     "name": "stdin",
     "output_type": "stream",
     "text": [
      "Choose option (1-4):  1\n",
      "Enter amount to debit:  999999\n"
     ]
    },
    {
     "name": "stdout",
     "output_type": "stream",
     "text": [
      "Rs. 999999 is debited\n",
      "Available balance is: 68100004\n",
      "\n",
      "Select Option\n",
      "1. Debit\n",
      "2. Credit\n",
      "3. Balance Enquiry\n",
      "4. Exit\n"
     ]
    },
    {
     "name": "stdin",
     "output_type": "stream",
     "text": [
      "Choose option (1-4):  999999\n"
     ]
    },
    {
     "name": "stdout",
     "output_type": "stream",
     "text": [
      "Invalid Selection. Please choose a number between 1 and 4.\n",
      "\n",
      "Select Option\n",
      "1. Debit\n",
      "2. Credit\n",
      "3. Balance Enquiry\n",
      "4. Exit\n"
     ]
    },
    {
     "name": "stdin",
     "output_type": "stream",
     "text": [
      "Choose option (1-4):  1\n",
      "Enter amount to debit:  9999999\n"
     ]
    },
    {
     "name": "stdout",
     "output_type": "stream",
     "text": [
      "Rs. 9999999 is debited\n",
      "Available balance is: 58100005\n",
      "\n",
      "Select Option\n",
      "1. Debit\n",
      "2. Credit\n",
      "3. Balance Enquiry\n",
      "4. Exit\n"
     ]
    },
    {
     "name": "stdin",
     "output_type": "stream",
     "text": [
      "Choose option (1-4):  1\n",
      "Enter amount to debit:  9999999\n"
     ]
    },
    {
     "name": "stdout",
     "output_type": "stream",
     "text": [
      "Rs. 9999999 is debited\n",
      "Available balance is: 48100006\n",
      "\n",
      "Select Option\n",
      "1. Debit\n",
      "2. Credit\n",
      "3. Balance Enquiry\n",
      "4. Exit\n"
     ]
    },
    {
     "name": "stdin",
     "output_type": "stream",
     "text": [
      "Choose option (1-4):  1\n",
      "Enter amount to debit:  48100005\n"
     ]
    },
    {
     "name": "stdout",
     "output_type": "stream",
     "text": [
      "Rs. 48100005 is debited\n",
      "Available balance is: 1\n",
      "\n",
      "Select Option\n",
      "1. Debit\n",
      "2. Credit\n",
      "3. Balance Enquiry\n",
      "4. Exit\n"
     ]
    },
    {
     "name": "stdin",
     "output_type": "stream",
     "text": [
      "Choose option (1-4):  3\n"
     ]
    },
    {
     "name": "stdout",
     "output_type": "stream",
     "text": [
      "Available account balance is: 1\n",
      "\n",
      "Select Option\n",
      "1. Debit\n",
      "2. Credit\n",
      "3. Balance Enquiry\n",
      "4. Exit\n"
     ]
    },
    {
     "name": "stdin",
     "output_type": "stream",
     "text": [
      "Choose option (1-4):  4\n"
     ]
    },
    {
     "name": "stdout",
     "output_type": "stream",
     "text": [
      "Exiting the application\n",
      "Thank You!\n"
     ]
    }
   ],
   "source": [
    "class Account:\n",
    "    def __init__(self, balance, acc_num):\n",
    "        self.balance = balance\n",
    "        self.acc_num = acc_num\n",
    "\n",
    "    def debit(self, amount):\n",
    "        if amount > self.balance:\n",
    "            print(\"Error: Your account balance is insufficient. Please try a lower amount.\")\n",
    "        else:\n",
    "            self.balance -= amount\n",
    "            print(f\"Rs. {amount} is debited\")\n",
    "            print(f\"Available balance is: {self.final_balance()}\")\n",
    "\n",
    "    def credit(self, amount):\n",
    "        self.balance += amount\n",
    "        print(f\"Rs. {amount} is credited\")\n",
    "        print(f\"Available balance is: {self.final_balance()}\")\n",
    "\n",
    "    def final_balance(self):\n",
    "        return self.balance\n",
    "\n",
    "acc1 = Account(100000, 56021002837271)\n",
    "\n",
    "while True:\n",
    "    try:\n",
    "        enter = int(input(\"Enter 4-digit PIN: \"))\n",
    "       \n",
    "        if enter == 1234:\n",
    "            while True:\n",
    "                print(\"\\nSelect Option\")\n",
    "                print(\"1. Debit\")\n",
    "                print(\"2. Credit\")\n",
    "                print(\"3. Balance Enquiry\")\n",
    "                print(\"4. Exit\")\n",
    "               \n",
    "                try:\n",
    "                    select = int(input(\"Choose option (1-4): \"))\n",
    "                   \n",
    "                    if select == 1:\n",
    "                        amount = int(input(\"Enter amount to debit: \"))\n",
    "                        acc1.debit(amount)\n",
    "                    elif select == 2:\n",
    "                        amount = int(input(\"Enter amount to credit: \"))\n",
    "                        acc1.credit(amount)\n",
    "                    elif select == 3:\n",
    "                        print(f\"Available account balance is: {acc1.final_balance()}\")\n",
    "                    elif select == 4:\n",
    "                        print(\"Exiting the application\\nThank You!\")\n",
    "                        break\n",
    "                    else:\n",
    "                        print(\"Invalid Selection. Please choose a number between 1 and 4.\")\n",
    "                except ValueError:\n",
    "                    print(\"Invalid input. Please enter a number between 1 and 4.\")\n",
    "            break  # Break out of the outer while loop after successful PIN entry and operation\n",
    "        else:\n",
    "            print(\"Sorry, wrong PIN. Try again.\")\n",
    "            break  # Exit the loop if the PIN is incorrect\n",
    "    except ValueError:\n",
    "        print(\"Invalid PIN. Please enter a 4-digit number.\")\n"
   ]
  },
  {
   "cell_type": "code",
   "execution_count": null,
   "id": "07bef25f-a73b-4b65-b5f9-06ed460fecda",
   "metadata": {},
   "outputs": [],
   "source": []
  }
 ],
 "metadata": {
  "kernelspec": {
   "display_name": "Python 3 (ipykernel)",
   "language": "python",
   "name": "python3"
  },
  "language_info": {
   "codemirror_mode": {
    "name": "ipython",
    "version": 3
   },
   "file_extension": ".py",
   "mimetype": "text/x-python",
   "name": "python",
   "nbconvert_exporter": "python",
   "pygments_lexer": "ipython3",
   "version": "3.12.4"
  }
 },
 "nbformat": 4,
 "nbformat_minor": 5
}
