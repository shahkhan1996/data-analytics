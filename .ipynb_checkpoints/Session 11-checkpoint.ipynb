{
 "cells": [
  {
   "cell_type": "markdown",
   "id": "22879862-85c8-4a97-a9db-a179b3fb10b1",
   "metadata": {},
   "source": [
    "# ***Sets***"
   ]
  },
  {
   "cell_type": "code",
   "execution_count": 2,
   "id": "bdb3e950-ce1b-472a-a96d-e5323ed78bd5",
   "metadata": {},
   "outputs": [],
   "source": [
    "my_Set = {1,2,3,4,4,4,5,5,10,10,16,18,15}"
   ]
  },
  {
   "cell_type": "code",
   "execution_count": 4,
   "id": "fd787606-414d-47b9-b481-51d7efba129c",
   "metadata": {},
   "outputs": [
    {
     "data": {
      "text/plain": [
       "{1, 2, 3, 4, 5, 10, 15, 16, 18}"
      ]
     },
     "execution_count": 4,
     "metadata": {},
     "output_type": "execute_result"
    }
   ],
   "source": [
    "my_Set"
   ]
  },
  {
   "cell_type": "code",
   "execution_count": 8,
   "id": "b9704ce4-d3b1-4f3a-8de0-ad23c9b5a9b7",
   "metadata": {},
   "outputs": [
    {
     "data": {
      "text/plain": [
       "['__and__',\n",
       " '__class__',\n",
       " '__class_getitem__',\n",
       " '__contains__',\n",
       " '__delattr__',\n",
       " '__dir__',\n",
       " '__doc__',\n",
       " '__eq__',\n",
       " '__format__',\n",
       " '__ge__',\n",
       " '__getattribute__',\n",
       " '__getstate__',\n",
       " '__gt__',\n",
       " '__hash__',\n",
       " '__iand__',\n",
       " '__init__',\n",
       " '__init_subclass__',\n",
       " '__ior__',\n",
       " '__isub__',\n",
       " '__iter__',\n",
       " '__ixor__',\n",
       " '__le__',\n",
       " '__len__',\n",
       " '__lt__',\n",
       " '__ne__',\n",
       " '__new__',\n",
       " '__or__',\n",
       " '__rand__',\n",
       " '__reduce__',\n",
       " '__reduce_ex__',\n",
       " '__repr__',\n",
       " '__ror__',\n",
       " '__rsub__',\n",
       " '__rxor__',\n",
       " '__setattr__',\n",
       " '__sizeof__',\n",
       " '__str__',\n",
       " '__sub__',\n",
       " '__subclasshook__',\n",
       " '__xor__',\n",
       " 'add',\n",
       " 'clear',\n",
       " 'copy',\n",
       " 'difference',\n",
       " 'difference_update',\n",
       " 'discard',\n",
       " 'intersection',\n",
       " 'intersection_update',\n",
       " 'isdisjoint',\n",
       " 'issubset',\n",
       " 'issuperset',\n",
       " 'pop',\n",
       " 'remove',\n",
       " 'symmetric_difference',\n",
       " 'symmetric_difference_update',\n",
       " 'union',\n",
       " 'update']"
      ]
     },
     "execution_count": 8,
     "metadata": {},
     "output_type": "execute_result"
    }
   ],
   "source": [
    "dir(set)"
   ]
  },
  {
   "cell_type": "code",
   "execution_count": 14,
   "id": "74e2b0c3-48d1-4b07-8ad3-87234ebf193d",
   "metadata": {},
   "outputs": [],
   "source": [
    "my_Set.add(20)"
   ]
  },
  {
   "cell_type": "code",
   "execution_count": 16,
   "id": "6da3ee46-170b-429a-8e78-7c7b2c4bdd3a",
   "metadata": {},
   "outputs": [
    {
     "data": {
      "text/plain": [
       "{1, 2, 3, 4, 5, 10, 15, 16, 18, 20}"
      ]
     },
     "execution_count": 16,
     "metadata": {},
     "output_type": "execute_result"
    }
   ],
   "source": [
    "my_Set"
   ]
  },
  {
   "cell_type": "code",
   "execution_count": 20,
   "id": "9ae924d6-72ba-4ae8-b70c-cc7309135da3",
   "metadata": {},
   "outputs": [],
   "source": [
    "my_Set.remove(20)"
   ]
  },
  {
   "cell_type": "code",
   "execution_count": 22,
   "id": "bbe3a667-42e7-4ae8-9f89-70b5e4b43286",
   "metadata": {},
   "outputs": [
    {
     "data": {
      "text/plain": [
       "{1, 2, 3, 4, 5, 10, 15, 16, 18}"
      ]
     },
     "execution_count": 22,
     "metadata": {},
     "output_type": "execute_result"
    }
   ],
   "source": [
    "my_Set"
   ]
  },
  {
   "cell_type": "code",
   "execution_count": 36,
   "id": "39c7a708-8174-479d-a68f-5fc3c4a7e872",
   "metadata": {},
   "outputs": [
    {
     "data": {
      "text/plain": [
       "{1, 2, 3, 4, 5, 10, 15, 16, 18, 20}"
      ]
     },
     "execution_count": 36,
     "metadata": {},
     "output_type": "execute_result"
    }
   ],
   "source": [
    "another_set = {1, 2, 3, 4, 5, 10, 15, 16, 18, 20}\n",
    "another_set"
   ]
  },
  {
   "cell_type": "code",
   "execution_count": 40,
   "id": "c8372e62-4347-4df7-bff0-f44b2d2aa76c",
   "metadata": {},
   "outputs": [
    {
     "data": {
      "text/plain": [
       "{1, 2, 3, 4, 5, 10, 15, 16, 18}"
      ]
     },
     "execution_count": 40,
     "metadata": {},
     "output_type": "execute_result"
    }
   ],
   "source": [
    "my_Set"
   ]
  },
  {
   "cell_type": "code",
   "execution_count": 42,
   "id": "be1c7750-7d6a-4695-aea8-f51a4f98e374",
   "metadata": {},
   "outputs": [
    {
     "data": {
      "text/plain": [
       "{1, 2, 3, 4, 5, 10, 15, 16, 18, 20}"
      ]
     },
     "execution_count": 42,
     "metadata": {},
     "output_type": "execute_result"
    }
   ],
   "source": [
    "my_Set.union(another_set)"
   ]
  },
  {
   "cell_type": "code",
   "execution_count": 44,
   "id": "4c963dcb-f7b1-4dfd-9f29-01dc82cb9f72",
   "metadata": {},
   "outputs": [],
   "source": [
    "event1 = {\"ali\",\"sana\",\"ayesha\",\"kunal\",\"khush\"}\n",
    "event2 = {\"umer\",\"raqib\",\"sana\",\"kunal\",\"ali\"}"
   ]
  },
  {
   "cell_type": "code",
   "execution_count": 46,
   "id": "f87772d0-2ba6-4a84-9caf-31de338e6a58",
   "metadata": {},
   "outputs": [
    {
     "data": {
      "text/plain": [
       "{'ali', 'kunal', 'sana'}"
      ]
     },
     "execution_count": 46,
     "metadata": {},
     "output_type": "execute_result"
    }
   ],
   "source": [
    "event1.intersection(event2)"
   ]
  },
  {
   "cell_type": "code",
   "execution_count": 48,
   "id": "0891e19b-a8de-498f-a7e6-4b6230a6bb3f",
   "metadata": {},
   "outputs": [],
   "source": [
    "visitor_ips = (\"192.168.1.1\", \"192.168.1.2\", \"192.168.1.1\", \"192.168.1.3\")"
   ]
  },
  {
   "cell_type": "code",
   "execution_count": 52,
   "id": "187c882c-35d2-47a6-b323-117b830d2ee9",
   "metadata": {},
   "outputs": [
    {
     "data": {
      "text/plain": [
       "tuple"
      ]
     },
     "execution_count": 52,
     "metadata": {},
     "output_type": "execute_result"
    }
   ],
   "source": [
    "type(visitor_ips)"
   ]
  },
  {
   "cell_type": "code",
   "execution_count": 59,
   "id": "6440554e-2317-42b0-8f7f-154ca7b5f5ba",
   "metadata": {},
   "outputs": [
    {
     "data": {
      "text/plain": [
       "{'192.168.1.1', '192.168.1.2', '192.168.1.3'}"
      ]
     },
     "execution_count": 59,
     "metadata": {},
     "output_type": "execute_result"
    }
   ],
   "source": [
    "set(visitor_ips)"
   ]
  },
  {
   "cell_type": "code",
   "execution_count": 61,
   "id": "9b8a2435-0f9b-49df-b17e-46fdbe63d493",
   "metadata": {},
   "outputs": [],
   "source": [
    "text = \"apple banana apple orange banana apple\""
   ]
  },
  {
   "cell_type": "code",
   "execution_count": 63,
   "id": "db4fd803-f399-4639-81bb-61b1c49bd6bc",
   "metadata": {},
   "outputs": [
    {
     "data": {
      "text/plain": [
       "['apple', 'banana', 'apple', 'orange', 'banana', 'apple']"
      ]
     },
     "execution_count": 63,
     "metadata": {},
     "output_type": "execute_result"
    }
   ],
   "source": [
    "text.split()"
   ]
  },
  {
   "cell_type": "code",
   "execution_count": 65,
   "id": "52a8fc05-447e-4c52-a007-69baf38cdc16",
   "metadata": {},
   "outputs": [
    {
     "data": {
      "text/plain": [
       "{'apple', 'banana', 'orange'}"
      ]
     },
     "execution_count": 65,
     "metadata": {},
     "output_type": "execute_result"
    }
   ],
   "source": [
    "set(text.split())"
   ]
  },
  {
   "cell_type": "code",
   "execution_count": 67,
   "id": "d6c9415b-5f7e-478c-adb6-6ce393b0f08d",
   "metadata": {},
   "outputs": [],
   "source": [
    "products = [\"Laptop\", \"Smartphone\", \"Laptop\", \"Tablet\", \"Smartphone\"]"
   ]
  },
  {
   "cell_type": "code",
   "execution_count": 69,
   "id": "7f191d1a-c756-49aa-af72-5a3ca0d0e534",
   "metadata": {},
   "outputs": [
    {
     "data": {
      "text/plain": [
       "{'Laptop', 'Smartphone', 'Tablet'}"
      ]
     },
     "execution_count": 69,
     "metadata": {},
     "output_type": "execute_result"
    }
   ],
   "source": [
    "set(products)"
   ]
  },
  {
   "cell_type": "markdown",
   "id": "328f004d-b1f6-473c-ae48-2f30855dfd92",
   "metadata": {},
   "source": [
    "## ***List Comprehension***"
   ]
  },
  {
   "cell_type": "code",
   "execution_count": 72,
   "id": "a9be0c73-80cb-44c3-ba2c-357da34b3730",
   "metadata": {},
   "outputs": [
    {
     "name": "stdout",
     "output_type": "stream",
     "text": [
      "2\n",
      "4\n",
      "5\n",
      "6\n"
     ]
    }
   ],
   "source": [
    "numbers = [2,4,5,6]\n",
    "\n",
    "for num in numbers:\n",
    "    print(num)"
   ]
  },
  {
   "cell_type": "code",
   "execution_count": 74,
   "id": "5439e1cb-12b4-419e-9eb3-d910f8cde76c",
   "metadata": {},
   "outputs": [
    {
     "name": "stdout",
     "output_type": "stream",
     "text": [
      "4\n",
      "16\n",
      "25\n",
      "36\n"
     ]
    }
   ],
   "source": [
    "numbers = [2,4,5,6]\n",
    "\n",
    "for num in numbers:\n",
    "    square = num ** 2\n",
    "    print(square)"
   ]
  },
  {
   "cell_type": "code",
   "execution_count": 82,
   "id": "7681b941-f138-442d-9acb-d9cfc08244ef",
   "metadata": {},
   "outputs": [],
   "source": [
    "squaring = []\n",
    "for num in numbers:\n",
    "    square = num ** 2\n",
    "    squaring.append(square)\n",
    "\n",
    "# squaring"
   ]
  },
  {
   "cell_type": "code",
   "execution_count": 84,
   "id": "498a40d2-5dc5-4f4c-9ab5-94ef3818faed",
   "metadata": {},
   "outputs": [
    {
     "data": {
      "text/plain": [
       "[4, 16, 25, 36]"
      ]
     },
     "execution_count": 84,
     "metadata": {},
     "output_type": "execute_result"
    }
   ],
   "source": [
    "squaring"
   ]
  },
  {
   "cell_type": "code",
   "execution_count": 86,
   "id": "abe9a868-4238-4a6d-b409-88e4f266b68e",
   "metadata": {},
   "outputs": [
    {
     "data": {
      "text/plain": [
       "[4, 16, 25, 36]"
      ]
     },
     "execution_count": 86,
     "metadata": {},
     "output_type": "execute_result"
    }
   ],
   "source": [
    "squaring = [num ** 2 for num in numbers]\n",
    "squaring"
   ]
  },
  {
   "cell_type": "code",
   "execution_count": 88,
   "id": "c3aca70f-edd7-4a0e-944b-d9307f96b5d6",
   "metadata": {},
   "outputs": [],
   "source": [
    "Ec_Store_Orders = [\n",
    "    {\"order_id\": 1, \"customer_name\": \"Ali\", \"total_amount\": 120, \"status\": \"Completed\"},\n",
    "    {\"order_id\": 2, \"customer_name\": \"Raheel\", \"total_amount\": 80, \"status\": \"Pending\"},\n",
    "    {\"order_id\": 3, \"customer_name\": \"Saleem\", \"total_amount\": 150, \"status\": \"Completed\"},\n",
    "    {\"order_id\": 4, \"customer_name\": \"khushnoor\", \"total_amount\": 95, \"status\": \"Completed\"},\n",
    "    {\"order_id\": 5, \"customer_name\": \"Alizy\", \"total_amount\": 200, \"status\": \"Pending\"},\n",
    "    {\"order_id\": 6, \"customer_name\": \"javaid\", \"total_amount\": 85, \"status\": \"Completed\"},\n",
    "    {\"order_id\": 7, \"customer_name\": \"Talha\", \"total_amount\": 150, \"status\": \"Pending\"},\n",
    "    {\"order_id\": 8, \"customer_name\": \"Naveed\", \"total_amount\": 200, \"status\": \"Completed\"},\n",
    "]"
   ]
  },
  {
   "cell_type": "code",
   "execution_count": 90,
   "id": "1e9c698c-03b5-48d0-92b8-47dc95c5bde4",
   "metadata": {},
   "outputs": [
    {
     "data": {
      "text/plain": [
       "[{'order_id': 1,\n",
       "  'customer_name': 'Ali',\n",
       "  'total_amount': 120,\n",
       "  'status': 'Completed'},\n",
       " {'order_id': 2,\n",
       "  'customer_name': 'Raheel',\n",
       "  'total_amount': 80,\n",
       "  'status': 'Pending'},\n",
       " {'order_id': 3,\n",
       "  'customer_name': 'Saleem',\n",
       "  'total_amount': 150,\n",
       "  'status': 'Completed'},\n",
       " {'order_id': 4,\n",
       "  'customer_name': 'khushnoor',\n",
       "  'total_amount': 95,\n",
       "  'status': 'Completed'},\n",
       " {'order_id': 5,\n",
       "  'customer_name': 'Alizy',\n",
       "  'total_amount': 200,\n",
       "  'status': 'Pending'},\n",
       " {'order_id': 6,\n",
       "  'customer_name': 'javaid',\n",
       "  'total_amount': 85,\n",
       "  'status': 'Completed'},\n",
       " {'order_id': 7,\n",
       "  'customer_name': 'Talha',\n",
       "  'total_amount': 150,\n",
       "  'status': 'Pending'},\n",
       " {'order_id': 8,\n",
       "  'customer_name': 'Naveed',\n",
       "  'total_amount': 200,\n",
       "  'status': 'Completed'}]"
      ]
     },
     "execution_count": 90,
     "metadata": {},
     "output_type": "execute_result"
    }
   ],
   "source": [
    "Ec_Store_Orders"
   ]
  },
  {
   "cell_type": "code",
   "execution_count": 92,
   "id": "1babaafc-bd34-462f-816a-35ffa826abc6",
   "metadata": {},
   "outputs": [
    {
     "name": "stdout",
     "output_type": "stream",
     "text": [
      "{'order_id': 1, 'customer_name': 'Ali', 'total_amount': 120, 'status': 'Completed'}\n",
      "{'order_id': 2, 'customer_name': 'Raheel', 'total_amount': 80, 'status': 'Pending'}\n",
      "{'order_id': 3, 'customer_name': 'Saleem', 'total_amount': 150, 'status': 'Completed'}\n",
      "{'order_id': 4, 'customer_name': 'khushnoor', 'total_amount': 95, 'status': 'Completed'}\n",
      "{'order_id': 5, 'customer_name': 'Alizy', 'total_amount': 200, 'status': 'Pending'}\n",
      "{'order_id': 6, 'customer_name': 'javaid', 'total_amount': 85, 'status': 'Completed'}\n",
      "{'order_id': 7, 'customer_name': 'Talha', 'total_amount': 150, 'status': 'Pending'}\n",
      "{'order_id': 8, 'customer_name': 'Naveed', 'total_amount': 200, 'status': 'Completed'}\n"
     ]
    }
   ],
   "source": [
    "order_id_comp = []\n",
    "\n",
    "for order in Ec_Store_Orders:\n",
    "    print(order)"
   ]
  },
  {
   "cell_type": "code",
   "execution_count": 94,
   "id": "0a63c5c4-b25d-453d-a06f-aca71f012667",
   "metadata": {},
   "outputs": [
    {
     "data": {
      "text/plain": [
       "[1, 3, 8]"
      ]
     },
     "execution_count": 94,
     "metadata": {},
     "output_type": "execute_result"
    }
   ],
   "source": [
    "order_id_comp = []\n",
    "\n",
    "for order in Ec_Store_Orders:\n",
    "    if order['total_amount'] > 100 and order['status'] == 'Completed':\n",
    "      order_id_comp.append(order['order_id'])  \n",
    "\n",
    "order_id_comp"
   ]
  },
  {
   "cell_type": "code",
   "execution_count": 100,
   "id": "da30517f-9fb4-4789-b1d3-ffd64e78508e",
   "metadata": {},
   "outputs": [],
   "source": [
    "order_id_comp = [order['order_id'] for order in Ec_Store_Orders \\\n",
    "                 if order['total_amount']>100 and order['status'] == 'Completed']"
   ]
  },
  {
   "cell_type": "code",
   "execution_count": 102,
   "id": "a821857f-500a-4ab4-b31f-eb2282e9c0c2",
   "metadata": {},
   "outputs": [
    {
     "data": {
      "text/plain": [
       "[1, 3, 8]"
      ]
     },
     "execution_count": 102,
     "metadata": {},
     "output_type": "execute_result"
    }
   ],
   "source": [
    "order_id_comp"
   ]
  },
  {
   "cell_type": "code",
   "execution_count": 108,
   "id": "83323fdc-7a42-40f3-a809-647376b70992",
   "metadata": {},
   "outputs": [],
   "source": [
    "cus_name_comp = [order['customer_name'] for order in Ec_Store_Orders \\\n",
    "                 if order['customer_name'] and order['status'] == 'Completed']"
   ]
  },
  {
   "cell_type": "code",
   "execution_count": 110,
   "id": "3565ac5e-4f7f-43e0-89cb-4f4eece348af",
   "metadata": {},
   "outputs": [
    {
     "data": {
      "text/plain": [
       "['Ali', 'Saleem', 'khushnoor', 'javaid', 'Naveed']"
      ]
     },
     "execution_count": 110,
     "metadata": {},
     "output_type": "execute_result"
    }
   ],
   "source": [
    "cus_name_comp"
   ]
  }
 ],
 "metadata": {
  "kernelspec": {
   "display_name": "Python 3 (ipykernel)",
   "language": "python",
   "name": "python3"
  },
  "language_info": {
   "codemirror_mode": {
    "name": "ipython",
    "version": 3
   },
   "file_extension": ".py",
   "mimetype": "text/x-python",
   "name": "python",
   "nbconvert_exporter": "python",
   "pygments_lexer": "ipython3",
   "version": "3.12.4"
  }
 },
 "nbformat": 4,
 "nbformat_minor": 5
}
