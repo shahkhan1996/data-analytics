{
 "cells": [
  {
   "cell_type": "code",
   "execution_count": 25,
   "id": "88df5374-9c42-4cd2-833f-0dc2d14c9046",
   "metadata": {},
   "outputs": [
    {
     "name": "stdout",
     "output_type": "stream",
     "text": [
      "['106k', '130k']\n"
     ]
    }
   ],
   "source": [
    "a = [\"10k\",\"106k\",\"105k\",\"104k\",\"130k\",\"120k\",\"110k\",\"22k\"]\n",
    "# print(a[2:6])\n",
    "# print(a[:])\n",
    "# print(a[-4:-1])\n",
    "# print(a[2:len(a)])\n",
    "# print(a[1::2]) #junmping two indexes\n",
    "# print(a[0::3]) #jumping three indexes\n",
    "# print(a[-3::-2])\n",
    "# print(a[-2::-3])\n",
    "print(a[1:6:3])"
   ]
  },
  {
   "cell_type": "code",
   "execution_count": 73,
   "id": "3c97d277-fae3-42fb-bf50-e54964c5d802",
   "metadata": {},
   "outputs": [
    {
     "name": "stdout",
     "output_type": "stream",
     "text": [
      "[]\n"
     ]
    }
   ],
   "source": [
    "list = [\"100k\",\"100k\",\"105k\",\"104k\",\"130k\",\"120k\"]\n",
    "list2 = [1,2,2,2,2,2]\n",
    "# print(list.index(\"120k\"))\n",
    "# list.append(\"999k\")\n",
    "# list.insert(2, \"766k\")\n",
    "# list.remove(\"130k\")\n",
    "# print(list)\n",
    "# print(list.pop(3))\n",
    "# print(list)\n",
    "# (list.extend(list2))\n",
    "# print(list)\n",
    "# list[3]=\"xxx\"\n",
    "# print(list)\n",
    "# list.copy()\n",
    "# print(list)\n",
    "# list.count(\"100k\")\n",
    "list.clear()\n",
    "print(list)"
   ]
  },
  {
   "cell_type": "code",
   "execution_count": null,
   "id": "447f309a-6814-4bcc-92fb-9baeab8027a4",
   "metadata": {},
   "outputs": [],
   "source": []
  }
 ],
 "metadata": {
  "kernelspec": {
   "display_name": "Python 3 (ipykernel)",
   "language": "python",
   "name": "python3"
  },
  "language_info": {
   "codemirror_mode": {
    "name": "ipython",
    "version": 3
   },
   "file_extension": ".py",
   "mimetype": "text/x-python",
   "name": "python",
   "nbconvert_exporter": "python",
   "pygments_lexer": "ipython3",
   "version": "3.12.4"
  }
 },
 "nbformat": 4,
 "nbformat_minor": 5
}
