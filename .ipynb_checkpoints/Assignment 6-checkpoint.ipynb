{
 "cells": [
  {
   "cell_type": "code",
   "execution_count": 34,
   "id": "b730bf86-b63f-4811-94f0-d6d9f65a6bdc",
   "metadata": {},
   "outputs": [
    {
     "name": "stdout",
     "output_type": "stream",
     "text": [
      "* \n",
      "* * \n",
      "* * * \n",
      "* * * * \n",
      "* * * * * \n",
      "* * * * \n",
      "* * * \n",
      "* * \n",
      "* \n",
      "\n"
     ]
    }
   ],
   "source": [
    "# 1.Write a Python program to construct the following pattern, using a nested for loop.\n",
    "\n",
    "# * \n",
    "# * * \n",
    "# * * * \n",
    "# * * * * \n",
    "# * * * * * \n",
    "# * * * * \n",
    "# * * * \n",
    "# * * \n",
    "# *\n",
    "                                                                           \n",
    "x=5\n",
    "for i in range(0,x):\n",
    "    for j in range(0,i+1):\n",
    "        print(\"*\",end=\" \")\n",
    "    print(\"\\r\")\n",
    "    \n",
    "for i in range(x,0,-1):\n",
    "    for j in range(0,i-1):\n",
    "        print(\"*\", end=\" \")\n",
    "    print(\"\\r\")"
   ]
  },
  {
   "cell_type": "markdown",
   "id": "02a58743-e628-40c8-ae96-abee30cade76",
   "metadata": {},
   "source": [
    "2. Write a Python program to check whether an alphabet which is given by user \n",
    "in input prompt is a vowel or consonant."
   ]
  },
  {
   "cell_type": "code",
   "execution_count": 36,
   "id": "7e90b96c-614c-46f5-a8fa-1f4c66d612ff",
   "metadata": {},
   "outputs": [
    {
     "name": "stdin",
     "output_type": "stream",
     "text": [
      "Enter an alphabet:  p\n"
     ]
    },
    {
     "name": "stdout",
     "output_type": "stream",
     "text": [
      "p is a consonant.\n"
     ]
    }
   ],
   "source": [
    "alphabet = input(\"Enter an alphabet: \")\n",
    "\n",
    "if alphabet in 'aeiou':\n",
    "    print(f\"{alphabet} is a vowel.\")\n",
    "else:\n",
    "    print(f\"{alphabet} is a consonant.\")"
   ]
  },
  {
   "cell_type": "markdown",
   "id": "cddd6739-750b-476e-89b2-9e8dec0117a3",
   "metadata": {},
   "source": [
    "3. Write a Python program to create the multiplication table (from 1 to 10) \n",
    "of a number and the number will be given by user in input prompt.\n",
    "Expected Output:\n",
    "\n",
    "Input a number: 6                                                       \n",
    "6 x 1 = 6                                                               \n",
    "6 x 2 = 12                                                              \n",
    "6 x 3 = 18                                                              \n",
    "6 x 4 = 24                                                              \n",
    "6 x 5 = 30                                                              \n",
    "6 x 6 = 36                                                              \n",
    "6 x 7 = 42                                                              \n",
    "6 x 8 = 48                                                              \n",
    "6 x 9 = 54                                                              \n",
    "6 x 10 = 60 "
   ]
  },
  {
   "cell_type": "code",
   "execution_count": 37,
   "id": "c79a750f-2677-4795-b633-35d3eba21a80",
   "metadata": {},
   "outputs": [
    {
     "name": "stdin",
     "output_type": "stream",
     "text": [
      "enter number:  6\n"
     ]
    },
    {
     "name": "stdout",
     "output_type": "stream",
     "text": [
      "6 x 1 = 6\n",
      "6 x 2 = 12\n",
      "6 x 3 = 18\n",
      "6 x 4 = 24\n",
      "6 x 5 = 30\n",
      "6 x 6 = 36\n",
      "6 x 7 = 42\n",
      "6 x 8 = 48\n",
      "6 x 9 = 54\n",
      "6 x 10 = 60\n"
     ]
    }
   ],
   "source": [
    "num = int(input(\"enter number: \"))\n",
    "\n",
    "for i in range(1,11):\n",
    "    print(f\"{num} x {i} = {num*i}\")"
   ]
  },
  {
   "cell_type": "markdown",
   "id": "a5148077-f1f8-4b94-9e1f-8a14686c37df",
   "metadata": {},
   "source": [
    "4. Write a Python program to guess a number between 1 and 9.\n",
    "Note : User is prompted to enter a guess. If the user guesses wrong then \n",
    "the prompt appears again until the guess is correct, on successful guess, \n",
    "user will get a \"Well guessed!\" message, and the program will exit."
   ]
  },
  {
   "cell_type": "code",
   "execution_count": 33,
   "id": "66d4539a-b53a-46fe-b5d1-3267060edc70",
   "metadata": {},
   "outputs": [
    {
     "name": "stdin",
     "output_type": "stream",
     "text": [
      "Guess a number between 1 and 9:  10\n"
     ]
    },
    {
     "name": "stdout",
     "output_type": "stream",
     "text": [
      "Incorrect guess. Try again.\n"
     ]
    },
    {
     "name": "stdin",
     "output_type": "stream",
     "text": [
      "Guess a number between 1 and 9:  3\n"
     ]
    },
    {
     "name": "stdout",
     "output_type": "stream",
     "text": [
      "Well guessed!\n"
     ]
    }
   ],
   "source": [
    "# Generate a random number between 1 and 9\n",
    "# secret_number = random.randint(1, 9)\n",
    "while True:\n",
    "    # Prompt the user to enter their guess\n",
    "    guess_input = input(\"Guess a number between 1 and 9: \")\n",
    "    \n",
    "    # Try to convert the input to an integer\n",
    "    try:\n",
    "        guess = int(guess_input)\n",
    "    except ValueError:\n",
    "        print(\"Invalid input. Please enter a valid number.\")\n",
    "        continue\n",
    "\n",
    "    # Check if the guess is correct\n",
    "    if guess <= 9:\n",
    "        if guess >=1: \n",
    "            print(\"Well guessed!\")\n",
    "        break\n",
    "    else:\n",
    "        print(\"Incorrect guess. Try again.\")\n"
   ]
  },
  {
   "cell_type": "markdown",
   "id": "4a5b642a-12ba-44c2-bce5-37c2ae665ecc",
   "metadata": {},
   "source": [
    "5. Write a  Python program to filter the height and width of students, which are stored in a dictionary.\n",
    "Original Dictionary:\n",
    "{'Cierra Vega': (6.2, 70), 'Alden Cantrell': (5.9, 65), 'Kierra Gentry': (6.0, 68), 'Pierre Cox': (5.8, 66)}\n",
    "Height > 6ft and Weight> 71kg:\n",
    "{'Cierra Vega': (6.2, 70)}"
   ]
  },
  {
   "cell_type": "code",
   "execution_count": 38,
   "id": "f3781a7a-9855-4460-8082-98adcbbf073d",
   "metadata": {},
   "outputs": [
    {
     "name": "stdout",
     "output_type": "stream",
     "text": [
      "Filtered Dictionary: {'Cierra Vega': (6.2, 71)}\n"
     ]
    }
   ],
   "source": [
    "#Dictionary Comprehension\n",
    "students = {\n",
    "    'Cierra Vega': (6.2, 71),\n",
    "    'Alden Cantrell': (5.9, 65),\n",
    "    'Kierra Gentry': (6.0, 68),\n",
    "    'Pierre Cox': (5.8, 66)\n",
    "}\n",
    "\n",
    "filtered_students = {\n",
    "    name: (height, weight)\n",
    "    for name, (height, weight) in students.items()\n",
    "    if height > 6.0 and weight > 70\n",
    "}\n",
    "\n",
    "print(\"Filtered Dictionary:\", filtered_students)\n"
   ]
  },
  {
   "cell_type": "markdown",
   "id": "6111fb37-39c8-4cfd-8bd1-463af069fb14",
   "metadata": {},
   "source": [
    "6. A  Python dictionary contains List as a value. Write a Python program to clear the list values in the said dictionary.\n",
    "Original Dictionary:\n",
    "{'C1': [10, 20, 30], 'C2': [20, 30, 40], 'C3': [12, 34]}\n",
    "Clear the list values in the said dictionary:\n",
    "{'C1': [], 'C2': [], 'C3': []}\n"
   ]
  },
  {
   "cell_type": "code",
   "execution_count": 39,
   "id": "38a2da58-4495-4d84-bb6d-94ad88d528bc",
   "metadata": {},
   "outputs": [
    {
     "data": {
      "text/plain": [
       "{'C1': [], 'C2': [], 'C3': []}"
      ]
     },
     "execution_count": 39,
     "metadata": {},
     "output_type": "execute_result"
    }
   ],
   "source": [
    "original_dict = {'C1': [10, 20, 30], 'C2': [20, 30, 40], 'C3': [12, 34]}\n",
    "original_dict[\"C1\"].clear()\n",
    "original_dict\n",
    "original_dict[\"C2\"].clear()\n",
    "original_dict\n",
    "original_dict[\"C3\"].clear()\n",
    "original_dict\n"
   ]
  },
  {
   "cell_type": "markdown",
   "id": "56dedf5a-baef-40e1-980f-63eedcd53f00",
   "metadata": {},
   "source": [
    "7.  Rivers: Make a dictionary containing three major rivers and the country \n",
    "each river runs through. One key-value pair might be 'nile': 'egypt'.\n",
    "• Use a loop to print a sentence about each river, such as The Nile runs \n",
    "through Egypt.\n",
    "• Use a loop to print the name of each river included in the dictionary.\n",
    "• Use a loop to print the name of each country included in the dictionary.\n"
   ]
  },
  {
   "cell_type": "code",
   "execution_count": 40,
   "id": "2d6aa1cc-239c-4599-94ca-0e7903682c21",
   "metadata": {},
   "outputs": [
    {
     "name": "stdout",
     "output_type": "stream",
     "text": [
      "The Nile runs through Egypt.\n",
      "The Amazon runs through Brazil.\n",
      "The Indus River runs through Pakistan.\n",
      "\n",
      "Rivers:\n",
      "Nile\n",
      "Amazon\n",
      "Indus River\n",
      "\n",
      "Countries:\n",
      "Egypt\n",
      "Brazil\n",
      "Pakistan\n"
     ]
    }
   ],
   "source": [
    "\n",
    "rivers = {\n",
    "    'Nile': 'Egypt',\n",
    "    'Amazon': 'Brazil',\n",
    "    'Indus River': 'Pakistan'\n",
    "}\n",
    "\n",
    "for river, country in rivers.items():\n",
    "    print(f\"The {river} runs through {country}.\")\n",
    "\n",
    "print()\n",
    "\n",
    "print(\"Rivers:\")\n",
    "for river in rivers.keys():\n",
    "    print(river)\n",
    "\n",
    "print()\n",
    "\n",
    "print(\"Countries:\")\n",
    "for country in rivers.values():\n",
    "    print(country)\n"
   ]
  },
  {
   "cell_type": "markdown",
   "id": "3cb61e06-b592-4064-b285-da41659f560e",
   "metadata": {},
   "source": [
    "<!-- 8. Movie Tickets: A movie theater charges different ticket prices depending on\n",
    "a person’s age. If a person is under the age of 3, the ticket is free; if they are\n",
    "between 3 and 12, the ticket is $10; and if they are over age 12, the ticket is\n",
    "$15. Write a loop in which you ask users their age, and then tell them the cost\n",
    "of their movie ticket. -->"
   ]
  },
  {
   "cell_type": "code",
   "execution_count": null,
   "id": "eee8aa46-900e-4f3e-9ee4-87006ac41040",
   "metadata": {},
   "outputs": [],
   "source": [
    "# <!-- 8. Movie Tickets: A movie theater charges different ticket prices depending on \n",
    "# a person’s age. If a person is under the age of 3, the ticket is free; if they are \n",
    "# between 3 and 12, the ticket is $10; and if they are over age 12, the ticket is \n",
    "# $15. Write a loop in which you ask users their age, and then tell them the cost \n",
    "# of their movie ticket. -->"
   ]
  },
  {
   "cell_type": "code",
   "execution_count": 41,
   "id": "90554576-2849-4000-89dc-c4767c47430b",
   "metadata": {},
   "outputs": [
    {
     "name": "stdin",
     "output_type": "stream",
     "text": [
      "Please enter your age (or type 'exit' to quit):  7\n"
     ]
    },
    {
     "name": "stdout",
     "output_type": "stream",
     "text": [
      "The cost of your movie ticket is $10\n"
     ]
    },
    {
     "name": "stdin",
     "output_type": "stream",
     "text": [
      "Please enter your age (or type 'exit' to quit):  2\n"
     ]
    },
    {
     "name": "stdout",
     "output_type": "stream",
     "text": [
      "your ticket is free\n"
     ]
    },
    {
     "name": "stdin",
     "output_type": "stream",
     "text": [
      "Please enter your age (or type 'exit' to quit):  77\n"
     ]
    },
    {
     "name": "stdout",
     "output_type": "stream",
     "text": [
      "The cost of your movie ticket is $15\n"
     ]
    },
    {
     "name": "stdin",
     "output_type": "stream",
     "text": [
      "Please enter your age (or type 'exit' to quit):  exit\n"
     ]
    },
    {
     "name": "stdout",
     "output_type": "stream",
     "text": [
      "Thank you! Have a great day!\n"
     ]
    }
   ],
   "source": [
    "while True:\n",
    "    age_input = input(\"Please enter your age (or type 'exit' to quit): \")\n",
    "    \n",
    "    if age_input.lower() == 'exit':\n",
    "        print(\"Thank you! Have a great day!\")\n",
    "        break\n",
    "\n",
    "    try:\n",
    "        age = int(age_input)\n",
    "    except ValueError:\n",
    "        print(\"Invalid input. Please enter a valid age.\")\n",
    "        continue\n",
    "\n",
    "    if age < 3:\n",
    "        ticket_price = 0\n",
    "        print(\"your ticket is free\")\n",
    "    elif 3 <= age <= 12:\n",
    "        ticket_price = 10\n",
    "        print(\"The cost of your movie ticket is $10\")\n",
    "    else:\n",
    "        ticket_price = 15\n",
    "        print(\"The cost of your movie ticket is $15\")\n"
   ]
  },
  {
   "cell_type": "code",
   "execution_count": null,
   "id": "83e00976-08eb-44b7-9113-3ea21ab0cc3f",
   "metadata": {},
   "outputs": [],
   "source": []
  },
  {
   "cell_type": "code",
   "execution_count": null,
   "id": "a55916a8-c7c1-417b-a70d-2de9b9921015",
   "metadata": {},
   "outputs": [],
   "source": []
  },
  {
   "cell_type": "code",
   "execution_count": null,
   "id": "eb73a08d-ec92-479c-94da-71156dd14e6b",
   "metadata": {},
   "outputs": [],
   "source": []
  },
  {
   "cell_type": "code",
   "execution_count": null,
   "id": "1a86f39b-350b-4574-b708-912f93feb132",
   "metadata": {},
   "outputs": [],
   "source": []
  },
  {
   "cell_type": "code",
   "execution_count": null,
   "id": "f0fe41cd-fbb4-4745-bdf1-6c12b00af5c0",
   "metadata": {},
   "outputs": [],
   "source": []
  }
 ],
 "metadata": {
  "kernelspec": {
   "display_name": "Python 3 (ipykernel)",
   "language": "python",
   "name": "python3"
  },
  "language_info": {
   "codemirror_mode": {
    "name": "ipython",
    "version": 3
   },
   "file_extension": ".py",
   "mimetype": "text/x-python",
   "name": "python",
   "nbconvert_exporter": "python",
   "pygments_lexer": "ipython3",
   "version": "3.12.4"
  }
 },
 "nbformat": 4,
 "nbformat_minor": 5
}
