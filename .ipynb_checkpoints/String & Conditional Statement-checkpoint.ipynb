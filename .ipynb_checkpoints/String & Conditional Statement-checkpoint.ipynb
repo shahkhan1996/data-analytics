{
 "cells": [
  {
   "cell_type": "markdown",
   "id": "c1a2c0a6-f60e-4aee-ac27-ceb70541851e",
   "metadata": {},
   "source": [
    "String common methods & opertaions:"
   ]
  },
  {
   "cell_type": "code",
   "execution_count": 11,
   "id": "ab266430-7cec-480b-a0f8-29cd6bb559a5",
   "metadata": {},
   "outputs": [],
   "source": [
    "# \\n new line\n",
    "# \\t tab space\n",
    "# concatenation (\"apple\" + \"fruit\")\n",
    "# Length of data = len(variable)"
   ]
  },
  {
   "cell_type": "markdown",
   "id": "827da559-80b3-4b03-9b8c-dd4846fc92cb",
   "metadata": {},
   "source": [
    "Indexing (positioning of character)"
   ]
  },
  {
   "cell_type": "code",
   "execution_count": 16,
   "id": "3fb10b42-cdc7-4b8e-afee-e17ec5f2f67a",
   "metadata": {},
   "outputs": [
    {
     "name": "stdout",
     "output_type": "stream",
     "text": [
      "rm\n"
     ]
    }
   ],
   "source": [
    "a = \"shahmir khan\"\n",
    "ch = a[6]+a[4]\n",
    "print(ch)"
   ]
  },
  {
   "cell_type": "markdown",
   "id": "953b8dcb-a0fc-445c-b0f8-4b4577cf0e01",
   "metadata": {},
   "source": [
    "Slicing (accessing a part of string)"
   ]
  },
  {
   "cell_type": "code",
   "execution_count": 23,
   "id": "15d7afeb-c14a-4e76-962e-9a7354b00ce8",
   "metadata": {},
   "outputs": [
    {
     "name": "stdout",
     "output_type": "stream",
     "text": [
      "live France\n"
     ]
    }
   ],
   "source": [
    "a = \"I live in France\"\n",
    "print(a[2:6],a[10:])"
   ]
  },
  {
   "cell_type": "code",
   "execution_count": 39,
   "id": "d100af82-4800-4803-bdee-a1f5ce003787",
   "metadata": {},
   "outputs": [
    {
     "name": "stdout",
     "output_type": "stream",
     "text": [
      "rainbow\n",
      "There are seven colors in rainbow\n"
     ]
    }
   ],
   "source": [
    "b = \"There are seven colors in rainbow\"\n",
    "print(b[-7:len(b)]) #negative slicing\n",
    "print(b[:])"
   ]
  },
  {
   "cell_type": "markdown",
   "id": "a676e1c0-7742-48ff-88e7-dc8bfb43a274",
   "metadata": {},
   "source": [
    "String Methods:"
   ]
  },
  {
   "cell_type": "code",
   "execution_count": 78,
   "id": "84a6ae01-8d60-45e0-9fed-eaf717d98d5d",
   "metadata": {},
   "outputs": [
    {
     "name": "stdout",
     "output_type": "stream",
     "text": [
      "True\n",
      "I live in france\n",
      "i stuyd in France\n",
      "10\n",
      "3\n",
      "False\n",
      "11\n",
      "I LIVE IN FRANCE\n",
      "i live in france\n",
      "I LIVE IN fRANCE\n",
      "Xi live in FranceX\n"
     ]
    }
   ],
   "source": [
    "str = \"i live in France\"\n",
    "print(str.endswith(\"France\")) #endswith (\"returns True if string ends with substr\")\n",
    "print(str.capitalize()) #capitalize\n",
    "print(str.replace(\"live\", \"stuyd\")) #replace(old, new)\n",
    "print(str.find(\"F\")) #find (\"returns index of first occurence\")\n",
    "print(str.count(\"i\")) #counts (\"occurence of substr\")\n",
    "print(str.startswith(\"live\")) #startswith  (\"returns True if string starts with substr\")\n",
    "print(str.index(\"r\")) #index (\"returns index # of 1st occurence of character\")\n",
    "print(str.upper()) #upper (turns whole character in upper case)\n",
    "print(str.lower()) #lower (turns whole character in lower case)\n",
    "print(str.swapcase()) #swapcase (turns lower to upper and upper to lower)\n",
    "print(str.join(\"XX\")) #join (\"puts character in start and end of a substr\")"
   ]
  },
  {
   "cell_type": "markdown",
   "id": "a23d99a3-d9b2-44f6-8720-d469a58f7047",
   "metadata": {},
   "source": [
    "Write a program to input user's first name and print its length"
   ]
  },
  {
   "cell_type": "code",
   "execution_count": 80,
   "id": "d2d1121f-9de8-4d6d-a7f5-3dba240702f1",
   "metadata": {},
   "outputs": [
    {
     "name": "stdin",
     "output_type": "stream",
     "text": [
      "enter first name:  Ali\n"
     ]
    },
    {
     "name": "stdout",
     "output_type": "stream",
     "text": [
      "Length is:  3\n"
     ]
    }
   ],
   "source": [
    "name = input(\"enter first name: \")\n",
    "length = len(name)\n",
    "print(\"Length is: \",length)"
   ]
  },
  {
   "cell_type": "markdown",
   "id": "58049c11-b9b6-464e-afbf-09ced610da46",
   "metadata": {},
   "source": [
    "Write a proram to find occurence of $ in a string"
   ]
  },
  {
   "cell_type": "code",
   "execution_count": 83,
   "id": "b9633287-c9ba-4b5b-a4ec-5daf3daf63a2",
   "metadata": {},
   "outputs": [
    {
     "name": "stdout",
     "output_type": "stream",
     "text": [
      "5 times\n"
     ]
    }
   ],
   "source": [
    "dollar = \"i am$ dollar$ which is$ international$ currency$\"\n",
    "print(dollar.count(\"$\"), \"times\")"
   ]
  },
  {
   "cell_type": "markdown",
   "id": "d9df38a6-5c33-4fa6-a39a-cdcf15d98f52",
   "metadata": {},
   "source": [
    "Conditional Statements"
   ]
  },
  {
   "cell_type": "code",
   "execution_count": 86,
   "id": "74010169-fce5-47e5-8bfa-c23f665cf970",
   "metadata": {},
   "outputs": [
    {
     "name": "stdin",
     "output_type": "stream",
     "text": [
      "enter marks:  99\n"
     ]
    },
    {
     "name": "stdout",
     "output_type": "stream",
     "text": [
      "grade of the student:  A\n"
     ]
    }
   ],
   "source": [
    "# if-elif-else\n",
    "# WAP to grade students based on marks\n",
    "marks = int(input(\"enter marks: \")) #typecasting, input function by default is str\n",
    "if(marks >= 90):\n",
    "    grade = \"A\"\n",
    "elif(marks >= 80 and marks < 90):\n",
    "    grade =\"B\"\n",
    "elif(marks >= 70 and marks < 80):\n",
    "    grade = \"C\"\n",
    "else:\n",
    "    grade = \"D\"\n",
    "print(\"grade of the student: \" ,grade)"
   ]
  },
  {
   "cell_type": "markdown",
   "id": "e313d879-efea-4d93-a8d5-002600aa3c23",
   "metadata": {},
   "source": [
    "Nested IF (condition into condition)"
   ]
  },
  {
   "cell_type": "code",
   "execution_count": 94,
   "id": "516d0040-2621-4a2e-848d-51d41b3338f7",
   "metadata": {},
   "outputs": [
    {
     "name": "stdin",
     "output_type": "stream",
     "text": [
      "enter age:  80\n"
     ]
    },
    {
     "name": "stdout",
     "output_type": "stream",
     "text": [
      "cannot drive\n"
     ]
    }
   ],
   "source": [
    "age = int(input(\"enter age: \"))\n",
    "if(age >= 18):\n",
    "    if(age >= 80):\n",
    "        print(\"cannot drive\")\n",
    "    else:\n",
    "        80\n",
    "        print(\"can drive\")\n",
    "else:\n",
    "    print(\"cannor drive\")\n"
   ]
  },
  {
   "cell_type": "code",
   "execution_count": 95,
   "id": "2594bb64-2886-4e70-a2f6-994111e19bc1",
   "metadata": {},
   "outputs": [
    {
     "name": "stdin",
     "output_type": "stream",
     "text": [
      "enter number:  4\n"
     ]
    },
    {
     "name": "stdout",
     "output_type": "stream",
     "text": [
      "even number\n"
     ]
    }
   ],
   "source": [
    "#WAP to check if a number entered by user is even or odd?\n",
    "num = int(input(\"enter number: \"))\n",
    "rem = num % 2\n",
    "if(rem == 0):\n",
    "    print(\"even number\")\n",
    "else:\n",
    "    print(\"odd number\")\n"
   ]
  },
  {
   "cell_type": "code",
   "execution_count": 96,
   "id": "cee88a50-eea7-4376-a420-3644b3539132",
   "metadata": {},
   "outputs": [
    {
     "name": "stdin",
     "output_type": "stream",
     "text": [
      "enter 1st num:  44\n",
      "enter 2nd num:  22\n",
      "enter 3rd num:  66\n"
     ]
    },
    {
     "name": "stdout",
     "output_type": "stream",
     "text": [
      "3rd number is greatest 66\n"
     ]
    }
   ],
   "source": [
    "# WAP to find greatest of 3 numbers entered by the user\n",
    "\n",
    "num1 = int(input(\"enter 1st num: \"))\n",
    "num2 = int(input(\"enter 2nd num: \"))\n",
    "num3 = int(input(\"enter 3rd num: \"))\n",
    "\n",
    "if(num1>=num2 and num1>=num3):\n",
    "    print(\"1st number is greatest\" , num1)\n",
    "elif(num2>=num3):\n",
    "    print(\"2nd number is greatest\" , num2)\n",
    "else:\n",
    "    print(\"3rd number is greatest\" , num3)"
   ]
  },
  {
   "cell_type": "code",
   "execution_count": 98,
   "id": "bd351da6-6698-4055-b672-524fb638a963",
   "metadata": {},
   "outputs": [
    {
     "name": "stdin",
     "output_type": "stream",
     "text": [
      "enter number:  2\n"
     ]
    },
    {
     "name": "stdout",
     "output_type": "stream",
     "text": [
      "not a multiple of 5\n"
     ]
    }
   ],
   "source": [
    "# WAP to check if number is a multiple of 5 or not\n",
    "x = int(input(\"enter number: \"))\n",
    "y = x%5\n",
    "if(y==0):\n",
    "    print(\"multiple of 5\")\n",
    "else:\n",
    "    print(\"not a multiple of 5\")\n"
   ]
  },
  {
   "cell_type": "code",
   "execution_count": null,
   "id": "2973eb58-e97d-4334-a7f2-1f880827b402",
   "metadata": {},
   "outputs": [],
   "source": []
  }
 ],
 "metadata": {
  "kernelspec": {
   "display_name": "Python 3 (ipykernel)",
   "language": "python",
   "name": "python3"
  },
  "language_info": {
   "codemirror_mode": {
    "name": "ipython",
    "version": 3
   },
   "file_extension": ".py",
   "mimetype": "text/x-python",
   "name": "python",
   "nbconvert_exporter": "python",
   "pygments_lexer": "ipython3",
   "version": "3.12.4"
  }
 },
 "nbformat": 4,
 "nbformat_minor": 5
}
