{
 "cells": [
  {
   "cell_type": "markdown",
   "id": "5726f809-22f7-4026-a112-8d335c54a2f6",
   "metadata": {},
   "source": [
    "Loops, While loop, For loop"
   ]
  },
  {
   "cell_type": "code",
   "execution_count": 1,
   "id": "5d77298b-6ad7-48e5-a83c-4567bff2bb43",
   "metadata": {},
   "outputs": [],
   "source": [
    "#Loops are used to repeat instructions"
   ]
  },
  {
   "cell_type": "code",
   "execution_count": 8,
   "id": "ba0e2f85-1fdd-4d09-bcc2-02b8907f64e0",
   "metadata": {},
   "outputs": [
    {
     "name": "stdout",
     "output_type": "stream",
     "text": [
      "hello world 1\n",
      "hello world 2\n",
      "hello world 3\n",
      "hello world 4\n",
      "hello world 5\n",
      "hello world 6\n"
     ]
    }
   ],
   "source": [
    "i = 1\n",
    "while i<=6: #stopping condtition\n",
    "    print(\"hello world\", i)\n",
    "    i+=1"
   ]
  },
  {
   "cell_type": "code",
   "execution_count": 11,
   "id": "11027fe0-99e1-4680-b3a9-5098ffa32b9c",
   "metadata": {},
   "outputs": [
    {
     "name": "stdout",
     "output_type": "stream",
     "text": [
      "0\n",
      "1\n",
      "2\n",
      "3\n",
      "4\n",
      "5\n"
     ]
    }
   ],
   "source": [
    "j = 0\n",
    "while j<=5: #condition\n",
    "    print(j)\n",
    "    j+=1"
   ]
  },
  {
   "cell_type": "code",
   "execution_count": 13,
   "id": "46278902-c48a-4a17-9c2d-69c32e75e827",
   "metadata": {},
   "outputs": [
    {
     "name": "stdout",
     "output_type": "stream",
     "text": [
      "5\n",
      "4\n",
      "3\n",
      "2\n",
      "1\n"
     ]
    }
   ],
   "source": [
    "i = 5\n",
    "while i >= 1: #condtion\n",
    "    print(i)\n",
    "    i -= 1"
   ]
  },
  {
   "cell_type": "code",
   "execution_count": 18,
   "id": "2352ac52-ac68-4727-8074-06bdad832175",
   "metadata": {},
   "outputs": [
    {
     "name": "stdout",
     "output_type": "stream",
     "text": [
      "hello world 1\n",
      "hello world 2\n",
      "hello world 3\n",
      "hello world 4\n",
      "hello world 5\n",
      "hello world 6\n",
      "hello world 7\n",
      "hello world 8\n",
      "hello world 9\n",
      "hello world 10\n"
     ]
    }
   ],
   "source": [
    "#Print numbers from 1 to 10\n",
    "i = 1\n",
    "while i <=10:\n",
    "    print(\"hello world\", i)\n",
    "    i+=1"
   ]
  },
  {
   "cell_type": "code",
   "execution_count": 3,
   "id": "35d1989a-3a56-47c4-904b-7ed9700fcac4",
   "metadata": {},
   "outputs": [
    {
     "name": "stdout",
     "output_type": "stream",
     "text": [
      "hello 9\n",
      "hello 8\n",
      "hello 7\n",
      "hello 6\n",
      "hello 5\n",
      "hello 4\n",
      "hello 3\n",
      "hello 2\n",
      "hello 1\n"
     ]
    }
   ],
   "source": [
    "#Print numbers from 10 to 1\n",
    "j = 9\n",
    "while j >= 1:\n",
    "    print(\"hello\", j)\n",
    "    j-=1"
   ]
  },
  {
   "cell_type": "code",
   "execution_count": null,
   "id": "e759411c-1733-4864-9cd9-6a00a8629be1",
   "metadata": {},
   "outputs": [],
   "source": [
    "#WAP to print multiplication table of number \"n\""
   ]
  },
  {
   "cell_type": "code",
   "execution_count": 10,
   "id": "4d92c2cf-0178-4fe8-9b15-b0091ee3b143",
   "metadata": {},
   "outputs": [
    {
     "name": "stdin",
     "output_type": "stream",
     "text": [
      "enter number:  3\n"
     ]
    },
    {
     "name": "stdout",
     "output_type": "stream",
     "text": [
      "3\n",
      "6\n",
      "9\n",
      "12\n",
      "15\n",
      "18\n",
      "21\n",
      "24\n",
      "27\n",
      "30\n"
     ]
    }
   ],
   "source": [
    "n = int(input(\"enter number: \"))\n",
    "i = 1\n",
    "while i<=10:\n",
    "    print(n*i)\n",
    "    i+=1"
   ]
  },
  {
   "cell_type": "code",
   "execution_count": 4,
   "id": "4ebd8a57-8f26-40e4-8ae5-9896b1f25f70",
   "metadata": {
    "jp-MarkdownHeadingCollapsed": true
   },
   "outputs": [
    {
     "name": "stdout",
     "output_type": "stream",
     "text": [
      "1\n",
      "3\n",
      "4\n",
      "6\n",
      "7\n",
      "8\n"
     ]
    }
   ],
   "source": [
    "#WAP print the elements of the following list using a loop\n",
    "\n",
    "a = [1,3,4,6,7,8]\n",
    "i = 0\n",
    "while i <= len(a)-1: #stopping condition\n",
    "    print(a[i])\n",
    "    i += 1"
   ]
  },
  {
   "cell_type": "code",
   "execution_count": 5,
   "id": "6fda4f2e-52bd-4f2e-ae09-d5be9d28e838",
   "metadata": {},
   "outputs": [
    {
     "name": "stdout",
     "output_type": "stream",
     "text": [
      "1\n",
      "3\n",
      "4\n",
      "6\n",
      "7\n",
      "8\n"
     ]
    }
   ],
   "source": [
    "a = [1,3,4,6,7,8]\n",
    "i = 0\n",
    "while i < len(a): #stopping condition\n",
    "    print(a[i])\n",
    "    i += 1"
   ]
  },
  {
   "cell_type": "code",
   "execution_count": 17,
   "id": "484a0d70-1fe7-4c9a-bfd6-f7440bad679b",
   "metadata": {},
   "outputs": [
    {
     "name": "stdin",
     "output_type": "stream",
     "text": [
      "enter number from tuple:  4\n"
     ]
    },
    {
     "name": "stdout",
     "output_type": "stream",
     "text": [
      "finding..\n",
      "finding..\n",
      "found at 2\n",
      "finding..\n",
      "finding..\n",
      "found at 5\n",
      "finding..\n",
      "finding..\n",
      "finding..\n"
     ]
    }
   ],
   "source": [
    "# Search for a number x in this tuple using loop\n",
    "a = (1,2,4,5,6,4,3,6,8)\n",
    "x = int(input(\"enter number from tuple: \"))\n",
    "i = 0\n",
    "while i < len(a):\n",
    "    if(a[i] == x):\n",
    "        print(\"found at\" , i)\n",
    "    else:\n",
    "        print(\"finding..\")\n",
    "    i+=1"
   ]
  },
  {
   "cell_type": "markdown",
   "id": "4c980805-0863-4709-8c69-9fae7e4919af",
   "metadata": {},
   "source": [
    "Break: Used to terminate the loop when encountered"
   ]
  },
  {
   "cell_type": "code",
   "execution_count": 3,
   "id": "5d075379-040b-4fbc-a82a-f250153266a7",
   "metadata": {},
   "outputs": [
    {
     "name": "stdout",
     "output_type": "stream",
     "text": [
      "1\n",
      "2\n",
      "3\n",
      "4\n",
      "5\n"
     ]
    }
   ],
   "source": [
    "i = 1\n",
    "while i <= 10:\n",
    "    print(i)\n",
    "    if(i == 5):\n",
    "        break\n",
    "    i+=1"
   ]
  },
  {
   "cell_type": "code",
   "execution_count": 4,
   "id": "46734aab-274c-4d74-b50e-8a8834ec2a41",
   "metadata": {},
   "outputs": [
    {
     "name": "stdin",
     "output_type": "stream",
     "text": [
      "enter number from tuple:  3\n"
     ]
    },
    {
     "name": "stdout",
     "output_type": "stream",
     "text": [
      "finding..\n",
      "finding..\n",
      "finding..\n",
      "finding..\n",
      "finding..\n",
      "finding..\n",
      "found at 6\n",
      "end of loop\n"
     ]
    }
   ],
   "source": [
    "a = (1,2,4,5,6,4,3,6,8)\n",
    "x = int(input(\"enter number from tuple: \"))\n",
    "i = 0\n",
    "while i < len(a):\n",
    "    if(a[i] == x):\n",
    "        print(\"found at\" , i)\n",
    "        break\n",
    "    else:\n",
    "        print(\"finding..\")\n",
    "    i+=1\n",
    "print(\"end of loop\")"
   ]
  },
  {
   "cell_type": "markdown",
   "id": "2a8074f1-4b51-4c71-842e-54df0955da15",
   "metadata": {},
   "source": [
    "Contunue: Terminates execution in the current itertaion & continues execution of the loop with the next itertaion "
   ]
  },
  {
   "cell_type": "code",
   "execution_count": 6,
   "id": "2059784b-4f7f-4a59-9674-61baf3dfefd2",
   "metadata": {},
   "outputs": [
    {
     "name": "stdout",
     "output_type": "stream",
     "text": [
      "5\n",
      "6\n",
      "8\n",
      "9\n",
      "10\n"
     ]
    }
   ],
   "source": [
    "i = 5\n",
    "while i <= 10:\n",
    "    if(i == 7):\n",
    "        i+=1\n",
    "        continue\n",
    "    print(i)\n",
    "    i+=1"
   ]
  },
  {
   "cell_type": "code",
   "execution_count": 7,
   "id": "7bea008c-12ec-4e90-a8ad-17abfacf64af",
   "metadata": {},
   "outputs": [
    {
     "name": "stdout",
     "output_type": "stream",
     "text": [
      "1\n",
      "3\n",
      "5\n",
      "7\n",
      "9\n",
      "11\n",
      "13\n",
      "15\n",
      "17\n",
      "19\n"
     ]
    }
   ],
   "source": [
    "#print odd # from 1 to 20\n",
    "i = 1\n",
    "while i <= 20:\n",
    "    if(i%2 == 0):\n",
    "        i+=1\n",
    "        continue\n",
    "    print(i)\n",
    "    i+=1"
   ]
  },
  {
   "cell_type": "code",
   "execution_count": 8,
   "id": "d4fa5fdf-cb28-4f82-b671-8f65a088ff0c",
   "metadata": {},
   "outputs": [
    {
     "name": "stdout",
     "output_type": "stream",
     "text": [
      "2\n",
      "4\n",
      "6\n",
      "8\n",
      "10\n",
      "12\n",
      "14\n",
      "16\n",
      "18\n",
      "20\n"
     ]
    }
   ],
   "source": [
    "#print odd # from 1 to 20\n",
    "i = 1\n",
    "while i <= 20:\n",
    "    if(i%2 != 0):\n",
    "        i+=1\n",
    "        continue\n",
    "    print(i)\n",
    "    i+=1"
   ]
  },
  {
   "cell_type": "markdown",
   "id": "c3d3c4ee-764f-4d8c-abbd-91b15559aacf",
   "metadata": {},
   "source": [
    "For Loop"
   ]
  },
  {
   "cell_type": "code",
   "execution_count": 1,
   "id": "ad2c04d9-eead-4d1e-9a4c-b5564adcef5b",
   "metadata": {},
   "outputs": [],
   "source": [
    "#For loops are used for sequential traversal. For traversing list, str, tuples etc"
   ]
  },
  {
   "cell_type": "code",
   "execution_count": 2,
   "id": "d7e5525d-784d-45b4-99ce-b26d1533a802",
   "metadata": {},
   "outputs": [
    {
     "name": "stdout",
     "output_type": "stream",
     "text": [
      "1\n",
      "2\n",
      "5\n",
      "6\n",
      "7\n",
      "8\n"
     ]
    }
   ],
   "source": [
    "a = [1,2,5,6,7,8]\n",
    "for b in a:\n",
    "    print(b)"
   ]
  },
  {
   "cell_type": "code",
   "execution_count": 3,
   "id": "fddb14d9-fa29-4ce8-85b8-8e398f8a3f5c",
   "metadata": {},
   "outputs": [
    {
     "name": "stdout",
     "output_type": "stream",
     "text": [
      "Apples\n",
      "ball\n",
      "cat\n",
      "table\n"
     ]
    }
   ],
   "source": [
    "a = [\"Apples\", \"ball\", \"cat\", \"table\"]\n",
    "for x in a:\n",
    "    print(x)"
   ]
  },
  {
   "cell_type": "code",
   "execution_count": 4,
   "id": "a4261f73-da77-4499-8001-ed7bc56c418f",
   "metadata": {},
   "outputs": [
    {
     "name": "stdout",
     "output_type": "stream",
     "text": [
      "a\n",
      "u\n",
      "s\n",
      "t\n",
      "r\n",
      "a\n",
      "l\n",
      "i\n",
      "a\n"
     ]
    }
   ],
   "source": [
    "x = \"australia\"\n",
    "for a in x:\n",
    "    print(a)"
   ]
  },
  {
   "cell_type": "code",
   "execution_count": 5,
   "id": "d6100309-cc97-4006-aa5c-74b4c77f168d",
   "metadata": {},
   "outputs": [
    {
     "name": "stdout",
     "output_type": "stream",
     "text": [
      "1\n",
      "2\n",
      "3\n",
      "3\n",
      "3\n",
      "3\n",
      "4\n",
      "5\n",
      "6\n",
      "6\n",
      "this is end\n"
     ]
    }
   ],
   "source": [
    "a = [1,2,3,3,3,3,4,5,6,6]\n",
    "for b in a:\n",
    "    print(b)\n",
    "else:\n",
    "    print(\"this is end\")"
   ]
  },
  {
   "cell_type": "code",
   "execution_count": 8,
   "id": "f8aac6be-c18e-4569-bbc6-343c8eb44d67",
   "metadata": {},
   "outputs": [
    {
     "name": "stdout",
     "output_type": "stream",
     "text": [
      "c\n",
      "o\n",
      "c\n",
      "o\n",
      "n\n",
      "u\n",
      "found t\n"
     ]
    }
   ],
   "source": [
    "#why does it need to use \"else\" in for loop\n",
    "a = \"coconuts\"\n",
    "for x in a:\n",
    "    if(x == \"t\"):\n",
    "        print(\"found t\")\n",
    "        break\n",
    "    print(x)\n",
    "else:\n",
    "    print(\"end\") #else will not execute\n",
    "    "
   ]
  },
  {
   "cell_type": "code",
   "execution_count": 10,
   "id": "88f917d4-9afc-46c7-8dda-f3a55a4d6ce1",
   "metadata": {},
   "outputs": [
    {
     "name": "stdout",
     "output_type": "stream",
     "text": [
      "c\n",
      "o\n",
      "c\n",
      "o\n",
      "n\n",
      "u\n",
      "found t\n",
      "end\n"
     ]
    }
   ],
   "source": [
    "a = \"coconuts\"\n",
    "for x in a:\n",
    "    if(x == \"t\"):\n",
    "        print(\"found t\")\n",
    "        break\n",
    "    print(x)\n",
    "print(\"end\")"
   ]
  },
  {
   "cell_type": "code",
   "execution_count": 11,
   "id": "bc248fbc-bbc2-4ccc-94cf-b08a3d43e318",
   "metadata": {},
   "outputs": [
    {
     "name": "stdout",
     "output_type": "stream",
     "text": [
      "1\n",
      "4\n",
      "9\n",
      "16\n",
      "25\n",
      "36\n",
      "49\n",
      "64\n",
      "81\n",
      "100\n"
     ]
    }
   ],
   "source": [
    "a = [1,4,9,16,25,36,49,64,81,100]\n",
    "for x in a:\n",
    "    print(x)"
   ]
  },
  {
   "cell_type": "code",
   "execution_count": 23,
   "id": "8f3690b6-892f-42af-bf52-8e8dc2edec8a",
   "metadata": {},
   "outputs": [
    {
     "name": "stdout",
     "output_type": "stream",
     "text": [
      "found at idx 1\n"
     ]
    }
   ],
   "source": [
    "a = (1,4,9,16,25,36,49,64,4,4,81,100)\n",
    "b = 4\n",
    "idx = 0\n",
    "for x in a:\n",
    "    if(x == b):\n",
    "        print(\"found at idx\",idx)\n",
    "        break\n",
    "    idx += 1"
   ]
  },
  {
   "cell_type": "code",
   "execution_count": 24,
   "id": "6e001a12-964c-4c7f-8f48-888ad3e62420",
   "metadata": {},
   "outputs": [
    {
     "name": "stdout",
     "output_type": "stream",
     "text": [
      "found at idx 1\n",
      "found at idx 8\n",
      "found at idx 9\n"
     ]
    }
   ],
   "source": [
    "a = (1,4,9,16,25,36,49,64,4,4,81,100)\n",
    "b = 4\n",
    "idx = 0\n",
    "for x in a:\n",
    "    if(x == b):\n",
    "        print(\"found at idx\",idx)\n",
    "    idx += 1"
   ]
  },
  {
   "cell_type": "markdown",
   "id": "b3e18e8c-c1e4-4770-8231-c627257ce402",
   "metadata": {},
   "source": [
    "Range function"
   ]
  },
  {
   "cell_type": "code",
   "execution_count": 25,
   "id": "70f7c00a-1a84-4a36-a0d4-ff1c4dc89bb2",
   "metadata": {},
   "outputs": [],
   "source": [
    "#It returns a sequence of number starting from zero by default and increments by 1 by default and stops before a specfied number\n",
    "# range(start? , step size, stop?)"
   ]
  },
  {
   "cell_type": "code",
   "execution_count": 35,
   "id": "f424da70-23d4-4461-ab21-651e58a4ea5e",
   "metadata": {},
   "outputs": [
    {
     "name": "stdout",
     "output_type": "stream",
     "text": [
      "range(0, 4)\n",
      "range(0, 7)\n"
     ]
    }
   ],
   "source": [
    "print(range(4))\n",
    "print(range(7))"
   ]
  },
  {
   "cell_type": "code",
   "execution_count": 34,
   "id": "0952c509-a518-4375-b33b-2dc6056c319d",
   "metadata": {},
   "outputs": [
    {
     "name": "stdout",
     "output_type": "stream",
     "text": [
      "0\n",
      "1\n",
      "4\n",
      "6\n"
     ]
    }
   ],
   "source": [
    "seq = range(7)\n",
    "print(seq[0])\n",
    "print(seq[1])\n",
    "print(seq[4])\n",
    "print(seq[6])"
   ]
  },
  {
   "cell_type": "code",
   "execution_count": 37,
   "id": "dcf97f5a-bb86-4f11-940b-4924b820197e",
   "metadata": {},
   "outputs": [
    {
     "name": "stdout",
     "output_type": "stream",
     "text": [
      "0\n",
      "1\n",
      "2\n",
      "3\n",
      "4\n",
      "5\n",
      "6\n",
      "7\n",
      "8\n"
     ]
    }
   ],
   "source": [
    "seq = range(9)\n",
    "for i in seq:\n",
    "    print(i)"
   ]
  },
  {
   "cell_type": "code",
   "execution_count": 38,
   "id": "890988fe-f8ba-4106-8980-9d2d096fa25b",
   "metadata": {},
   "outputs": [
    {
     "name": "stdout",
     "output_type": "stream",
     "text": [
      "0\n",
      "1\n",
      "2\n"
     ]
    }
   ],
   "source": [
    "for i in range(3): #stop at 3\n",
    "    print(i)"
   ]
  },
  {
   "cell_type": "code",
   "execution_count": 39,
   "id": "c671792e-d75a-47e0-bdb7-37440d68ecc5",
   "metadata": {},
   "outputs": [
    {
     "name": "stdout",
     "output_type": "stream",
     "text": [
      "2\n",
      "3\n",
      "4\n",
      "5\n",
      "6\n",
      "7\n",
      "8\n",
      "9\n"
     ]
    }
   ],
   "source": [
    "for i in range(2,10): #range(start, stop)\n",
    "    print(i)"
   ]
  },
  {
   "cell_type": "code",
   "execution_count": 41,
   "id": "403cb021-a591-40db-8fe8-aa10186fd9be",
   "metadata": {},
   "outputs": [
    {
     "name": "stdout",
     "output_type": "stream",
     "text": [
      "2\n",
      "5\n",
      "8\n",
      "11\n",
      "14\n",
      "17\n"
     ]
    }
   ],
   "source": [
    "for i in range(2,20,3): #range(start, stop, step size)\n",
    "    print(i)"
   ]
  },
  {
   "cell_type": "code",
   "execution_count": 43,
   "id": "c4f31abc-e146-4d18-afab-aa2604f70864",
   "metadata": {},
   "outputs": [
    {
     "name": "stdout",
     "output_type": "stream",
     "text": [
      "2\n",
      "4\n",
      "6\n",
      "8\n"
     ]
    }
   ],
   "source": [
    "# even numbers\n",
    "for i in range(2,10,2):\n",
    "    print(i)"
   ]
  },
  {
   "cell_type": "code",
   "execution_count": 47,
   "id": "b255f892-874b-47e7-bca7-d6047565c456",
   "metadata": {},
   "outputs": [
    {
     "name": "stdout",
     "output_type": "stream",
     "text": [
      "1\n",
      "3\n",
      "5\n",
      "7\n",
      "9\n",
      "11\n",
      "13\n",
      "15\n",
      "17\n",
      "19\n"
     ]
    }
   ],
   "source": [
    "#odd number\n",
    "for i in range(1,20,2):\n",
    "    print(i)"
   ]
  },
  {
   "cell_type": "code",
   "execution_count": 50,
   "id": "7b0fee58-49fb-4586-bcf0-b1489bad5379",
   "metadata": {},
   "outputs": [
    {
     "name": "stdout",
     "output_type": "stream",
     "text": [
      "20\n",
      "19\n",
      "18\n",
      "17\n",
      "16\n",
      "15\n",
      "14\n",
      "13\n",
      "12\n",
      "11\n",
      "10\n",
      "9\n",
      "8\n",
      "7\n",
      "6\n",
      "5\n",
      "4\n",
      "3\n",
      "2\n",
      "1\n"
     ]
    }
   ],
   "source": [
    "for i in range(20, 0,-1):\n",
    "    print(i)"
   ]
  },
  {
   "cell_type": "code",
   "execution_count": 52,
   "id": "3ccf87d7-64b3-4aaf-8843-afa113d4e760",
   "metadata": {},
   "outputs": [
    {
     "name": "stdin",
     "output_type": "stream",
     "text": [
      "enter num:  3\n"
     ]
    },
    {
     "name": "stdout",
     "output_type": "stream",
     "text": [
      "3\n",
      "6\n",
      "9\n",
      "12\n",
      "15\n",
      "18\n",
      "21\n",
      "24\n",
      "27\n",
      "30\n"
     ]
    }
   ],
   "source": [
    "n = int(input(\"enter num: \"))\n",
    "for i in range(1,11):\n",
    "    print(n*i)"
   ]
  },
  {
   "cell_type": "markdown",
   "id": "1e5e5986-4138-4eb0-9f03-21ee6654cfd8",
   "metadata": {},
   "source": [
    "Pass Statement"
   ]
  },
  {
   "cell_type": "code",
   "execution_count": 54,
   "id": "fe217c8f-95a3-49c4-9307-c290d820c2c8",
   "metadata": {},
   "outputs": [],
   "source": [
    "# pass is a null statement that does nothing. It is used as a placeholder for future code"
   ]
  },
  {
   "cell_type": "code",
   "execution_count": 57,
   "id": "34628c89-0b9b-4af5-817e-37d60498edb8",
   "metadata": {},
   "outputs": [
    {
     "name": "stdout",
     "output_type": "stream",
     "text": [
      "some useful work\n"
     ]
    }
   ],
   "source": [
    "for i in range(4):\n",
    "    pass\n",
    "print(\"some useful work\")"
   ]
  },
  {
   "cell_type": "code",
   "execution_count": 59,
   "id": "82901629-c03d-4358-94d7-1a3e1d6eb32b",
   "metadata": {},
   "outputs": [],
   "source": [
    "if i < 5:\n",
    "    pass"
   ]
  },
  {
   "cell_type": "code",
   "execution_count": 12,
   "id": "dfbfec7f-c488-47cc-aaca-4ef5a5c1bc89",
   "metadata": {},
   "outputs": [
    {
     "name": "stdout",
     "output_type": "stream",
     "text": [
      "1\n",
      "2\n",
      "3\n",
      "4\n",
      "5\n",
      "6\n",
      "7\n",
      "8\n",
      "9\n"
     ]
    }
   ],
   "source": [
    "#WAP to find sum of first n natural numbers\n",
    "n = 1\n",
    "while n <=9:\n",
    "    print(n)\n",
    "    n+=1"
   ]
  },
  {
   "cell_type": "code",
   "execution_count": 14,
   "id": "65bbbf3a-6bfd-4d23-a1c0-0cc01efcb070",
   "metadata": {},
   "outputs": [
    {
     "name": "stdout",
     "output_type": "stream",
     "text": [
      "total sum:  36\n"
     ]
    }
   ],
   "source": [
    "#WAP to print n natural numbers\n",
    "n = 8\n",
    "sum = 0\n",
    "for i in range(1, n+1):\n",
    "    sum+=i\n",
    "print(\"total sum: \", sum)"
   ]
  },
  {
   "cell_type": "code",
   "execution_count": 6,
   "id": "bbe9d3a4-dda0-48eb-a782-692eb156e6b5",
   "metadata": {},
   "outputs": [
    {
     "name": "stdout",
     "output_type": "stream",
     "text": [
      "total sum:  15\n"
     ]
    }
   ],
   "source": [
    "n = 5\n",
    "sum = 0\n",
    "i = 1\n",
    "while i <= n:\n",
    "    sum += i\n",
    "    i+=1\n",
    "print(\"total sum: \", sum)"
   ]
  },
  {
   "cell_type": "code",
   "execution_count": 9,
   "id": "e8ff8e64-380c-4b36-a5b5-f30a0ec84e87",
   "metadata": {},
   "outputs": [
    {
     "name": "stdout",
     "output_type": "stream",
     "text": [
      "factorial  6\n"
     ]
    }
   ],
   "source": [
    "#WAP to find the factorial of first n numbers (using for)\n",
    "n = 3\n",
    "factorial = 1\n",
    "i = 1\n",
    "while i <= n:\n",
    "    factorial *= i\n",
    "    i+=1\n",
    "print(\"factorial \", factorial)"
   ]
  },
  {
   "cell_type": "code",
   "execution_count": 14,
   "id": "82459a5d-deb9-4dd3-9868-442ef3b15e78",
   "metadata": {},
   "outputs": [
    {
     "name": "stdout",
     "output_type": "stream",
     "text": [
      "Factorial:  6\n"
     ]
    }
   ],
   "source": [
    "n = 3\n",
    "fact =1 \n",
    "for i in range(1, n+1):\n",
    "    fact *= i\n",
    "\n",
    "print(\"Factorial: \", fact)"
   ]
  },
  {
   "cell_type": "code",
   "execution_count": null,
   "id": "1dc6ee4c-06e8-4560-afde-4c2c169c5c7a",
   "metadata": {},
   "outputs": [],
   "source": []
  }
 ],
 "metadata": {
  "kernelspec": {
   "display_name": "Python 3 (ipykernel)",
   "language": "python",
   "name": "python3"
  },
  "language_info": {
   "codemirror_mode": {
    "name": "ipython",
    "version": 3
   },
   "file_extension": ".py",
   "mimetype": "text/x-python",
   "name": "python",
   "nbconvert_exporter": "python",
   "pygments_lexer": "ipython3",
   "version": "3.12.4"
  }
 },
 "nbformat": 4,
 "nbformat_minor": 5
}
