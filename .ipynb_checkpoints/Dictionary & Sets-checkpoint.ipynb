{
 "cells": [
  {
   "cell_type": "markdown",
   "id": "7fd94c54-e625-4c2a-b5e8-6b2650e88917",
   "metadata": {},
   "source": [
    "Dictionary:"
   ]
  },
  {
   "cell_type": "markdown",
   "id": "401ffe62-af13-4d9e-9ecb-b45f217674aa",
   "metadata": {},
   "source": [
    "Dictionary is used to store data values in key:value pairs"
   ]
  },
  {
   "cell_type": "markdown",
   "id": "63c70630-8928-482d-be27-d0a8a822171f",
   "metadata": {},
   "source": [
    "They are unordered, mutable and do not allow duplicate key"
   ]
  },
  {
   "cell_type": "code",
   "execution_count": 11,
   "id": "0ab63029-edb0-48a6-9ccc-4e8083550b09",
   "metadata": {},
   "outputs": [
    {
     "name": "stdout",
     "output_type": "stream",
     "text": [
      "{'key': 'value', 'name': 'ali', 'age': 22, 'gender': True, 'a': [1, 2, 3, 4], 'b': 'a', 11: 33, 'location': 'world'}\n"
     ]
    }
   ],
   "source": [
    "# format\n",
    "dict = {\n",
    "    \"key\" : \"value\",\n",
    "    \"name\" : \"shahmir\",\n",
    "    \"age\" : 22,\n",
    "    \"gender\" : True,\n",
    "    \"a\" : [1,2,3,4],\n",
    "    \"b\" : (\"a\"),\n",
    "    11 : 33\n",
    "}\n",
    "# print(dict)\n",
    "# print(dict[\"name\"]) #access dict value\n",
    "dict[\"name\"] = \"ali\" #add key in dictionary\n",
    "dict[\"location\"] = \"world\"\n",
    "print(dict)"
   ]
  },
  {
   "cell_type": "markdown",
   "id": "9749d4ce-2e4f-4f30-bc6e-4067468fab6a",
   "metadata": {},
   "source": [
    "Nested Dictionary"
   ]
  },
  {
   "cell_type": "code",
   "execution_count": 14,
   "id": "6e68cf0a-876f-412f-855e-62d57597108e",
   "metadata": {},
   "outputs": [
    {
     "name": "stdout",
     "output_type": "stream",
     "text": [
      "22\n"
     ]
    }
   ],
   "source": [
    "student = {\n",
    "    \"name\" : \"shahmir\",\n",
    "    \"subjects\" : {\n",
    "        \"phy\" : 22,\n",
    "        \"chem\" : 21,\n",
    "        \"maths\" : 22,\n",
    "    }\n",
    "}\n",
    "print(student[\"subjects\"][\"phy\"])"
   ]
  },
  {
   "cell_type": "markdown",
   "id": "f80c1568-0ea5-4858-a360-86d55de6c817",
   "metadata": {},
   "source": [
    "Dcitionary Methods"
   ]
  },
  {
   "cell_type": "code",
   "execution_count": 38,
   "id": "a2831d1b-8a51-4117-9783-b3c142a4c3fe",
   "metadata": {},
   "outputs": [
    {
     "name": "stdout",
     "output_type": "stream",
     "text": [
      "['__class__', '__class_getitem__', '__contains__', '__delattr__', '__delitem__', '__dir__', '__doc__', '__eq__', '__format__', '__ge__', '__getattribute__', '__getitem__', '__getstate__', '__gt__', '__hash__', '__init__', '__init_subclass__', '__ior__', '__iter__', '__le__', '__len__', '__lt__', '__ne__', '__new__', '__or__', '__reduce__', '__reduce_ex__', '__repr__', '__reversed__', '__ror__', '__setattr__', '__setitem__', '__sizeof__', '__str__', '__subclasshook__', 'clear', 'copy', 'fromkeys', 'get', 'items', 'keys', 'pop', 'popitem', 'setdefault', 'update', 'values']\n"
     ]
    }
   ],
   "source": [
    "dict = {\n",
    "    \"key\" : \"value\",\n",
    "    \"name\" : \"shahmir\",\n",
    "    \"age\" : 22,\n",
    "    \"gender\" : True,\n",
    "    \"a\" : [1,2,4],\n",
    "    \"b\" : (\"a\"),\n",
    "    11 : 33\n",
    "}\n",
    "# dict.keys() #returns all keys\n",
    "# dict.values() #returns all values\n",
    "# dict.items() #returns all pairs as tuple\n",
    "# a = list(dict.items())\n",
    "# print(a[2])\n",
    "\n",
    "# print(tuple(dict.keys())) #type casting\n",
    "# dict[\"a\"][2] #access list index in a dict\n",
    "# print(type(dict))\n",
    "# print(dict[\"age\"]) #returns key according to value\n",
    "# print(dict.get(\"age1\"))\n",
    "# print(dict.update({\"abc\" : \"xyz\", \"fruit\" : \"apple\"})) #inserts the specified items to the dict\n",
    "# print(dict)\n",
    "print(dir(dict))"
   ]
  },
  {
   "cell_type": "markdown",
   "id": "fa5f765d-8c73-4613-9256-98a5d123d3b5",
   "metadata": {},
   "source": [
    "Set"
   ]
  },
  {
   "cell_type": "code",
   "execution_count": 48,
   "id": "43df8f90-d9a5-4fc3-a72b-28e0dc8e2ae2",
   "metadata": {},
   "outputs": [],
   "source": [
    "a = {1,3,4,2,2,2,2,5,6}\n",
    "b = {1,2,3,4,\"abc\",\"aaa\"}\n",
    "# print(type(a))\n",
    "# print(a)\n",
    "# print(b)\n",
    "# print(len(a)) #sets does not count duplicate value\n",
    "\n",
    "\n",
    "#Empty set format\n",
    "# collection  = set()"
   ]
  },
  {
   "cell_type": "markdown",
   "id": "af23ccd5-452f-4f57-921b-8ea59942008b",
   "metadata": {},
   "source": [
    "Set Methods"
   ]
  },
  {
   "cell_type": "code",
   "execution_count": 52,
   "id": "1c2e50a7-ba85-4cd2-8869-889fd8177cbb",
   "metadata": {},
   "outputs": [
    {
     "name": "stdout",
     "output_type": "stream",
     "text": [
      "{(1, 2, 3, 4), 1, 2, 'abc'}\n"
     ]
    }
   ],
   "source": [
    "# a = set()\n",
    "# a.add(1) #adds an element in a set\n",
    "# a.add(1)\n",
    "# a.add(\"abc\")\n",
    "# a.add(2)\n",
    "# a.add((1,2,3,4))\n",
    "# print(a)\n"
   ]
  },
  {
   "cell_type": "code",
   "execution_count": 56,
   "id": "f7b5dace-abbc-4371-9527-7d26172b803e",
   "metadata": {},
   "outputs": [
    {
     "data": {
      "text/plain": [
       "2"
      ]
     },
     "execution_count": 56,
     "metadata": {},
     "output_type": "execute_result"
    }
   ],
   "source": [
    "a = {1,2,2,2,2,23,3,3,3}\n",
    "# a.remove(2) #ewmoves element\n",
    "# print(a)\n",
    "\n",
    "# a.clear() #removes whole set\n",
    "# print(a)\n",
    "\n",
    "a.pop() #returns random value\n",
    "a.pop()"
   ]
  },
  {
   "cell_type": "code",
   "execution_count": 61,
   "id": "b858246e-47b0-49d6-afa6-fe8aaaf21db3",
   "metadata": {},
   "outputs": [
    {
     "name": "stdout",
     "output_type": "stream",
     "text": [
      "{1, 2, 3, 4, 'abc', 'aaa', 23}\n",
      "{1, 2, 3}\n"
     ]
    }
   ],
   "source": [
    "a = {1,2,2,2,2,23,3,3,3}\n",
    "b = {1,2,3,4,\"abc\",\"aaa\"}\n",
    "# a.union(b)\n",
    "# print(a)\n",
    "\n",
    "print(a.union(b))\n",
    "print(a.intersection(b))\n"
   ]
  },
  {
   "cell_type": "markdown",
   "id": "440813b9-a605-4516-b98e-6972414cee7d",
   "metadata": {},
   "source": [
    "#WAP you are given a list of subjects for students. Assume one classroom is required for 1 subject. How many classrooms are needed by all students.\n",
    "\n",
    "python, java, c++,python,c,python,java,java,c++,c"
   ]
  },
  {
   "cell_type": "code",
   "execution_count": 64,
   "id": "cf2738ed-c367-4feb-a8a7-fe539094ed7e",
   "metadata": {},
   "outputs": [
    {
     "name": "stdout",
     "output_type": "stream",
     "text": [
      "5 classes\n"
     ]
    }
   ],
   "source": [
    "subjects = {\"python\", \"java\", \"c++\",\"python\",\"c#\",\"c\",\"python\",\"java\",\"java\",\"c++\",\"c\"}\n",
    "print(len(subjects), \"classes\")"
   ]
  },
  {
   "cell_type": "code",
   "execution_count": null,
   "id": "e424243d-b06a-4b17-ada2-37f409d9c9f8",
   "metadata": {},
   "outputs": [],
   "source": [
    "# #WAP to enter marks of 3 subjects from the user and store them in a dictionary. Start with an empty dictionary & add one by one.\n",
    "# Use subject name as key and marks as value"
   ]
  },
  {
   "cell_type": "code",
   "execution_count": 2,
   "id": "576fe904-acd7-4cee-9721-7a71c89c0c4f",
   "metadata": {},
   "outputs": [
    {
     "name": "stdin",
     "output_type": "stream",
     "text": [
      "enter phy marks:  33\n",
      "enter maths marks:  44\n",
      "enter eng marks:  66\n"
     ]
    },
    {
     "name": "stdout",
     "output_type": "stream",
     "text": [
      "{'phy': 33, 'maths': 44, 'eng': 66}\n"
     ]
    }
   ],
   "source": [
    "marks = {}\n",
    "\n",
    "x = int(input(\"enter phy marks: \"))\n",
    "marks.update({\"phy\" : x})\n",
    "\n",
    "\n",
    "x = int(input(\"enter maths marks: \"))\n",
    "marks.update({\"maths\" : x})\n",
    "\n",
    "\n",
    "x = int(input(\"enter eng marks: \"))\n",
    "marks.update({\"eng\" : x})\n",
    "\n",
    "print(marks)"
   ]
  },
  {
   "cell_type": "code",
   "execution_count": 6,
   "id": "b23340cc-109f-4eed-95c0-3fe0b881167d",
   "metadata": {},
   "outputs": [
    {
     "name": "stdout",
     "output_type": "stream",
     "text": [
      "{9}\n"
     ]
    }
   ],
   "source": [
    "a = {9, \"9.0\"} #python considers 9 and 9.0 as same value if stored in set\n",
    "print(a)"
   ]
  },
  {
   "cell_type": "code",
   "execution_count": null,
   "id": "90f392e1-b4c6-4105-9cbb-97b59cf8b774",
   "metadata": {},
   "outputs": [],
   "source": []
  }
 ],
 "metadata": {
  "kernelspec": {
   "display_name": "Python 3 (ipykernel)",
   "language": "python",
   "name": "python3"
  },
  "language_info": {
   "codemirror_mode": {
    "name": "ipython",
    "version": 3
   },
   "file_extension": ".py",
   "mimetype": "text/x-python",
   "name": "python",
   "nbconvert_exporter": "python",
   "pygments_lexer": "ipython3",
   "version": "3.12.4"
  }
 },
 "nbformat": 4,
 "nbformat_minor": 5
}
