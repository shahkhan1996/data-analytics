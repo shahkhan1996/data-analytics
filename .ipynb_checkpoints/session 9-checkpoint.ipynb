{
 "cells": [
  {
   "cell_type": "markdown",
   "id": "e962040e-7965-4663-ab4f-4bc5dbd67af5",
   "metadata": {},
   "source": [
    "# Session 9"
   ]
  },
  {
   "cell_type": "code",
   "execution_count": 5,
   "id": "8df4cda6-5523-4cc7-9a29-e97e1ae2a197",
   "metadata": {},
   "outputs": [
    {
     "data": {
      "text/plain": [
       "'france'"
      ]
     },
     "execution_count": 5,
     "metadata": {},
     "output_type": "execute_result"
    }
   ],
   "source": [
    "world_cup_winners = ('Argentina','france','germany')\n",
    "world_cup_winners[1]"
   ]
  },
  {
   "cell_type": "markdown",
   "id": "dc08a2f1-0879-4e99-b0a0-5f431d9326f1",
   "metadata": {},
   "source": [
    "# mutable -> changable -> list\n",
    "# immuttable -> unchangable -> tuple"
   ]
  },
  {
   "cell_type": "code",
   "execution_count": 8,
   "id": "4bdf7c79-a486-457b-9136-985059b63f4f",
   "metadata": {},
   "outputs": [
    {
     "ename": "TypeError",
     "evalue": "'tuple' object does not support item assignment",
     "output_type": "error",
     "traceback": [
      "\u001b[1;31m---------------------------------------------------------------------------\u001b[0m",
      "\u001b[1;31mTypeError\u001b[0m                                 Traceback (most recent call last)",
      "Cell \u001b[1;32mIn[8], line 1\u001b[0m\n\u001b[1;32m----> 1\u001b[0m world_cup_winners[\u001b[38;5;241m0\u001b[39m] \u001b[38;5;241m=\u001b[39m \u001b[38;5;124m'\u001b[39m\u001b[38;5;124mfrance\u001b[39m\u001b[38;5;124m'\u001b[39m\n",
      "\u001b[1;31mTypeError\u001b[0m: 'tuple' object does not support item assignment"
     ]
    }
   ],
   "source": [
    "world_cup_winners[0] = 'france'"
   ]
  },
  {
   "cell_type": "code",
   "execution_count": 12,
   "id": "71638a4a-4e4e-4700-a328-519f1b3683df",
   "metadata": {},
   "outputs": [
    {
     "data": {
      "text/plain": [
       "('usa', 'pakistan', 'india')"
      ]
     },
     "execution_count": 12,
     "metadata": {},
     "output_type": "execute_result"
    }
   ],
   "source": [
    "world_cup_winners = ('usa','pakistan','india')\n",
    "world_cup_winners"
   ]
  },
  {
   "cell_type": "markdown",
   "id": "5d777987-6f81-44d8-b5e5-dadbb87d9be7",
   "metadata": {},
   "source": [
    "# Dictionary"
   ]
  },
  {
   "cell_type": "code",
   "execution_count": 17,
   "id": "12649003-fd6b-426a-b2e6-87a17690c005",
   "metadata": {},
   "outputs": [
    {
     "data": {
      "text/plain": [
       "{'id': 1122, 'name': 'zubair', 'age': 31, 'gender': 'male'}"
      ]
     },
     "execution_count": 17,
     "metadata": {},
     "output_type": "execute_result"
    }
   ],
   "source": [
    "patient1 = {\n",
    "    'id' : 1122,\n",
    "    'name' : 'zubair',\n",
    "    'age': 31,\n",
    "    'gender' : 'male'\n",
    "}\n",
    "patient1"
   ]
  },
  {
   "cell_type": "code",
   "execution_count": 21,
   "id": "73e4cf56-ca65-4f78-bea4-c1470d0cb4dc",
   "metadata": {},
   "outputs": [
    {
     "data": {
      "text/plain": [
       "'zubair'"
      ]
     },
     "execution_count": 21,
     "metadata": {},
     "output_type": "execute_result"
    }
   ],
   "source": [
    "patient1['name']"
   ]
  },
  {
   "cell_type": "code",
   "execution_count": 23,
   "id": "b4d3b09c-e36f-4147-9698-711b5b0e503e",
   "metadata": {},
   "outputs": [
    {
     "data": {
      "text/plain": [
       "{'id': 1122, 'name': 'zubair', 'age': 31}"
      ]
     },
     "execution_count": 23,
     "metadata": {},
     "output_type": "execute_result"
    }
   ],
   "source": [
    "del patient1['gender']\n",
    "patient1"
   ]
  },
  {
   "cell_type": "code",
   "execution_count": 75,
   "id": "8ab8c90f-ce19-47bd-93f6-3c56013be695",
   "metadata": {},
   "outputs": [
    {
     "ename": "NameError",
     "evalue": "name 'patient1' is not defined",
     "output_type": "error",
     "traceback": [
      "\u001b[1;31m---------------------------------------------------------------------------\u001b[0m",
      "\u001b[1;31mNameError\u001b[0m                                 Traceback (most recent call last)",
      "Cell \u001b[1;32mIn[75], line 1\u001b[0m\n\u001b[1;32m----> 1\u001b[0m \u001b[38;5;28;01mdel\u001b[39;00m patient1\n\u001b[0;32m      2\u001b[0m patient1\n",
      "\u001b[1;31mNameError\u001b[0m: name 'patient1' is not defined"
     ]
    }
   ],
   "source": [
    "del patient1\n",
    "patient1"
   ]
  },
  {
   "cell_type": "code",
   "execution_count": 25,
   "id": "e88889f6-cefd-480f-92f8-552b19235256",
   "metadata": {},
   "outputs": [
    {
     "data": {
      "text/plain": [
       "{'id': 1122, 'name': 'zubair', 'age': 32}"
      ]
     },
     "execution_count": 25,
     "metadata": {},
     "output_type": "execute_result"
    }
   ],
   "source": [
    "patient1['age'] = 32\n",
    "patient1"
   ]
  },
  {
   "cell_type": "code",
   "execution_count": 69,
   "id": "7c687f90-bcf4-4803-8ada-3423198645f3",
   "metadata": {},
   "outputs": [
    {
     "data": {
      "text/plain": [
       "{'id': 1122, 'name': 'zubair', 'age': 33, 'gender': 'male'}"
      ]
     },
     "execution_count": 69,
     "metadata": {},
     "output_type": "execute_result"
    }
   ],
   "source": [
    "patient1.update({'age': 33})\n",
    "patient1"
   ]
  },
  {
   "cell_type": "code",
   "execution_count": 27,
   "id": "0b867e8f-59e5-448a-9823-2c68f6e6ba40",
   "metadata": {},
   "outputs": [
    {
     "data": {
      "text/plain": [
       "{'id': 1122, 'name': 'zubair', 'age': 32, 'gender': 'male'}"
      ]
     },
     "execution_count": 27,
     "metadata": {},
     "output_type": "execute_result"
    }
   ],
   "source": [
    "patient1['gender'] = 'male'\n",
    "patient1"
   ]
  },
  {
   "cell_type": "code",
   "execution_count": 31,
   "id": "57fd2dac-fb8a-4e29-a5ba-e997c2f5e127",
   "metadata": {},
   "outputs": [
    {
     "data": {
      "text/plain": [
       "'male'"
      ]
     },
     "execution_count": 31,
     "metadata": {},
     "output_type": "execute_result"
    }
   ],
   "source": [
    "patient1.get('gender')"
   ]
  },
  {
   "cell_type": "code",
   "execution_count": 71,
   "id": "b1a9a196-d07d-4f14-a32b-12c4c2beecad",
   "metadata": {},
   "outputs": [
    {
     "data": {
      "text/plain": [
       "['__class__',\n",
       " '__class_getitem__',\n",
       " '__contains__',\n",
       " '__delattr__',\n",
       " '__delitem__',\n",
       " '__dir__',\n",
       " '__doc__',\n",
       " '__eq__',\n",
       " '__format__',\n",
       " '__ge__',\n",
       " '__getattribute__',\n",
       " '__getitem__',\n",
       " '__getstate__',\n",
       " '__gt__',\n",
       " '__hash__',\n",
       " '__init__',\n",
       " '__init_subclass__',\n",
       " '__ior__',\n",
       " '__iter__',\n",
       " '__le__',\n",
       " '__len__',\n",
       " '__lt__',\n",
       " '__ne__',\n",
       " '__new__',\n",
       " '__or__',\n",
       " '__reduce__',\n",
       " '__reduce_ex__',\n",
       " '__repr__',\n",
       " '__reversed__',\n",
       " '__ror__',\n",
       " '__setattr__',\n",
       " '__setitem__',\n",
       " '__sizeof__',\n",
       " '__str__',\n",
       " '__subclasshook__',\n",
       " 'clear',\n",
       " 'copy',\n",
       " 'fromkeys',\n",
       " 'get',\n",
       " 'items',\n",
       " 'keys',\n",
       " 'pop',\n",
       " 'popitem',\n",
       " 'setdefault',\n",
       " 'update',\n",
       " 'values']"
      ]
     },
     "execution_count": 71,
     "metadata": {},
     "output_type": "execute_result"
    }
   ],
   "source": [
    "dir(patient1)"
   ]
  },
  {
   "cell_type": "markdown",
   "id": "68628e23-6ead-47ae-80f1-a3de0a35b4b4",
   "metadata": {},
   "source": [
    "# list of dictionaries"
   ]
  },
  {
   "cell_type": "code",
   "execution_count": 34,
   "id": "cbe692b7-d5b5-450f-a977-231677046c34",
   "metadata": {},
   "outputs": [
    {
     "data": {
      "text/plain": [
       "[{'id': 1124, 'name': 'hasan', 'age': 21, 'gender': 'male'},\n",
       " {'id': 1126, 'name': 'hina', 'age': 41, 'gender': 'female'}]"
      ]
     },
     "execution_count": 34,
     "metadata": {},
     "output_type": "execute_result"
    }
   ],
   "source": [
    "patients = [\n",
    "    {\n",
    "    'id' : 1124,\n",
    "    'name' : 'hasan',\n",
    "    'age': 21,\n",
    "    'gender' : 'male'\n",
    "    },\n",
    "    {\n",
    "    'id' : 1126,\n",
    "    'name' : 'hina',\n",
    "    'age': 41,\n",
    "    'gender' : 'female'\n",
    "    }\n",
    "]\n",
    "patient3 =  {\n",
    "    'id' : 1128,\n",
    "    'name' : 'sana',\n",
    "    'age': 28,\n",
    "    'gender' : 'female'\n",
    "    }\n",
    "patients"
   ]
  },
  {
   "cell_type": "code",
   "execution_count": 36,
   "id": "716442fd-c421-4e94-8e69-5b216e5a6ee4",
   "metadata": {},
   "outputs": [
    {
     "data": {
      "text/plain": [
       "[{'id': 1124, 'name': 'hasan', 'age': 21, 'gender': 'male'},\n",
       " {'id': 1126, 'name': 'hina', 'age': 41, 'gender': 'female'},\n",
       " {'id': 1128, 'name': 'sana', 'age': 28, 'gender': 'female'}]"
      ]
     },
     "execution_count": 36,
     "metadata": {},
     "output_type": "execute_result"
    }
   ],
   "source": [
    "patients.append(patient3)\n",
    "patients"
   ]
  },
  {
   "cell_type": "code",
   "execution_count": 38,
   "id": "846abd5a-12e8-44c3-a0ed-f9025572ce74",
   "metadata": {},
   "outputs": [
    {
     "data": {
      "text/plain": [
       "{'id': 1126, 'name': 'hina', 'age': 41, 'gender': 'female'}"
      ]
     },
     "execution_count": 38,
     "metadata": {},
     "output_type": "execute_result"
    }
   ],
   "source": [
    "patients[1]"
   ]
  },
  {
   "cell_type": "code",
   "execution_count": 40,
   "id": "460e64e2-95ca-43ce-80f2-1ab78f9eb398",
   "metadata": {},
   "outputs": [
    {
     "data": {
      "text/plain": [
       "'hina'"
      ]
     },
     "execution_count": 40,
     "metadata": {},
     "output_type": "execute_result"
    }
   ],
   "source": [
    "patients[1]['name']"
   ]
  },
  {
   "cell_type": "code",
   "execution_count": 42,
   "id": "7da1d823-807c-44cf-874f-9a298e32af51",
   "metadata": {},
   "outputs": [
    {
     "data": {
      "text/plain": [
       "[{'id': 1124, 'name': 'hasan', 'age': 21, 'gender': 'male'},\n",
       " {'id': 1126, 'name': 'sahir', 'age': 41, 'gender': 'female'},\n",
       " {'id': 1128, 'name': 'sana', 'age': 28, 'gender': 'female'}]"
      ]
     },
     "execution_count": 42,
     "metadata": {},
     "output_type": "execute_result"
    }
   ],
   "source": [
    "patients[1]['name'] = 'sahir'\n",
    "patients"
   ]
  },
  {
   "cell_type": "markdown",
   "id": "3491a95f-95c3-4487-a05a-463423e9ef7e",
   "metadata": {},
   "source": [
    "# list in dictionary"
   ]
  },
  {
   "cell_type": "code",
   "execution_count": 45,
   "id": "e7d297d1-0a0f-4fa5-a9ef-3915bb6901db",
   "metadata": {},
   "outputs": [
    {
     "data": {
      "text/plain": [
       "['excel',\n",
       " 'python',\n",
       " 'pandas',\n",
       " 'numpy',\n",
       " 'matplotlib',\n",
       " 'seaborn',\n",
       " 'data cleaning',\n",
       " 'powerBI']"
      ]
     },
     "execution_count": 45,
     "metadata": {},
     "output_type": "execute_result"
    }
   ],
   "source": [
    "skill_set = {\n",
    "    'tabish': ['excel','python','pandas','numpy','matplotlib','seaborn','data cleaning','powerBI'],\n",
    "    'sharjeel' : ['python', 'excel','data analysis']\n",
    "}\n",
    "\n",
    "skill_set['tabish']"
   ]
  },
  {
   "cell_type": "code",
   "execution_count": 47,
   "id": "504d049a-a3ce-451d-bf2b-4eb425d74ca4",
   "metadata": {},
   "outputs": [
    {
     "data": {
      "text/plain": [
       "{'tabish': ['excel',\n",
       "  'python',\n",
       "  'pandas',\n",
       "  'numpy',\n",
       "  'matplotlib',\n",
       "  'seaborn',\n",
       "  'data cleaning',\n",
       "  'powerBI'],\n",
       " 'sharjeel': ['python', 'excel', 'data analysis']}"
      ]
     },
     "execution_count": 47,
     "metadata": {},
     "output_type": "execute_result"
    }
   ],
   "source": [
    "skill_set"
   ]
  },
  {
   "cell_type": "code",
   "execution_count": 49,
   "id": "1e15bb3c-77ce-493d-89cb-7b38be67ca94",
   "metadata": {},
   "outputs": [
    {
     "data": {
      "text/plain": [
       "'data analysis'"
      ]
     },
     "execution_count": 49,
     "metadata": {},
     "output_type": "execute_result"
    }
   ],
   "source": [
    "skill_set['sharjeel'][2]"
   ]
  },
  {
   "cell_type": "code",
   "execution_count": 51,
   "id": "b35f40c1-b688-41c2-8f92-bb2c86665f64",
   "metadata": {},
   "outputs": [
    {
     "data": {
      "text/plain": [
       "['python', 'excel', 'data mining']"
      ]
     },
     "execution_count": 51,
     "metadata": {},
     "output_type": "execute_result"
    }
   ],
   "source": [
    "skill_set['sharjeel'][2] = 'data mining'\n",
    "skill_set['sharjeel']"
   ]
  },
  {
   "cell_type": "markdown",
   "id": "b1580fd7-1367-4f0f-a4f1-2fb8ddba2483",
   "metadata": {},
   "source": [
    "# dictionaries in dictionary"
   ]
  },
  {
   "cell_type": "code",
   "execution_count": 54,
   "id": "b23cb686-f6f0-4db9-ab5a-9899c1b83a3b",
   "metadata": {},
   "outputs": [
    {
     "data": {
      "text/plain": [
       "{'name': 'hasan', 'age': 21, 'gender': 'male'}"
      ]
     },
     "execution_count": 54,
     "metadata": {},
     "output_type": "execute_result"
    }
   ],
   "source": [
    "patients = {\n",
    "     '1124' : {'name': 'hasan', 'age': 21, 'gender': 'male'},\n",
    "     '1126' : {'name': 'hina', 'age': 41, 'gender': 'female'},\n",
    "     '1128' : {'name': 'sana', 'age': 28, 'gender': 'female'}\n",
    "}\n",
    "\n",
    "patients['1124']\n"
   ]
  },
  {
   "cell_type": "code",
   "execution_count": 56,
   "id": "5b9cb840-11a2-48cc-8229-4b25b1efe178",
   "metadata": {},
   "outputs": [
    {
     "data": {
      "text/plain": [
       "{'1124': {'name': 'hasan', 'age': 21, 'gender': 'male'},\n",
       " '1126': {'name': 'hina', 'age': 41, 'gender': 'female'},\n",
       " '1128': {'name': 'sana', 'age': 28, 'gender': 'female'}}"
      ]
     },
     "execution_count": 56,
     "metadata": {},
     "output_type": "execute_result"
    }
   ],
   "source": [
    "patients"
   ]
  },
  {
   "cell_type": "code",
   "execution_count": 58,
   "id": "b16692f1-cb3a-4762-a206-9cc21b245c20",
   "metadata": {},
   "outputs": [
    {
     "data": {
      "text/plain": [
       "21"
      ]
     },
     "execution_count": 58,
     "metadata": {},
     "output_type": "execute_result"
    }
   ],
   "source": [
    "patients['1124']['age']"
   ]
  },
  {
   "cell_type": "markdown",
   "id": "4f4c8e9d-2e71-48f1-8ec9-62145a949c48",
   "metadata": {},
   "source": [
    "# unpacking"
   ]
  },
  {
   "cell_type": "code",
   "execution_count": 61,
   "id": "76cee97e-98a4-4e96-939b-d00e6429a5f4",
   "metadata": {},
   "outputs": [
    {
     "data": {
      "text/plain": [
       "('usa', 'pakistan', 'india')"
      ]
     },
     "execution_count": 61,
     "metadata": {},
     "output_type": "execute_result"
    }
   ],
   "source": [
    "world_cup_winners"
   ]
  },
  {
   "cell_type": "code",
   "execution_count": 63,
   "id": "f533df04-7e7b-45ef-96dc-452fbcf8e60d",
   "metadata": {},
   "outputs": [
    {
     "data": {
      "text/plain": [
       "'usa'"
      ]
     },
     "execution_count": 63,
     "metadata": {},
     "output_type": "execute_result"
    }
   ],
   "source": [
    "(c1,c2,c3) = world_cup_winners\n",
    "c1"
   ]
  },
  {
   "cell_type": "code",
   "execution_count": 65,
   "id": "1c046df1-19d0-46a7-a7b0-2c92366c3e01",
   "metadata": {},
   "outputs": [
    {
     "data": {
      "text/plain": [
       "'india'"
      ]
     },
     "execution_count": 65,
     "metadata": {},
     "output_type": "execute_result"
    }
   ],
   "source": [
    "c3"
   ]
  },
  {
   "cell_type": "code",
   "execution_count": 67,
   "id": "079fcf96-1c21-4bb6-b63d-c51fa5463435",
   "metadata": {},
   "outputs": [
    {
     "data": {
      "text/plain": [
       "['usa', 'pakistan', 'india']"
      ]
     },
     "execution_count": 67,
     "metadata": {},
     "output_type": "execute_result"
    }
   ],
   "source": [
    "countries = list(world_cup_winners)\n",
    "countries"
   ]
  },
  {
   "cell_type": "code",
   "execution_count": 87,
   "id": "0b8042a6-dcba-4bdd-9a49-69dc05cbf033",
   "metadata": {},
   "outputs": [
    {
     "ename": "ValueError",
     "evalue": "too many values to unpack (expected 2)",
     "output_type": "error",
     "traceback": [
      "\u001b[1;31m---------------------------------------------------------------------------\u001b[0m",
      "\u001b[1;31mValueError\u001b[0m                                Traceback (most recent call last)",
      "Cell \u001b[1;32mIn[87], line 1\u001b[0m\n\u001b[1;32m----> 1\u001b[0m (c4,c5) \u001b[38;5;241m=\u001b[39m countries\n\u001b[0;32m      2\u001b[0m c4\n",
      "\u001b[1;31mValueError\u001b[0m: too many values to unpack (expected 2)"
     ]
    }
   ],
   "source": [
    "(c4,c5) = countries\n",
    "c4"
   ]
  },
  {
   "cell_type": "code",
   "execution_count": 79,
   "id": "4c7918b6-9ae1-4922-8529-0e45c77e3746",
   "metadata": {},
   "outputs": [
    {
     "data": {
      "text/plain": [
       "'pakistan'"
      ]
     },
     "execution_count": 79,
     "metadata": {},
     "output_type": "execute_result"
    }
   ],
   "source": [
    "c5"
   ]
  },
  {
   "cell_type": "code",
   "execution_count": 81,
   "id": "5a474638-bf2f-4b49-98d9-7163ddd9bbd5",
   "metadata": {},
   "outputs": [
    {
     "data": {
      "text/plain": [
       "('usa', 'pakistan', 'india')"
      ]
     },
     "execution_count": 81,
     "metadata": {},
     "output_type": "execute_result"
    }
   ],
   "source": [
    "world_cup_winners = tuple(countries)\n",
    "world_cup_winners"
   ]
  },
  {
   "cell_type": "code",
   "execution_count": 83,
   "id": "a1a6bc36-e98d-4041-812a-825a952948d4",
   "metadata": {},
   "outputs": [
    {
     "data": {
      "text/plain": [
       "'pakistan'"
      ]
     },
     "execution_count": 83,
     "metadata": {},
     "output_type": "execute_result"
    }
   ],
   "source": [
    "c2"
   ]
  },
  {
   "cell_type": "code",
   "execution_count": 89,
   "id": "25fd5674-153e-4a5e-8346-57dd9148d7f8",
   "metadata": {},
   "outputs": [
    {
     "data": {
      "text/plain": [
       "{'name': 'nouroz', 'department': 'computer science', 'id': '2203'}"
      ]
     },
     "execution_count": 89,
     "metadata": {},
     "output_type": "execute_result"
    }
   ],
   "source": [
    "employee = dict(name = 'nouroz', department = 'computer science', id = '2203')\n",
    "employee"
   ]
  },
  {
   "cell_type": "code",
   "execution_count": 91,
   "id": "15436b3d-b882-4b42-b78d-e7506e6b366e",
   "metadata": {},
   "outputs": [
    {
     "data": {
      "text/plain": [
       "['__add__',\n",
       " '__class__',\n",
       " '__contains__',\n",
       " '__delattr__',\n",
       " '__dir__',\n",
       " '__doc__',\n",
       " '__eq__',\n",
       " '__format__',\n",
       " '__ge__',\n",
       " '__getattribute__',\n",
       " '__getitem__',\n",
       " '__getnewargs__',\n",
       " '__getstate__',\n",
       " '__gt__',\n",
       " '__hash__',\n",
       " '__init__',\n",
       " '__init_subclass__',\n",
       " '__iter__',\n",
       " '__le__',\n",
       " '__len__',\n",
       " '__lt__',\n",
       " '__mod__',\n",
       " '__mul__',\n",
       " '__ne__',\n",
       " '__new__',\n",
       " '__reduce__',\n",
       " '__reduce_ex__',\n",
       " '__repr__',\n",
       " '__rmod__',\n",
       " '__rmul__',\n",
       " '__setattr__',\n",
       " '__sizeof__',\n",
       " '__str__',\n",
       " '__subclasshook__',\n",
       " 'capitalize',\n",
       " 'casefold',\n",
       " 'center',\n",
       " 'count',\n",
       " 'encode',\n",
       " 'endswith',\n",
       " 'expandtabs',\n",
       " 'find',\n",
       " 'format',\n",
       " 'format_map',\n",
       " 'index',\n",
       " 'isalnum',\n",
       " 'isalpha',\n",
       " 'isascii',\n",
       " 'isdecimal',\n",
       " 'isdigit',\n",
       " 'isidentifier',\n",
       " 'islower',\n",
       " 'isnumeric',\n",
       " 'isprintable',\n",
       " 'isspace',\n",
       " 'istitle',\n",
       " 'isupper',\n",
       " 'join',\n",
       " 'ljust',\n",
       " 'lower',\n",
       " 'lstrip',\n",
       " 'maketrans',\n",
       " 'partition',\n",
       " 'removeprefix',\n",
       " 'removesuffix',\n",
       " 'replace',\n",
       " 'rfind',\n",
       " 'rindex',\n",
       " 'rjust',\n",
       " 'rpartition',\n",
       " 'rsplit',\n",
       " 'rstrip',\n",
       " 'split',\n",
       " 'splitlines',\n",
       " 'startswith',\n",
       " 'strip',\n",
       " 'swapcase',\n",
       " 'title',\n",
       " 'translate',\n",
       " 'upper',\n",
       " 'zfill']"
      ]
     },
     "execution_count": 91,
     "metadata": {},
     "output_type": "execute_result"
    }
   ],
   "source": [
    "dir(str)"
   ]
  },
  {
   "cell_type": "code",
   "execution_count": 95,
   "id": "040cb4b1-75f8-4981-b3c1-d5da257747db",
   "metadata": {},
   "outputs": [
    {
     "data": {
      "text/plain": [
       "24"
      ]
     },
     "execution_count": 95,
     "metadata": {},
     "output_type": "execute_result"
    }
   ],
   "source": [
    "name = \"khushboo\"\n",
    "Age = 24\n",
    "\n",
    "name\n",
    "Age"
   ]
  },
  {
   "cell_type": "code",
   "execution_count": 97,
   "id": "3ef4589e-9dca-4e94-959f-6c799c2d6d3e",
   "metadata": {},
   "outputs": [
    {
     "data": {
      "text/plain": [
       "'Name: khushboo, Age: 24'"
      ]
     },
     "execution_count": 97,
     "metadata": {},
     "output_type": "execute_result"
    }
   ],
   "source": [
    "\"Name: {}, Age: {}\".format(name,Age)"
   ]
  },
  {
   "cell_type": "code",
   "execution_count": 101,
   "id": "c9e2dd72-af11-4f9b-b8b6-dd5a27e6a520",
   "metadata": {},
   "outputs": [
    {
     "data": {
      "text/plain": [
       "'Name: 24, Age: khushboo'"
      ]
     },
     "execution_count": 101,
     "metadata": {},
     "output_type": "execute_result"
    }
   ],
   "source": [
    "\"Name: {}, Age: {}\".format(Age,name)"
   ]
  },
  {
   "cell_type": "code",
   "execution_count": 99,
   "id": "9d97f9aa-c12b-4510-83de-8ee39beb3e3d",
   "metadata": {},
   "outputs": [
    {
     "data": {
      "text/plain": [
       "'Name: khushboo, Age: 24'"
      ]
     },
     "execution_count": 99,
     "metadata": {},
     "output_type": "execute_result"
    }
   ],
   "source": [
    "f'Name: {name}, Age: {Age}'"
   ]
  },
  {
   "cell_type": "code",
   "execution_count": null,
   "id": "ba56b892-da2e-4650-a14a-d599a8246908",
   "metadata": {},
   "outputs": [],
   "source": []
  }
 ],
 "metadata": {
  "kernelspec": {
   "display_name": "Python 3 (ipykernel)",
   "language": "python",
   "name": "python3"
  },
  "language_info": {
   "codemirror_mode": {
    "name": "ipython",
    "version": 3
   },
   "file_extension": ".py",
   "mimetype": "text/x-python",
   "name": "python",
   "nbconvert_exporter": "python",
   "pygments_lexer": "ipython3",
   "version": "3.12.4"
  }
 },
 "nbformat": 4,
 "nbformat_minor": 5
}
