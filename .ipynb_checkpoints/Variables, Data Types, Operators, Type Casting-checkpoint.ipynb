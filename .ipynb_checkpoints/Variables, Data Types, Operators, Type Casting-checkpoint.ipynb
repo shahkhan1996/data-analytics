{
 "cells": [
  {
   "cell_type": "markdown",
   "id": "5602650f-4ebf-4c5d-97e7-7c478dde64ae",
   "metadata": {},
   "source": [
    "Operators:"
   ]
  },
  {
   "cell_type": "code",
   "execution_count": 4,
   "id": "3a81409a-63e7-467c-a6cd-b6836d99cf06",
   "metadata": {},
   "outputs": [],
   "source": [
    "# Arithmetic Operators (+ , - , * , / , // , % , **)\n",
    "# Relational/Comparison operators (== , !=, >, <, >=, <=)\n",
    "# Assignment operators (= , += , -=, *=, /=, //=, %=, **=)\n",
    "# Logical operators (not, or, and)"
   ]
  },
  {
   "cell_type": "markdown",
   "id": "b7d2fb4c-da57-48f1-aca1-bdb807b49cd3",
   "metadata": {},
   "source": [
    "Data Types:"
   ]
  },
  {
   "cell_type": "code",
   "execution_count": 5,
   "id": "ab8747de-4d1f-49b8-8b13-8d10d1cdedbc",
   "metadata": {},
   "outputs": [],
   "source": [
    "# str\n",
    "# int\n",
    "# float\n",
    "# complex\n",
    "# boolean\n",
    "# list\n",
    "# tuple\n",
    "# dict\n",
    "# set"
   ]
  },
  {
   "cell_type": "markdown",
   "id": "71e23f59-afd6-48a9-a88a-837e008482c3",
   "metadata": {},
   "source": [
    "Write a program to input 2 numbers & print their sum"
   ]
  },
  {
   "cell_type": "code",
   "execution_count": 7,
   "id": "f028407f-ccc3-4d1b-9afb-ae461dea218e",
   "metadata": {},
   "outputs": [
    {
     "name": "stdin",
     "output_type": "stream",
     "text": [
      "enter 1st num:  33\n",
      "enter 2nd num:  22\n"
     ]
    },
    {
     "name": "stdout",
     "output_type": "stream",
     "text": [
      "answer is:  55\n"
     ]
    }
   ],
   "source": [
    "num1 = int(input(\"enter 1st num: \"))\n",
    "num2 = int(input(\"enter 2nd num: \"))\n",
    "sum = num1 + num2\n",
    "print(\"answer is: \" , sum)"
   ]
  },
  {
   "cell_type": "markdown",
   "id": "c611efe1-fa38-49d7-9055-bf2a9c111a22",
   "metadata": {},
   "source": [
    "Write a program to input side of a square & print its area"
   ]
  },
  {
   "cell_type": "code",
   "execution_count": 12,
   "id": "c914466d-40b6-48d9-bb85-a7762773590f",
   "metadata": {},
   "outputs": [
    {
     "name": "stdin",
     "output_type": "stream",
     "text": [
      "enter side of a square:  1.2\n"
     ]
    },
    {
     "name": "stdout",
     "output_type": "stream",
     "text": [
      "area of square is:  1.44 sq units\n"
     ]
    }
   ],
   "source": [
    "num = float(input(\"enter side of a square: \"))\n",
    "side = num**2\n",
    "print(\"area of square is: \" , side, \"sq units\")"
   ]
  },
  {
   "cell_type": "markdown",
   "id": "ec105811-b357-4410-84b0-095030ef4b08",
   "metadata": {},
   "source": [
    "Write a program to input two floating numbers & print their average"
   ]
  },
  {
   "cell_type": "code",
   "execution_count": 16,
   "id": "e88c9429-368f-4e07-8519-ba8f348645fe",
   "metadata": {},
   "outputs": [
    {
     "name": "stdin",
     "output_type": "stream",
     "text": [
      "enter 1st num:  3355\n",
      "enter 2nd num:  55\n"
     ]
    },
    {
     "name": "stdout",
     "output_type": "stream",
     "text": [
      "average is:  1705.0\n"
     ]
    }
   ],
   "source": [
    "num1 = float(input(\"enter 1st num: \"))\n",
    "num2 = float(input(\"enter 2nd num: \"))\n",
    "avg = (num1+num2)/2\n",
    "print(\"average is: \", avg)"
   ]
  },
  {
   "cell_type": "markdown",
   "id": "b927d60b-2dbe-4477-8c8e-96414d9da114",
   "metadata": {},
   "source": [
    "Write a program to input two int numbers, a and b\n",
    "Print True if a is greater than or equal to b. If not print False"
   ]
  },
  {
   "cell_type": "code",
   "execution_count": 23,
   "id": "605a16f6-9223-46da-b4a0-7e72b2fc5d5b",
   "metadata": {},
   "outputs": [
    {
     "name": "stdin",
     "output_type": "stream",
     "text": [
      "enter 1st int:  22\n",
      "enter 2nd int:  44\n"
     ]
    },
    {
     "name": "stdout",
     "output_type": "stream",
     "text": [
      "False\n"
     ]
    }
   ],
   "source": [
    "a = int(input(\"enter 1st int: \"))\n",
    "b = int(input(\"enter 2nd int: \"))\n",
    "result = (a >= b and b <= a)\n",
    "print(result)"
   ]
  },
  {
   "cell_type": "code",
   "execution_count": null,
   "id": "b6d967fe-1e89-4627-b583-4e6e88983805",
   "metadata": {},
   "outputs": [],
   "source": []
  }
 ],
 "metadata": {
  "kernelspec": {
   "display_name": "Python 3 (ipykernel)",
   "language": "python",
   "name": "python3"
  },
  "language_info": {
   "codemirror_mode": {
    "name": "ipython",
    "version": 3
   },
   "file_extension": ".py",
   "mimetype": "text/x-python",
   "name": "python",
   "nbconvert_exporter": "python",
   "pygments_lexer": "ipython3",
   "version": "3.12.4"
  }
 },
 "nbformat": 4,
 "nbformat_minor": 5
}
