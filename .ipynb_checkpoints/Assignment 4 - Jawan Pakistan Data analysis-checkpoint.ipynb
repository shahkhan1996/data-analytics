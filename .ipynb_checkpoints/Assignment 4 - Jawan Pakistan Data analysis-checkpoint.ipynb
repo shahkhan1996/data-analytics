{
 "cells": [
  {
   "cell_type": "markdown",
   "id": "f3b4f762-91a4-4c68-bd30-f389d860fd10",
   "metadata": {},
   "source": [
    "4-1. Guest List: If you could invite anyone, living or deceased, to dinner, who \n",
    "would you invite? Make a list that includes at least three people you’d like to \n",
    "invite to dinner. Then use your list to print a message to each person, inviting \n",
    "them to dinner."
   ]
  },
  {
   "cell_type": "code",
   "execution_count": 15,
   "id": "f2aab040-65bd-4707-8964-c56574ef0b14",
   "metadata": {},
   "outputs": [
    {
     "name": "stdout",
     "output_type": "stream",
     "text": [
      "Hi atif aslam I will be honoured if you accept my dinner invitation\n",
      "Hi elon musk I will be honoured if you accept my dinner invitation\n",
      "Hi newton I will be honoured if you accept my dinner invitation\n"
     ]
    }
   ],
   "source": [
    "guestslist = [\"atif aslam\", \"elon musk\", \"newton\"]\n",
    "a = \"Hi\"\n",
    "b = \"I will be honoured if you accept my dinner invitation\"\n",
    "for x in guestslist:\n",
    "    print(a,x,b)"
   ]
  },
  {
   "cell_type": "markdown",
   "id": "9060f3be-60de-473b-9d39-c7b9af040911",
   "metadata": {},
   "source": [
    "4-2. Changing Guest List: You just heard that one of your guests can’t make the \n",
    "dinner, so you need to send out a new set of invitations. You’ll have to think of \n",
    "someone else to invite. "
   ]
  },
  {
   "cell_type": "code",
   "execution_count": 17,
   "id": "de9b73c9-1f78-465b-807f-80542f18fb0f",
   "metadata": {},
   "outputs": [
    {
     "name": "stdout",
     "output_type": "stream",
     "text": [
      "Hi atif aslam I will be honoured if you accept my dinner invitation\n",
      "Hi elon musk I will be honoured if you accept my dinner invitation\n"
     ]
    }
   ],
   "source": [
    "guestslist = [\"atif aslam\", \"elon musk\", \"newton\"]\n",
    "guestslist.pop(2)\n",
    "a = \"Hi\"\n",
    "b = \"I will be honoured if you accept my dinner invitation\"\n",
    "for x in guestslist:\n",
    "    print(a,x,b)"
   ]
  },
  {
   "cell_type": "markdown",
   "id": "588ee473-eef0-4a1f-ba2e-6ed83ffa75f4",
   "metadata": {},
   "source": [
    "Start with your program from Exercise 4-1. Add a print statement at the \n",
    "end of your program stating the name of the guest who can’t make it. "
   ]
  },
  {
   "cell_type": "code",
   "execution_count": 26,
   "id": "54fa2ea6-8d75-4a36-8d94-af89dbb1c88b",
   "metadata": {},
   "outputs": [
    {
     "name": "stdout",
     "output_type": "stream",
     "text": [
      "Hi atif aslam I will be honoured if you accept my dinner invitation\n",
      "Hi elon musk I will be honoured if you accept my dinner invitation\n",
      "Unfortuneatley! newton is unable to join us for dinner\n"
     ]
    }
   ],
   "source": [
    "guestslist = [\"atif aslam\", \"elon musk\", \"newton\"]\n",
    "a = \"Hi\"\n",
    "b = \"I will be honoured if you accept my dinner invitation\"\n",
    "for x in guestslist:\n",
    "    if(x == \"newton\"):\n",
    "        break\n",
    "    else:\n",
    "        print(a,x,b)\n",
    "print(\"Unfortuneatley!\", guestslist[2], \"is unable to join us for dinner\")"
   ]
  },
  {
   "cell_type": "markdown",
   "id": "48e16c85-32c1-4f0a-a834-367d1e8396cd",
   "metadata": {},
   "source": [
    "Modify your list, replacing the name of the guest who can’t make it with \n",
    "the name of the new person you are inviting. "
   ]
  },
  {
   "cell_type": "code",
   "execution_count": 29,
   "id": "5b7d8910-2108-43a0-b450-6cee4288a3cb",
   "metadata": {},
   "outputs": [
    {
     "name": "stdout",
     "output_type": "stream",
     "text": [
      "['atif aslam', 'elon musk', 'allama iqbal']\n"
     ]
    }
   ],
   "source": [
    "guestslist = [\"atif aslam\", \"elon musk\", \"newton\"]\n",
    "guestslist.pop(2)\n",
    "guestslist.insert(2, \"allama iqbal\")\n",
    "print(guestslist)"
   ]
  },
  {
   "cell_type": "markdown",
   "id": "38648841-43f4-43e2-8c9c-7a537f31f7bc",
   "metadata": {},
   "source": [
    " Print a second set of invitation messages, one for each person who is still \n",
    "in your list."
   ]
  },
  {
   "cell_type": "code",
   "execution_count": 30,
   "id": "0aebc1ce-42de-4b97-bb03-6d7d596824a2",
   "metadata": {},
   "outputs": [
    {
     "name": "stdout",
     "output_type": "stream",
     "text": [
      "Hi atif aslam I am excited to serve dinner with you\n",
      "Hi elon musk I am excited to serve dinner with you\n",
      "Hi allama iqbal I am excited to serve dinner with you\n"
     ]
    }
   ],
   "source": [
    "guestslist = ['atif aslam', 'elon musk', 'allama iqbal']\n",
    "a = \"Hi\"\n",
    "b = \"I am excited to serve dinner with you\"\n",
    "for x in guestslist:\n",
    "    print(a,x,b)"
   ]
  },
  {
   "cell_type": "markdown",
   "id": "40ec8ceb-f8d9-43cd-a4f9-ed9201968894",
   "metadata": {},
   "source": [
    "4-3. More Guests: You just found a bigger dinner table, so now more space is \n",
    "available. Think of three more guests to invite to dinner."
   ]
  },
  {
   "cell_type": "code",
   "execution_count": 31,
   "id": "a26639bc-8c83-4986-9040-619128d260a5",
   "metadata": {},
   "outputs": [
    {
     "name": "stdout",
     "output_type": "stream",
     "text": [
      "['atif aslam', 'elon musk', 'allama iqbal', 'John cena', 'Jackie chan', 'naseem shah']\n"
     ]
    }
   ],
   "source": [
    "guestslist = ['atif aslam', 'elon musk', 'allama iqbal']\n",
    "guestslist2 = [\"John cena\", \"Jackie chan\", \"naseem shah\"]\n",
    "guestslist.extend(guestslist2)\n",
    "print(guestslist)"
   ]
  },
  {
   "cell_type": "code",
   "execution_count": null,
   "id": "2165e339-0aff-4924-9cb1-b43abc108278",
   "metadata": {},
   "outputs": [],
   "source": [
    "# •     Start with your program from Exercise 4-1 or Exercise 4-2. Add a print\n",
    "# statement to the end of your program informing people that you found a \n",
    "# bigger dinner table. \n",
    "# •     Use insert() to add one new guest to the beginning of your list. \n",
    "# •     Use insert() to add one new guest to the middle of your list. \n",
    "# •     Use append() to add one new guest to the end of your list. \n",
    "# •     Print a new set of invitation messages, one for each person in your list."
   ]
  },
  {
   "cell_type": "code",
   "execution_count": 40,
   "id": "bbac61cd-130e-466d-b48c-0407dca773c7",
   "metadata": {},
   "outputs": [
    {
     "name": "stdout",
     "output_type": "stream",
     "text": [
      "new guest list ['atif aslam', 'salman khan', 'imran khan', 'elon musk', 'newton', 'ali khan']\n",
      "Hi atif aslam Please accept our dinner invitation\n",
      "Hi salman khan Please accept our dinner invitation\n",
      "Hi imran khan Please accept our dinner invitation\n",
      "Hi elon musk Please accept our dinner invitation\n",
      "Hi newton Please accept our dinner invitation\n",
      "Hi ali khan Please accept our dinner invitation\n"
     ]
    }
   ],
   "source": [
    "guestslist = [\"atif aslam\", \"elon musk\", \"newton\"]\n",
    "guestslist.insert(1, \"salman khan\")\n",
    "guestslist.insert(2, \"imran khan\")\n",
    "guestslist.append(\"ali khan\")\n",
    "print(\"new guest list\", guestslist)\n",
    "a = \"Hi\"\n",
    "b = \"Please accept our dinner invitation\"\n",
    "for x in guestslist:\n",
    "    print(a,x,b)"
   ]
  },
  {
   "cell_type": "code",
   "execution_count": null,
   "id": "52db5d26-9a47-46ef-85d7-18961bfccd77",
   "metadata": {},
   "outputs": [],
   "source": [
    "#  4-4. Shrinking Guest List: You just found out that your new dinner table won’t \n",
    "# arrive in time for the dinner, and you have space for only two guests. \n",
    "# •     Start with your program from Exercise 4-3. Add a new line that prints a \n",
    "# message saying that you can invite only two people for dinner. \n",
    "# •     Use pop() to remove guests from your list one at a time until only two \n",
    "# names remain in your list. Each time you pop a name from your list, print \n",
    "# a message to that person letting them know you’re sorry you can’t invite \n",
    "# them to dinner. \n",
    "# •     Print a message to each of the two people still on your list, letting them \n",
    "# know they’re still invited. \n",
    "# •     Use del to remove the last two names from your list, so you have an empty \n",
    "# list. Print your list to make sure you actually have an empty list at the end \n",
    "# of your program."
   ]
  },
  {
   "cell_type": "code",
   "execution_count": 67,
   "id": "0e0992d7-f34e-4795-8388-9b1f26290f7b",
   "metadata": {},
   "outputs": [
    {
     "name": "stdout",
     "output_type": "stream",
     "text": [
      "atif aslam we are sorry we can’t invite you to dinner\n",
      "elon musk we are sorry we can’t invite you to dinner\n",
      "ali khan we are sorry we can’t invite you to dinner\n",
      "imran khan we are sorry we can’t invite you to dinner\n",
      "salman khan you are still invited\n",
      "newton you are still invited\n",
      "[]\n"
     ]
    }
   ],
   "source": [
    "new_guest_list = ['atif aslam', 'salman khan', 'imran khan', 'elon musk', 'newton', 'ali khan']\n",
    "print(new_guest_list.pop(0),\"we are sorry we can’t invite you to dinner\")\n",
    "print(new_guest_list.pop(2),\"we are sorry we can’t invite you to dinner\")\n",
    "print(new_guest_list.pop(3),\"we are sorry we can’t invite you to dinner\")\n",
    "print(new_guest_list.pop(1),\"we are sorry we can’t invite you to dinner\")\n",
    "print(new_guest_list[0],\"you are still invited\")\n",
    "print(new_guest_list[1],\"you are still invited\")\n",
    "del new_guest_list[:]\n",
    "print(new_guest_list)\n"
   ]
  },
  {
   "cell_type": "markdown",
   "id": "1c91f1be-52ea-4a37-9bbe-65fa6a0d0bff",
   "metadata": {},
   "source": [
    "4-5. Make an another list you wish and perform indexing and slicing operations on it."
   ]
  },
  {
   "cell_type": "code",
   "execution_count": 75,
   "id": "04a8a2a5-48e6-4d89-bb47-5533111d8e3e",
   "metadata": {},
   "outputs": [
    {
     "name": "stdout",
     "output_type": "stream",
     "text": [
      "[1, 2, 3, 4, 55, 'ball', 6, 7, 7, 88, 9, 'apple']\n",
      "5\n",
      "[55, 'ball', 6, 7, 7, 88, 9, 'apple']\n"
     ]
    }
   ],
   "source": [
    "a = [1,2,3,4,55,\"ball\",6,7,7,88,9,\"apple\"]\n",
    "a[0:3]\n",
    "print(a)\n",
    "print(a.index(\"ball\"))\n",
    "print(a[4:len(a)])"
   ]
  },
  {
   "cell_type": "code",
   "execution_count": null,
   "id": "5f251810-2ed9-4b77-b84d-225b511ed44b",
   "metadata": {},
   "outputs": [],
   "source": []
  }
 ],
 "metadata": {
  "kernelspec": {
   "display_name": "Python 3 (ipykernel)",
   "language": "python",
   "name": "python3"
  },
  "language_info": {
   "codemirror_mode": {
    "name": "ipython",
    "version": 3
   },
   "file_extension": ".py",
   "mimetype": "text/x-python",
   "name": "python",
   "nbconvert_exporter": "python",
   "pygments_lexer": "ipython3",
   "version": "3.12.4"
  }
 },
 "nbformat": 4,
 "nbformat_minor": 5
}
