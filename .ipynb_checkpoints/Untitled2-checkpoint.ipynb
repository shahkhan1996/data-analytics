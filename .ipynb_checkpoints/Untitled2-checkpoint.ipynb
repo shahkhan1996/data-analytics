{
 "cells": [
  {
   "cell_type": "code",
   "execution_count": 5,
   "id": "bad26983-cab2-4953-a402-ade045471f58",
   "metadata": {},
   "outputs": [
    {
     "data": {
      "text/plain": [
       "{'Employee ID': '1010', 'Name': 'shahmir', 'Position': 'AM', 'Salary': '33333'}"
      ]
     },
     "execution_count": 5,
     "metadata": {},
     "output_type": "execute_result"
    }
   ],
   "source": [
    "# data = [\n",
    "#         {'id': '001', 'name': 'John Doe', 'position': 'Software Engineer'},\n",
    "#         {'id': '002', 'name': 'Jane Smith', 'position': 'Data Scientist'},\n",
    "#         {'id': '003', 'name': 'Alice Johnson', 'position': 'Product Manager'}\n",
    "#     ]\n",
    "\n",
    "class Employee:\n",
    "    def __init__(self, emp_id, name, position, salary):\n",
    "        self.emp_id = emp_id\n",
    "        self.name = name\n",
    "        self.position = position\n",
    "        self.salary = salary\n",
    "\n",
    "    def to_dict(self):\n",
    "        return {\n",
    "            'Employee ID': self.emp_id,\n",
    "            'Name': self.name,\n",
    "            'Position': self.position,\n",
    "            'Salary': self.salary\n",
    "        }\n",
    "\n",
    "    def add_employee(self, emp_id, name, position, salary):\n",
    "        if self.emp_id in to_dict():\n",
    "            print(f\" {self.emp_id} already exists\")\n",
    "        else:\n",
    "            to_dict():\n",
    "            \n",
    "            \n",
    "\n",
    "a = Employee(\"1010\",\"shahmir\",\"AM\",\"33333\")\n",
    "a.to_dict()\n"
   ]
  },
  {
   "cell_type": "code",
   "execution_count": null,
   "id": "7e4fb5d7-648a-4b4c-98e1-ff41118c1668",
   "metadata": {},
   "outputs": [],
   "source": [
    "# Create a simple debit and credit account system to take input from user allowing PIN to enter\n",
    "\n",
    "class Employee:\n",
    "    def __init__(self, , acc_num):\n",
    "        self.balance = balance\n",
    "        self.acc_num = acc_num\n",
    "\n",
    "    def debit(self, amount):\n",
    "        self.balance -= amount\n",
    "        print(f\"Rs. {amount} is debited\")\n",
    "        print(f\"Available balance is: {self.final_balance()}\")\n",
    "\n",
    "    def credit(self, amount):\n",
    "        self.balance += amount\n",
    "        print(f\"Rs. {amount} is credited\")\n",
    "        print(f\"Available balance is: {self.final_balance()}\")\n",
    "\n",
    "    def final_balance(self):\n",
    "        return self.balance\n",
    "\n",
    "acc1 = Account(100000, 56021002837271)\n",
    "\n",
    "while True:\n",
    "    try:\n",
    "        enter = int(input(\"Enter 4-digit PIN: \"))\n",
    "       \n",
    "        if enter == 1234:\n",
    "            while True:\n",
    "                print(\"\\nSelect Option\")\n",
    "                print(\"1. Debit\")\n",
    "                print(\"2. Credit\")\n",
    "                print(\"3. Balance Enquiry\")\n",
    "                print(\"4. Exit\")\n",
    "               \n",
    "                try:\n",
    "                    select = int(input(\"Choose option (1-4): \"))\n",
    "                   \n",
    "                    if select == 1:\n",
    "                        amount = int(input(\"Enter amount to debit: \"))\n",
    "                        acc1.debit(amount)\n",
    "                    elif select == 2:\n",
    "                        amount = int(input(\"Enter amount to credit: \"))\n",
    "                        acc1.credit(amount)\n",
    "                    elif select == 3:\n",
    "                        print(f\"Avalale account balance is: {acc1.final_balance()}\")\n",
    "                    elif select == 4:\n",
    "                        print(\"Exiting the application\\nThank You!\")\n",
    "                        break\n",
    "                    else:\n",
    "                        print(\"Invalid Selection. Please choose a number between 1 and 4.\")\n",
    "                except ValueError:\n",
    "                    print(\"Invalid input. Please enter a number between 1 and 4.\")\n",
    "            break  # Break out of the outer while loop after successful PIN entry and operation\n",
    "        else:\n",
    "            print(\"Sorry, wrong PIN. Try again.\")\n",
    "            break  # Exit the loop if the PIN is incorrect\n",
    "    except ValueError:\n",
    "        print(\"Invalid PIN. Please enter a 4-digit number.\")"
   ]
  }
 ],
 "metadata": {
  "kernelspec": {
   "display_name": "Python 3 (ipykernel)",
   "language": "python",
   "name": "python3"
  },
  "language_info": {
   "codemirror_mode": {
    "name": "ipython",
    "version": 3
   },
   "file_extension": ".py",
   "mimetype": "text/x-python",
   "name": "python",
   "nbconvert_exporter": "python",
   "pygments_lexer": "ipython3",
   "version": "3.12.4"
  }
 },
 "nbformat": 4,
 "nbformat_minor": 5
}
