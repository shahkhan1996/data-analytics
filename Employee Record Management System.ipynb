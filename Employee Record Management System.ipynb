{
 "cells": [
  {
   "cell_type": "markdown",
   "id": "18eeb6e5-5468-4d28-ba9a-fa5fed86a8db",
   "metadata": {},
   "source": [
    "Employee Bio-Data Management System"
   ]
  },
  {
   "cell_type": "code",
   "execution_count": 4,
   "id": "3b27bad6-481d-479d-8fce-39cc0493482c",
   "metadata": {},
   "outputs": [
    {
     "name": "stdout",
     "output_type": "stream",
     "text": [
      "\n",
      "Employee Record Management Application\n",
      "1. Add Employee\n",
      "2. Update Employee\n",
      "3. Delete Employee\n",
      "4. Display Employee\n",
      "5. List All Employees\n",
      "6. Exit\n"
     ]
    },
    {
     "name": "stdin",
     "output_type": "stream",
     "text": [
      "Enter your choice (1-6):  5\n"
     ]
    },
    {
     "name": "stdout",
     "output_type": "stream",
     "text": [
      "All Employees List\n",
      "{'Employee ID': '103', 'Name': 'Ahmed', 'Position': 'Head of Marketing', 'Salary': 99999999.0, 'Department': 'Central Marketing', 'Age': 34}\n",
      "{'Employee ID': '104', 'Name': 'Eman', 'Position': 'HR Manager', 'Salary': 226262.0, 'Department': 'HR', 'Age': 25}\n",
      "{'Employee ID': '101', 'Name': 'Alice', 'Position': 'I.T', 'Salary': 33733.0, 'Department': 'Production', 'Age': 30}\n",
      "{'Employee ID': '102', 'Name': 'Bob', 'Position': 'Supply Chain Manager', 'Salary': 272722.0, 'Department': 'Supply Chain', 'Age': 24}\n",
      "\n",
      "Employee Record Management Application\n",
      "1. Add Employee\n",
      "2. Update Employee\n",
      "3. Delete Employee\n",
      "4. Display Employee\n",
      "5. List All Employees\n",
      "6. Exit\n"
     ]
    },
    {
     "name": "stdin",
     "output_type": "stream",
     "text": [
      "Enter your choice (1-6):  3\n",
      "Enter Employee ID to delete:  102\n"
     ]
    },
    {
     "name": "stdout",
     "output_type": "stream",
     "text": [
      "Employee deleted successfully.\n",
      "\n",
      "Employee Record Management Application\n",
      "1. Add Employee\n",
      "2. Update Employee\n",
      "3. Delete Employee\n",
      "4. Display Employee\n",
      "5. List All Employees\n",
      "6. Exit\n"
     ]
    },
    {
     "name": "stdin",
     "output_type": "stream",
     "text": [
      "Enter your choice (1-6):  5\n"
     ]
    },
    {
     "name": "stdout",
     "output_type": "stream",
     "text": [
      "All Employees List\n",
      "{'Employee ID': '103', 'Name': 'Ahmed', 'Position': 'Head of Marketing', 'Salary': 99999999.0, 'Department': 'Central Marketing', 'Age': 34}\n",
      "{'Employee ID': '104', 'Name': 'Eman', 'Position': 'HR Manager', 'Salary': 226262.0, 'Department': 'HR', 'Age': 25}\n",
      "{'Employee ID': '101', 'Name': 'Alice', 'Position': 'I.T', 'Salary': 33733.0, 'Department': 'Production', 'Age': 30}\n",
      "\n",
      "Employee Record Management Application\n",
      "1. Add Employee\n",
      "2. Update Employee\n",
      "3. Delete Employee\n",
      "4. Display Employee\n",
      "5. List All Employees\n",
      "6. Exit\n"
     ]
    },
    {
     "name": "stdin",
     "output_type": "stream",
     "text": [
      "Enter your choice (1-6):  6\n"
     ]
    },
    {
     "name": "stdout",
     "output_type": "stream",
     "text": [
      "Exiting application\n"
     ]
    }
   ],
   "source": [
    "#Employee Bio-Data Management System\n",
    "\n",
    "import json\n",
    "import os\n",
    "\n",
    "class Employee:\n",
    "    def __init__(self, filename='employees.json'):\n",
    "        self.filename = filename\n",
    "        self.employee = self.read_employee_data()\n",
    "\n",
    "    def read_employee_data(self):\n",
    "        if os.path.exists(self.filename):\n",
    "            with open(self.filename, 'r') as file:\n",
    "                return json.load(file)\n",
    "        return {}\n",
    "\n",
    "    def save_employee_data(self):\n",
    "        with open(self.filename, 'w') as file:\n",
    "            json.dump(self.employee, file, indent=4)\n",
    "\n",
    "    def add_employee(self, id, name, salary, position, department, age):\n",
    "        if id in self.employee:\n",
    "            raise ValueError(f\"Employee with ID {id} already exists\")\n",
    "        self.employee[id] = {\n",
    "            \"Employee ID\": id,\n",
    "            \"Name\": name,\n",
    "            \"Position\": position,\n",
    "            \"Salary\": salary,\n",
    "            \"Department\": department,\n",
    "            \"Age\": age\n",
    "        }\n",
    "        self.save_employee_data()\n",
    "\n",
    "    def update_employee(self, id, name=None, position=None, salary=None, department=None, age=None):\n",
    "        if id not in self.employee:\n",
    "            raise ValueError(f\"Employee with ID {id} does not exist\")\n",
    "        if name is not None:\n",
    "            self.employee[id][\"Name\"] = name\n",
    "        if position is not None:\n",
    "            self.employee[id][\"Position\"] = position\n",
    "        if salary is not None:\n",
    "            self.employee[id][\"Salary\"] = salary\n",
    "        if department is not None:\n",
    "            self.employee[id][\"Department\"] = department\n",
    "        if age is not None:\n",
    "            self.employee[id][\"Age\"] = age\n",
    "        self.save_employee_data()\n",
    "\n",
    "    def delete_employee(self, id):\n",
    "        if id not in self.employee:\n",
    "            raise ValueError(f\"Employee with ID {id} does not exist\")\n",
    "        del self.employee[id]\n",
    "        self.save_employee_data()\n",
    "\n",
    "    def display_employee(self, id):\n",
    "        if id not in self.employee:\n",
    "            raise ValueError(f\"Employee with ID {id} does not exist\")\n",
    "        return self.employee[id]\n",
    "        \n",
    "\n",
    "    def list_employee(self):\n",
    "        return list(self.employee.values())\n",
    "\n",
    "def run():\n",
    "    record = Employee()\n",
    "\n",
    "    while True:\n",
    "        print(\"\\nEmployee Record Management Application\")\n",
    "        print(\"1. Add Employee\")\n",
    "        print(\"2. Update Employee\")\n",
    "        print(\"3. Delete Employee\")\n",
    "        print(\"4. Display Employee\")\n",
    "        print(\"5. List All Employees\")\n",
    "        print(\"6. Exit\")\n",
    "\n",
    "        select = input(\"Enter your choice (1-6): \")\n",
    "\n",
    "        if select == \"1\":\n",
    "            try:\n",
    "                id = input(\"Enter Employee ID: \")\n",
    "                name = input(\"Enter Employee Name: \")\n",
    "                position = input(\"Enter Employee Position: \")\n",
    "                salary = input(\"Enter Employee Salary: \")\n",
    "                department = input(\"Enter Employee Department: \")\n",
    "                age = input(\"Enter Employee Age: \")\n",
    "                record.add_employee(id, name, salary, position, department, age)\n",
    "                print(\"Employee added successfully\")\n",
    "            except ValueError as e:\n",
    "                print(f\"Error: {e}\")\n",
    "\n",
    "        elif select == \"2\":\n",
    "            try:\n",
    "                id = input(\"Enter Employee ID: \")\n",
    "                name = input(\"Enter New Employee Name (leave empty to keep current name): \")\n",
    "                position = input(\"Enter New Employee Position (leave empty to keep current position): \")\n",
    "                salary = input(\"Enter New Employee Salary (leave empty to keep current salary): \")\n",
    "                department = input(\"Enter New Employee Department (leave empty to keep current department): \")\n",
    "                age = input(\"Enter New Employee Age (leave empty to keep current age): \")\n",
    "                record.update_employee(id, name if name else None, position if position else None, salary if salary else None, department if department else None, age if age else None)\n",
    "                print(\"Employee updated successfully\")\n",
    "            except ValueError as e:\n",
    "                print(f\"Error: {e}\")\n",
    "\n",
    "        elif select == \"3\":\n",
    "            try:\n",
    "                id = input(\"Enter Employee ID to delete: \")\n",
    "                record.delete_employee(id)\n",
    "                print(\"Employee deleted successfully.\")\n",
    "            except ValueError as e:\n",
    "                print(f\"Error: {e}\")\n",
    "\n",
    "        elif select == \"4\":\n",
    "            try:\n",
    "                id = input(\"Enter Employee ID to display record: \")\n",
    "                employee = record.display_employee(id)\n",
    "                print(\"Employee Details:\", employee)\n",
    "            except ValueError as e:\n",
    "                print(f\"Error: {e}\")\n",
    "\n",
    "        elif select == \"5\":\n",
    "            employees = record.list_employee()\n",
    "            if employees:\n",
    "                print(\"All Employees List\")\n",
    "                for emp in employees:\n",
    "                    print(emp)\n",
    "            else:\n",
    "                print(\"No Employees found\")\n",
    "\n",
    "        elif select == \"6\":\n",
    "            print(\"Exiting application\")\n",
    "            break\n",
    "\n",
    "        else:\n",
    "            print(\"Invalid choice. Please enter a number between 1 and 6.\")\n",
    "\n",
    "run()"
   ]
  },
  {
   "cell_type": "code",
   "execution_count": null,
   "id": "5086d1dd-f198-436e-8637-0d2bfa42f101",
   "metadata": {},
   "outputs": [],
   "source": []
  },
  {
   "cell_type": "code",
   "execution_count": null,
   "id": "593d82e1-344f-417b-903f-a433ea87bfd1",
   "metadata": {},
   "outputs": [],
   "source": []
  }
 ],
 "metadata": {
  "kernelspec": {
   "display_name": "Python 3 (ipykernel)",
   "language": "python",
   "name": "python3"
  },
  "language_info": {
   "codemirror_mode": {
    "name": "ipython",
    "version": 3
   },
   "file_extension": ".py",
   "mimetype": "text/x-python",
   "name": "python",
   "nbconvert_exporter": "python",
   "pygments_lexer": "ipython3",
   "version": "3.12.4"
  }
 },
 "nbformat": 4,
 "nbformat_minor": 5
}
